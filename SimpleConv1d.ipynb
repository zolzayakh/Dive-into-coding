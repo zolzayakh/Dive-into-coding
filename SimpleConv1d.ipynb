{
  "nbformat": 4,
  "nbformat_minor": 0,
  "metadata": {
    "colab": {
      "name": "SimpleConv1d.ipynb",
      "provenance": [],
      "authorship_tag": "ABX9TyPpASSYY/rw+3CDN+QJo7Ft",
      "include_colab_link": true
    },
    "kernelspec": {
      "name": "python3",
      "display_name": "Python 3"
    },
    "language_info": {
      "name": "python"
    }
  },
  "cells": [
    {
      "cell_type": "markdown",
      "metadata": {
        "id": "view-in-github",
        "colab_type": "text"
      },
      "source": [
        "<a href=\"https://colab.research.google.com/github/zolzayakh/Dive-into-coding/blob/main/SimpleConv1d.ipynb\" target=\"_parent\"><img src=\"https://colab.research.google.com/assets/colab-badge.svg\" alt=\"Open In Colab\"/></a>"
      ]
    },
    {
      "cell_type": "markdown",
      "source": [
        "**Implementation of one-dimensional convolutional neural network from scratch**\n",
        "\n"
      ],
      "metadata": {
        "id": "3VggzqwjFai5"
      }
    },
    {
      "cell_type": "code",
      "execution_count": 1,
      "metadata": {
        "colab": {
          "base_uri": "https://localhost:8080/"
        },
        "id": "acY-pJ3gFUDo",
        "outputId": "a4d8a1a8-ce12-4273-f9ae-adee7f746a5f"
      },
      "outputs": [
        {
          "output_type": "stream",
          "name": "stdout",
          "text": [
            "Downloading data from https://storage.googleapis.com/tensorflow/tf-keras-datasets/mnist.npz\n",
            "11493376/11490434 [==============================] - 0s 0us/step\n",
            "11501568/11490434 [==============================] - 0s 0us/step\n",
            "(60000, 28, 28)\n",
            "(10000, 28, 28)\n",
            "uint8\n",
            "1.0\n",
            "0.0\n",
            "(60000,)\n",
            "(60000, 10)\n",
            "float64\n",
            "(48000, 784)\n",
            "(12000, 784)\n"
          ]
        }
      ],
      "source": [
        "# data preperation\n",
        "from keras.datasets import mnist\n",
        "import numpy as np\n",
        "(X_train, y_train), (X_test, y_test) = mnist.load_data()\n",
        "print(X_train.shape) # (60000, 28, 28)\n",
        "print(X_test.shape) # (10000, 28, 28)\n",
        "print(X_train[0].dtype) # uint8\n",
        "\n",
        "#flattened\n",
        "X_train = X_train.reshape(-1, 784)\n",
        "X_test = X_test.reshape(-1, 784)\n",
        "\n",
        "#Preprocessing \n",
        "X_train = X_train.astype(float)\n",
        "X_test = X_test.astype(float)\n",
        "X_train /= 255\n",
        "X_test /= 255\n",
        "print(X_train.max()) # 1.0\n",
        "print(X_train.min()) # 0.0\n",
        "\n",
        "from sklearn.preprocessing import OneHotEncoder\n",
        "enc = OneHotEncoder(handle_unknown='ignore', sparse=False)\n",
        "y_train_one_hot = enc.fit_transform(y_train[:, np.newaxis])\n",
        "y_test_one_hot = enc.transform(y_test[:, np.newaxis])\n",
        "print(y_train.shape) # (60000,)\n",
        "print(y_train_one_hot.shape) # (60000, 10)\n",
        "print(y_train_one_hot.dtype) # float64\n",
        "\n",
        "from sklearn.model_selection import train_test_split\n",
        "\n",
        "X_train, X_val, y_train, y_val = train_test_split(X_train, y_train_one_hot, test_size=0.2)\n",
        "print(X_train.shape) # (48000, 784)\n",
        "print(X_val.shape) # (12000, 784)"
      ]
    },
    {
      "cell_type": "code",
      "source": [
        "#import libraries\n",
        "import math\n",
        "from sklearn.metrics import accuracy_score\n",
        "from sklearn.metrics import precision_score\n",
        "from sklearn.metrics import recall_score\n",
        "from sklearn.metrics import f1_score\n",
        "from sklearn.metrics import confusion_matrix\n",
        "import matplotlib.pyplot as plt\n",
        "%matplotlib inline\n",
        "from sklearn.preprocessing import OneHotEncoder"
      ],
      "metadata": {
        "id": "FMtY_11TFu4D"
      },
      "execution_count": 2,
      "outputs": []
    },
    {
      "cell_type": "code",
      "source": [
        "#Definition of various activation functions\n",
        "class Sigmoid:\n",
        "    def forward(self, A):\n",
        "        self.A = A\n",
        "        return self.sigmoid(A)\n",
        "    def backward(self, dZ):\n",
        "        _sig = self.sigmoid(self.A)\n",
        "        return dZ * (1 - _sig)*_sig\n",
        "    def sigmoid(self, X):\n",
        "        return 1 / (1 + np.exp(-X))\n",
        "\n",
        "class Tanh:\n",
        "    def forward(self, A):\n",
        "        self.A = A\n",
        "        return np.tanh(A)\n",
        "    def backward(self, dZ):\n",
        "        return dZ * (1 - (np.tanh(self.A))**2)\n",
        "\n",
        "class Softmax:\n",
        "    def forward(self, X):\n",
        "        self.Z = np.exp(X) / np.sum(np.exp(X), axis=1).reshape(-1,1)\n",
        "        return self.Z\n",
        "    def backward(self, Y):\n",
        "        self.loss = self.loss_func(Y)\n",
        "        return self.Z - Y\n",
        "    def loss_func(self, Y, Z=None):\n",
        "        if Z is None:\n",
        "            Z = self.Z\n",
        "        return (-1)*np.average(np.sum(Y*np.log(Z), axis=1))\n",
        "\n",
        "class ReLU:\n",
        "    def forward(self, A):\n",
        "        self.A = A\n",
        "        return np.clip(A, 0, None)\n",
        "    def backward(self, dZ):\n",
        "        return dZ * np.clip(np.sign(self.A), 0, None)"
      ],
      "metadata": {
        "id": "h6PWx6zVFw5x"
      },
      "execution_count": 3,
      "outputs": []
    },
    {
      "cell_type": "code",
      "source": [
        "#Defining FC layer class\n",
        "class FC:\n",
        "    def __init__(self, n_nodes1, n_nodes2, initializer, optimizer):\n",
        "        self.optimizer = optimizer\n",
        "        self.W = initializer.W(n_nodes1, n_nodes2)\n",
        "        self.B = initializer.B(n_nodes2)\n",
        "    def forward(self, X):\n",
        "        self.X = X\n",
        "        A = X@self.W + self.B\n",
        "        return A\n",
        "    def backward(self, dA):\n",
        "        dZ = dA@self.W.T\n",
        "        self.dB = np.sum(dA, axis=0)\n",
        "        self.dW = self.X.T@dA\n",
        "        self.optimizer.update(self)\n",
        "        return dZ"
      ],
      "metadata": {
        "id": "Ti3znDQlFyz0"
      },
      "execution_count": 4,
      "outputs": []
    },
    {
      "cell_type": "code",
      "source": [
        "#Defining a Weight Initialization Class\n",
        "class XavierInitializer:\n",
        "    def W(self, n_nodes1, n_nodes2):\n",
        "        self.sigma = math.sqrt(1 / n_nodes1)\n",
        "        W = self.sigma * np.random.randn(n_nodes1, n_nodes2)\n",
        "        return W\n",
        "    def B(self, n_nodes2):\n",
        "        B = self.sigma * np.random.randn(n_nodes2)\n",
        "        return B\n",
        "    \n",
        "class HeInitializer():\n",
        "    def W(self, n_nodes1, n_nodes2):\n",
        "        self.sigma = math.sqrt(2 / n_nodes1)\n",
        "        W = self.sigma * np.random.randn(n_nodes1, n_nodes2)\n",
        "        return W\n",
        "    def B(self, n_nodes2):\n",
        "        B = self.sigma * np.random.randn(n_nodes2)\n",
        "        return B\n",
        "        \n",
        "class SimpleInitializer:\n",
        "    def __init__(self, sigma):\n",
        "        self.sigma = sigma\n",
        "    def W(self, *shape):\n",
        "        W = self.sigma * np.random.randn(*shape)\n",
        "        return W\n",
        "    def B(self, *shape):\n",
        "        B = self.sigma * np.random.randn(*shape)\n",
        "        return B"
      ],
      "metadata": {
        "id": "oZs1x1qaF0df"
      },
      "execution_count": 5,
      "outputs": []
    },
    {
      "cell_type": "code",
      "source": [
        "#Defining Gradient Update Class\n",
        "class SGD:\n",
        "    def __init__(self, lr):\n",
        "        self.lr = lr\n",
        "    def update(self, layer):\n",
        "        layer.W -= self.lr * layer.dW\n",
        "        layer.B -= self.lr * layer.dB\n",
        "        return\n",
        "\n",
        "class AdaGrad:\n",
        "    def __init__(self, lr):\n",
        "        self.lr = lr\n",
        "        self.HW = 1\n",
        "        self.HB = 1\n",
        "    def update(self, layer):\n",
        "        self.HW += layer.dW**2\n",
        "        self.HB += layer.dB**2\n",
        "        layer.W -= self.lr * np.sqrt(1/self.HW) * layer.dW\n",
        "        layer.B -= self.lr * np.sqrt(1/self.HB) * layer.dB"
      ],
      "metadata": {
        "id": "ezMgafHvF2bE"
      },
      "execution_count": 6,
      "outputs": []
    },
    {
      "cell_type": "code",
      "source": [
        "#Defining a mini-batch generation iterator\n",
        "class GetMiniBatch:\n",
        "    def __init__(self, X, y, batch_size = 20, seed=0):\n",
        "        self.batch_size = batch_size\n",
        "        np.random.seed(seed)\n",
        "        shuffle_index = np.random.permutation(np.arange(X.shape[0]))\n",
        "        self._X = X[shuffle_index]\n",
        "        self._y = y[shuffle_index]\n",
        "        self._stop = np.ceil(X.shape[0]/self.batch_size).astype(np.int)\n",
        "    def __len__(self):\n",
        "        return self._stop\n",
        "    def __getitem__(self,item):\n",
        "        p0 = item*self.batch_size\n",
        "        p1 = item*self.batch_size + self.batch_size\n",
        "        return self._X[p0:p1], self._y[p0:p1] \n",
        "    def __iter__(self):\n",
        "        self._counter = 0\n",
        "        return self\n",
        "    def __next__(self):\n",
        "        if self._counter >= self._stop:\n",
        "            raise StopIteration()\n",
        "        p0 = self._counter*self.batch_size\n",
        "        p1 = self._counter*self.batch_size + self.batch_size\n",
        "        self._counter += 1\n",
        "        return self._X[p0:p1], self._y[p0:p1]"
      ],
      "metadata": {
        "id": "HwdYpPiNF4hj"
      },
      "execution_count": 7,
      "outputs": []
    },
    {
      "cell_type": "markdown",
      "source": [
        "**[Problem 1] Creating a one-dimensional convolutional layer class with a limited number of channels**"
      ],
      "metadata": {
        "id": "fKxnpuv8F6f1"
      }
    },
    {
      "cell_type": "code",
      "source": [
        "#SimpleConv1d for a one-dimensional convolutional layer with a limited number of channels.\n",
        "class SimpleConv1d():\n",
        "    def forward(self, x, w, b):\n",
        "        a = []\n",
        "        for i in range(len(w) - 1):\n",
        "            a.append((x[i:i+len(w)] @ w) + b[0])\n",
        "        return np.array(a)\n",
        "    def backward(self, x, w, da):\n",
        "        db = np.sum(da)\n",
        "        dw = []\n",
        "        for i in range(len(w)):\n",
        "            dw.append(da @ x[i:i+len(da)])\n",
        "        dw = np.array(dw)\n",
        "        dx = []\n",
        "        new_w = np.insert(w[::-1], 0, 0)\n",
        "        new_w = np.append(new_w, 0)\n",
        "        for i in range(len(new_w)-1):\n",
        "            dx.append(new_w[i:i+len(da)] @ da)\n",
        "        dx = np.array(dx[::-1])\n",
        "        return db, dw, dx"
      ],
      "metadata": {
        "id": "yrJSoQYYF7xg"
      },
      "execution_count": 8,
      "outputs": []
    },
    {
      "cell_type": "markdown",
      "source": [
        "**[Problem 2] Calculation of output size after one-dimensional convolution**"
      ],
      "metadata": {
        "id": "xI7QLxX1F_AQ"
      }
    },
    {
      "cell_type": "code",
      "source": [
        "def output_size_calculation(n_in, F, P=0, S=1):\n",
        "    n_out = int((n_in + 2*P - F) / S + 1)\n",
        "    \n",
        "    return n_out"
      ],
      "metadata": {
        "id": "B86PlYG6GAq6"
      },
      "execution_count": 9,
      "outputs": []
    },
    {
      "cell_type": "markdown",
      "source": [
        "**[Problem 3] One-dimensional convolutional layer experiment with small arrays**"
      ],
      "metadata": {
        "id": "7cmWfuclGDsT"
      }
    },
    {
      "cell_type": "code",
      "source": [
        "x = np.array([1,2,3,4])\n",
        "w = np.array([3, 5, 7])\n",
        "b = np.array([1])\n",
        "\n",
        "simple_conv_1d = SimpleConv1d()\n",
        "simple_conv_1d.forward(x, w, b)"
      ],
      "metadata": {
        "colab": {
          "base_uri": "https://localhost:8080/"
        },
        "id": "SbK4L5ltGFe2",
        "outputId": "664a9d6c-00eb-47c7-833d-c10134643c38"
      },
      "execution_count": 10,
      "outputs": [
        {
          "output_type": "execute_result",
          "data": {
            "text/plain": [
              "array([35, 50])"
            ]
          },
          "metadata": {},
          "execution_count": 10
        }
      ]
    },
    {
      "cell_type": "code",
      "source": [
        "delta_a = np.array([10, 20])\n",
        "delta_b, delta_w, delta_x = simple_conv_1d.backward(x, w, delta_a)\n",
        "print (delta_b)\n",
        "print (delta_w)\n",
        "print (delta_x)"
      ],
      "metadata": {
        "colab": {
          "base_uri": "https://localhost:8080/"
        },
        "id": "5mArRgLrGHDH",
        "outputId": "15bde23d-f270-4820-9331-06b40dc8d3b5"
      },
      "execution_count": 11,
      "outputs": [
        {
          "output_type": "stream",
          "name": "stdout",
          "text": [
            "30\n",
            "[ 50  80 110]\n",
            "[ 30 110 170 140]\n"
          ]
        }
      ]
    },
    {
      "cell_type": "code",
      "source": [
        "x = np.array([1, 2, 3, 4])\n",
        "w = np.array([3, 5, 7])\n",
        "\n",
        "a = np.empty((2, 3))\n",
        "\n",
        "indexes0 = np.array([0, 1, 2]).astype(int)\n",
        "indexes1 = np.array([1, 2, 3]).astype(int)\n",
        "\n",
        "a[0] = x[indexes0]*w # x[indexes0]は([1, 2, 3])である\n",
        "a[1] = x[indexes1]*w # x[indexes1]は([2, 3, 4])である\n",
        "\n",
        "a = a.sum(axis=1)\n",
        "print (a)"
      ],
      "metadata": {
        "colab": {
          "base_uri": "https://localhost:8080/"
        },
        "id": "Ed95X-ASGIhy",
        "outputId": "61418c3f-d6e2-4eff-b524-e3ae8dca7657"
      },
      "execution_count": 12,
      "outputs": [
        {
          "output_type": "stream",
          "name": "stdout",
          "text": [
            "[34. 49.]\n"
          ]
        }
      ]
    },
    {
      "cell_type": "code",
      "source": [
        "x = np.array([1, 2, 3, 4])\n",
        "indexes = np.array([[0, 1, 2], [1, 2, 3]]).astype(int)\n",
        "\n",
        "print(x[indexes]) # ([[1, 2, 3], [2, 3, 4]])"
      ],
      "metadata": {
        "colab": {
          "base_uri": "https://localhost:8080/"
        },
        "id": "WZ5K-gVGGKRe",
        "outputId": "2f88e5b7-57d9-4bd2-bc14-52d19e799170"
      },
      "execution_count": 13,
      "outputs": [
        {
          "output_type": "stream",
          "name": "stdout",
          "text": [
            "[[1 2 3]\n",
            " [2 3 4]]\n"
          ]
        }
      ]
    },
    {
      "cell_type": "markdown",
      "source": [
        "**[Problem 4] Creating a one-dimensional convolutional layer class that does not limit the number of channels**"
      ],
      "metadata": {
        "id": "AiERUNAOGXJR"
      }
    },
    {
      "cell_type": "code",
      "source": [
        "#SimpleConv1d for a one-dimensional convolutional layer with a unlimited number of channels.\n",
        "class Conv1d:\n",
        "    def __init__(self, b_size, initializer, optimizer, n_in_channels=1, n_out_channels=1, pa=0, stride = 1):\n",
        "        self.b_size = b_size # filter size\n",
        "        self.optimizer = optimizer\n",
        "        self.pa = pa\n",
        "        self.W = initializer.W(n_out_channels, n_in_channels, b_size)\n",
        "        self.B = initializer.B(n_out_channels)\n",
        "        self.n_in_channels = n_in_channels # number of input channels\n",
        "        self.n_out_channels = n_out_channels # number of output channels\n",
        "        self.n_out = None\n",
        "        self.stride = stride\n",
        "\n",
        "    def forward(self, X):\n",
        "        self.n_samples = X.shape[0]\n",
        "        self.n_in = X.shape[-1]\n",
        "        self.n_out = output_size_calculation(self.n_in, self.b_size, self.pa, self.stride)\n",
        "        X = X.reshape(self.n_samples, self.n_in_channels, self.n_in)\n",
        "        self.X = np.pad(X, ((0,0), (0,0), ((self.b_size-1), 0)))\n",
        "        self.X1 = np.zeros((self.n_samples, self.n_in_channels, self.b_size, self.n_in+(self.b_size-1)))\n",
        "        for i in range(self.b_size):\n",
        "            self.X1[:, :, i] = np.roll(self.X, -i, axis=-1)\n",
        "        A = np.sum(self.X1[:, np.newaxis, :, :, self.b_size-1-self.pa:self.n_in+self.pa:self.stride]*self.W[:, :, :, np.newaxis], axis=(2, 3)) + self.B.reshape(-1,1)\n",
        "        return A\n",
        "\n",
        "    def backward(self, dA):\n",
        "        self.dW = np.sum(dA[:, :, np.newaxis, np.newaxis]*self.X1[:, np.newaxis, :, :, self.b_size-1-self.pa:self.n_in+self.pa:self.stride], axis=(0, -1))\n",
        "        self.dB = np.sum(dA, axis=(0, -1))\n",
        "        self.dA = np.pad(dA, ((0,0), (0,0), (0, (self.b_size-1))))\n",
        "        self.dA1 = np.zeros((self.n_samples, self.n_out_channels, self.b_size, self.dA.shape[-1]))\n",
        "        for i in range(self.b_size):\n",
        "            self.dA1[:, :, i] = np.roll(self.dA, -i, axis=-1)\n",
        "        dX = np.sum(self.W[:, :, :, np.newaxis]*self.dA1[:, :, np.newaxis], axis=(1,3))\n",
        "        self.optimizer.update(self)\n",
        "        return dX"
      ],
      "metadata": {
        "id": "qv2IR22vGVkW"
      },
      "execution_count": 14,
      "outputs": []
    },
    {
      "cell_type": "code",
      "source": [
        "x = np.array([[1, 2, 3, 4], [2, 3, 4, 5]]) # shape(2, 4)で、（入力チャンネル数、特徴量数）である。\n",
        "w = np.ones((3, 2, 3)) # 例の簡略化のため全て1とする。(出力チャンネル数、入力チャンネル数、フィルタサイズ)である。\n",
        "b = np.array([1, 2, 3]) # （出力チャンネル数）\n",
        "\n",
        "#it gives an error: cannot reshape array of size 8 into shape (2,2,4)\n",
        "#However it works on problem 8\n",
        "con1 = Conv1d(b_size=3, initializer=SimpleInitializer(0.01), optimizer=SGD(0.01), n_in_channels=2, n_out_channels=3)\n",
        "con1.W = w\n",
        "con1.B = b\n",
        "# a = con1.forward(x)\n",
        "print (a)\n",
        "print (a.shape)"
      ],
      "metadata": {
        "id": "tn1xnmp9Gcep"
      },
      "execution_count": null,
      "outputs": []
    },
    {
      "cell_type": "code",
      "source": [
        "#got idea from SimpleConv2D\n",
        "a = np.zeros([b.shape[0], output_size_calculation(x.shape[1],w.shape[2])])\n",
        "\n",
        "for out_ch in range(w.shape[0]):\n",
        "    for in_ch in range(w.shape[1]):\n",
        "        for i in range(a.shape[1]):\n",
        "            a[out_ch,i] += np.sum(x[in_ch, i:i+w.shape[2]]* w[out_ch,in_ch,:])\n",
        "\n",
        "a += b.reshape(-1,1)\n",
        "print(\"Result:\", a)"
      ],
      "metadata": {
        "colab": {
          "base_uri": "https://localhost:8080/"
        },
        "id": "kE21SFtGGrqD",
        "outputId": "2cf27b05-4c25-46b4-d9c7-69510aaad5e7"
      },
      "execution_count": 18,
      "outputs": [
        {
          "output_type": "stream",
          "name": "stdout",
          "text": [
            "Result: [[16. 22.]\n",
            " [17. 23.]\n",
            " [18. 24.]]\n"
          ]
        }
      ]
    },
    {
      "cell_type": "markdown",
      "source": [
        "**[Question 8] Learning and Estimation**"
      ],
      "metadata": {
        "id": "hKZYTiKMGzoG"
      }
    },
    {
      "cell_type": "code",
      "source": [
        "class ScratchCNNClassifier:\n",
        "    def __init__(self, num_epoch=10, lr=0.01, batch_size=20, n_features=784, n_nodes1=400, n_nodes2=200, n_output=10, verbose=True, Activater=Tanh, Optimizer=AdaGrad):\n",
        "        self.num_epoch = num_epoch\n",
        "        self.lr = lr\n",
        "        self.verbose = verbose  \n",
        "        self.batch_size = batch_size \n",
        "        self.n_features = n_features \n",
        "        self.n_nodes2 = n_nodes2 \n",
        "        self.n_output = n_output \n",
        "        self.Activater = Activater\n",
        "        if Activater == Sigmoid or Activater == Tanh:\n",
        "            self.Initializer = XavierInitializer\n",
        "        elif Activater == ReLU:\n",
        "            self.Initializer = HeInitializer\n",
        "        self.Optimizer = Optimizer\n",
        "\n",
        "    def forward_propagation(self, X):\n",
        "        A1 = self.Conv1d.forward(X)\n",
        "        A1 = A1.reshape(A1.shape[0], A1.shape[-1])\n",
        "        Z1 = self.activation1.forward(A1)\n",
        "        A2 = self.FC2.forward(Z1)\n",
        "        Z2 = self.activation2.forward(A2)\n",
        "        A3 = self.FC3.forward(Z2)\n",
        "        Z3 = self.activation3.forward(A3)\n",
        "        return Z3\n",
        "\n",
        "    def back_propagation(self,y_true):\n",
        "        dA3 = self.activation3.backward(y_true) \n",
        "        dZ2 = self.FC3.backward(dA3)\n",
        "        dA2 = self.activation2.backward(dZ2)\n",
        "        dZ1 = self.FC2.backward(dA2)\n",
        "        dA1 = self.activation1.backward(dZ1)\n",
        "        dA1 = dA1[:, np.newaxis]\n",
        "        dZ0 = self.Conv1d.backward(dA1) \n",
        "\n",
        "    def predict(self, X):\n",
        "        return np.argmax(self.forward_propagation(X), axis=1)\n",
        "\n",
        "    def fit(self, X, y, X_val=None, y_val=None):\n",
        "        self.Conv1d = Conv1d(b_size=7, initializer=SimpleInitializer(0.01), optimizer=self.Optimizer(self.lr), n_in_channels=1, n_out_channels=1, pa=1, stride=1)\n",
        "        self.Conv1d.n_out = output_size_calculation(X.shape[-1], self.Conv1d.b_size, self.Conv1d.pa, self.Conv1d.stride)\n",
        "        self.activation1 = self.Activater()\n",
        "        self.FC2 = FC(1*self.Conv1d.n_out, self.n_nodes2, self.Initializer(), self.Optimizer(self.lr))\n",
        "        self.activation2 = self.Activater()\n",
        "        self.FC3 = FC(self.n_nodes2, self.n_output, self.Initializer(), self.Optimizer(self.lr))\n",
        "        self.activation3 = Softmax()\n",
        "        self.loss = []\n",
        "        self.loss_epoch = [self.activation3.loss_func(y, self.forward_propagation(X))]\n",
        "        for _ in range(self.num_epoch):\n",
        "            get_mini_batch = GetMiniBatch(X, y, batch_size=self.batch_size)\n",
        "            for mini_X, mini_y in get_mini_batch:\n",
        "                self.forward_propagation(mini_X)\n",
        "                self.back_propagation(mini_y)\n",
        "                self.loss.append(self.activation3.loss)\n",
        "            self.loss_epoch.append(self.activation3.loss_func(y, self.forward_propagation(X)))"
      ],
      "metadata": {
        "id": "iwJQhPKsGriY"
      },
      "execution_count": 20,
      "outputs": []
    },
    {
      "cell_type": "code",
      "source": [
        "cnn = ScratchCNNClassifier(num_epoch=1, lr=0.01, batch_size=1, n_features=784, n_nodes1=400, n_nodes2=400, n_output=10, verbose=True, Activater=Sigmoid, Optimizer=SGD)\n",
        "cnn.fit(X_train, y_train)"
      ],
      "metadata": {
        "colab": {
          "base_uri": "https://localhost:8080/"
        },
        "id": "-uyW1ed1G3zk",
        "outputId": "c8d857ff-6437-481a-fa58-8b388d17b1d2"
      },
      "execution_count": 21,
      "outputs": [
        {
          "output_type": "stream",
          "name": "stderr",
          "text": [
            "/usr/local/lib/python3.7/dist-packages/ipykernel_launcher.py:9: DeprecationWarning: `np.int` is a deprecated alias for the builtin `int`. To silence this warning, use `int` by itself. Doing this will not modify any behavior and is safe. When replacing `np.int`, you may wish to use e.g. `np.int64` or `np.int32` to specify the precision. If you wish to review your current use, check the release note link for additional information.\n",
            "Deprecated in NumPy 1.20; for more details and guidance: https://numpy.org/devdocs/release/1.20.0-notes.html#deprecations\n",
            "  if __name__ == '__main__':\n"
          ]
        }
      ]
    },
    {
      "cell_type": "code",
      "source": [
        "y_pred = cnn.predict(X_test)\n",
        "accuracy_score(y_test, y_pred)"
      ],
      "metadata": {
        "colab": {
          "base_uri": "https://localhost:8080/"
        },
        "id": "SSgIiBE8G7H9",
        "outputId": "d8c50f1b-0c51-408d-d06a-ccdaa1a651b9"
      },
      "execution_count": 22,
      "outputs": [
        {
          "output_type": "execute_result",
          "data": {
            "text/plain": [
              "0.9048"
            ]
          },
          "metadata": {},
          "execution_count": 22
        }
      ]
    }
  ]
}