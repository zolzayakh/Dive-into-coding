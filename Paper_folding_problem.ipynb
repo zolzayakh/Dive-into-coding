{
  "nbformat": 4,
  "nbformat_minor": 0,
  "metadata": {
    "colab": {
      "name": "Paper folding problem.ipynb",
      "provenance": [],
      "authorship_tag": "ABX9TyOeKK04sN2tcqa9w7IX2clC",
      "include_colab_link": true
    },
    "kernelspec": {
      "name": "python3",
      "display_name": "Python 3"
    },
    "language_info": {
      "name": "python"
    }
  },
  "cells": [
    {
      "cell_type": "markdown",
      "metadata": {
        "id": "view-in-github",
        "colab_type": "text"
      },
      "source": [
        "<a href=\"https://colab.research.google.com/github/zolzayakh/Dive-into-coding/blob/main/Paper_folding_problem.ipynb\" target=\"_parent\"><img src=\"https://colab.research.google.com/assets/colab-badge.svg\" alt=\"Open In Colab\"/></a>"
      ]
    },
    {
      "cell_type": "markdown",
      "source": [
        "**[Problem1] Implementation using exponentiation arithmetic operators**"
      ],
      "metadata": {
        "id": "3DiZuuBAVNj9"
      }
    },
    {
      "cell_type": "code",
      "execution_count": null,
      "metadata": {
        "id": "9m5WkSCdDt9f",
        "colab": {
          "base_uri": "https://localhost:8080/"
        },
        "outputId": "ce0a730e-842c-4dd5-fa88-b73283f19e98"
      },
      "outputs": [
        {
          "output_type": "stream",
          "name": "stdout",
          "text": [
            "厚さ： 703687441.77664メートル\n"
          ]
        }
      ],
      "source": [
        "# 紙を1回折った時の厚さを計算するコード\n",
        "\n",
        "THICKNESS = 0.00008\n",
        "for i in range(43):\n",
        "  folded_thickness = THICKNESS * (2 ** (i+1))\n",
        "print(\"厚さ： {}メートル\".format(folded_thickness))"
      ]
    },
    {
      "cell_type": "markdown",
      "source": [
        "**[Problem 2] Unit conversion**"
      ],
      "metadata": {
        "id": "WVakLeF9Vuh-"
      }
    },
    {
      "cell_type": "code",
      "source": [
        "print(\"厚さ： {:.2f}キロメートル\".format(folded_thickness / 1000))"
      ],
      "metadata": {
        "colab": {
          "base_uri": "https://localhost:8080/"
        },
        "id": "eThUqBAbVuXe",
        "outputId": "89a23d24-d139-4737-9b92-48068553e493"
      },
      "execution_count": null,
      "outputs": [
        {
          "output_type": "stream",
          "name": "stdout",
          "text": [
            "厚さ： 703687.44キロメートル\n"
          ]
        }
      ]
    },
    {
      "cell_type": "markdown",
      "source": [
        "**[Problem 3] Created using a for statement**"
      ],
      "metadata": {
        "id": "ZmOPVf38VuNn"
      }
    },
    {
      "cell_type": "code",
      "source": [
        "\n",
        "THICKNESS = [0.00008]\n",
        "for i in range(43):\n",
        "  folded_thickness = THICKNESS[i] * 2\n",
        "  THICKNESS.append(folded_thickness)\n",
        "  \n",
        "plt.title(\"Thickness of folded paper\")\n",
        "plt.xlabel(\"Number of folds\")\n",
        "plt.ylabel(\"Thickness [m]\")\n",
        "plt.plot(THICKNESS,  marker='*', color='red')\n",
        "plt.show()\n",
        "\n"
      ],
      "metadata": {
        "id": "PiaaWh-aWEvb",
        "colab": {
          "base_uri": "https://localhost:8080/",
          "height": 295
        },
        "outputId": "566504fd-eb80-4470-b701-affd90151676"
      },
      "execution_count": 48,
      "outputs": [
        {
          "output_type": "display_data",
          "data": {
            "text/plain": [
              "<Figure size 432x288 with 1 Axes>"
            ],
            "image/png": "[encoded data removed]"
          },
          "metadata": {
            "needs_background": "light"
          }
        }
      ]
    },
    {
      "cell_type": "markdown",
      "source": [
        "**[Problem 4] Comparison of calculation time**"
      ],
      "metadata": {
        "id": "m_DrA5H7hFZy"
      }
    },
    {
      "cell_type": "code",
      "source": [
        "import time\n",
        "start = time.time()\n",
        "#####\n",
        "# ここに比較したいコードを貼り付ける\n",
        "\n",
        "THICKNESS = 0.00008\n",
        "for i in range(43):\n",
        "  folded_thickness = THICKNESS * (2 ** (i+1))\n",
        "\n",
        "print(\"厚さ： {}メートル\".format(folded_thickness))\n",
        "#####\n",
        "elapsed_time = time.time() - start\n",
        "print(\"time : {}[s]\".format(elapsed_time))"
      ],
      "metadata": {
        "colab": {
          "base_uri": "https://localhost:8080/"
        },
        "id": "SJRm_vf1XDLB",
        "outputId": "391eed2a-50fa-4d35-a65a-9e2db4aa1e56"
      },
      "execution_count": null,
      "outputs": [
        {
          "output_type": "stream",
          "name": "stdout",
          "text": [
            "厚さ： 703687441.77664メートル\n",
            "time : 0.0014598369598388672[s]\n"
          ]
        }
      ]
    },
    {
      "cell_type": "code",
      "source": [
        "%%timeit\n",
        "#####\n",
        "THICKNESS = 0.00008\n",
        "for i in range(43):\n",
        "  folded_thickness = THICKNESS * (2 ** (i+1))\n",
        "print(\"厚さ： {}メートル\".format(folded_thickness))\n",
        "#####"
      ],
      "metadata": {
        "id": "h3WhkS-BgVuA"
      },
      "execution_count": null,
      "outputs": []
    },
    {
      "cell_type": "markdown",
      "source": [
        "**4. Graph visualization**"
      ],
      "metadata": {
        "id": "1B0FlUMPhM6x"
      }
    },
    {
      "cell_type": "code",
      "source": [
        "# 紙を1回折った時の厚さを計算するコード\n",
        "import matplotlib.pyplot as plt\n",
        "\n",
        "THICKNESS = 0.00008\n",
        "fold_list = []\n",
        "y = []\n",
        "for i in range(43):\n",
        "  folded_thickness = THICKNESS * (2 ** (i+1))\n",
        "  fold_list.append(folded_thickness)\n",
        "  y.append(i)\n",
        "print(\"厚さ： {}メートル\".format(folded_thickness))\n",
        "plt.tick_params(labelsize=20)\n",
        "plt.title(\"Thickness of folded paper\")\n",
        "plt.xlabel(\"Number of folds\")\n",
        "plt.ylabel(\"Thickness [m]\")\n",
        "plt.plot(y, fold_list,  marker='*', color='red')\n",
        "plt.show()\n"
      ],
      "metadata": {
        "colab": {
          "base_uri": "https://localhost:8080/",
          "height": 322
        },
        "id": "-uLWEkmEgscg",
        "outputId": "6888ceaf-9c75-4e26-ed1b-9db6750b081f"
      },
      "execution_count": null,
      "outputs": [
        {
          "output_type": "stream",
          "name": "stdout",
          "text": [
            "厚さ： 703687441.77664メートル\n"
          ]
        },
        {
          "output_type": "display_data",
          "data": {
            "text/plain": [
              "<Figure size 432x288 with 1 Axes>"
            ],
            "image/png": "[encoded data removed]"
          },
          "metadata": {
            "needs_background": "light"
          }
        }
      ]
    }
  ]
}