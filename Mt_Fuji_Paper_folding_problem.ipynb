{
  "nbformat": 4,
  "nbformat_minor": 0,
  "metadata": {
    "colab": {
      "name": "Mt.Fuji Paper folding problem.ipynb",
      "provenance": [],
      "authorship_tag": "ABX9TyMDPFTup4IoVRlfQZIVoZTS",
      "include_colab_link": true
    },
    "kernelspec": {
      "name": "python3",
      "display_name": "Python 3"
    },
    "language_info": {
      "name": "python"
    }
  },
  "cells": [
    {
      "cell_type": "markdown",
      "metadata": {
        "id": "view-in-github",
        "colab_type": "text"
      },
      "source": [
        "<a href=\"https://colab.research.google.com/github/zolzayakh/Dive-into-coding/blob/main/Mt_Fuji_Paper_folding_problem.ipynb\" target=\"_parent\"><img src=\"https://colab.research.google.com/assets/colab-badge.svg\" alt=\"Open In Colab\"/></a>"
      ]
    },
    {
      "cell_type": "markdown",
      "source": [
        "**[Problem 1] How many diffractions do you need to cross Mt. Fuji?**"
      ],
      "metadata": {
        "id": "W_vopWaS1B7D"
      }
    },
    {
      "cell_type": "code",
      "execution_count": 1,
      "metadata": {
        "id": "0AvmJ34G0yFc",
        "outputId": "cf52566b-d771-49a3-b1e1-e942d0b0801e",
        "colab": {
          "base_uri": "https://localhost:8080/"
        }
      },
      "outputs": [
        {
          "output_type": "stream",
          "name": "stdout",
          "text": [
            "25.49228352379865 times\n"
          ]
        }
      ],
      "source": [
        "import math\n",
        "\n",
        "height = 3776\n",
        "thickness = 0.00008\n",
        "ntimes = math.log2(height / thickness)\n",
        "print(\"{} times\".format(ntimes))"
      ]
    },
    {
      "cell_type": "markdown",
      "source": [
        "**[Problem 2] Function corresponding to arbitrary thickness**\n",
        "Proxima Centauri"
      ],
      "metadata": {
        "id": "u2A2_STW1HEM"
      }
    },
    {
      "cell_type": "code",
      "source": [
        "import math\n",
        "\n",
        "distance = 4.0175e16\n",
        "thickness = float(input(\"Enter thickness in meter:\"))\n",
        "ntimes = math.log2(distance / thickness)\n",
        "print(\"{} times must be folded\".format(ntimes))"
      ],
      "metadata": {
        "id": "oIdcLhMR1GpW",
        "outputId": "f2c28dc6-de56-4ab9-a245-947bb465de77",
        "colab": {
          "base_uri": "https://localhost:8080/"
        }
      },
      "execution_count": 2,
      "outputs": [
        {
          "output_type": "stream",
          "name": "stdout",
          "text": [
            "Enter thickness in meter:0.00008\n",
            "68.76678801653497 times must be folded\n"
          ]
        }
      ]
    },
    {
      "cell_type": "markdown",
      "source": [
        "**[Problem 3] Required paper length**"
      ],
      "metadata": {
        "id": "8e6Z6E_y1KQf"
      }
    },
    {
      "cell_type": "code",
      "source": [
        "import math\n",
        "\n",
        "distance = float(input(\"Enter distance in meter:\")) #for Mt.Fuji = 3776\n",
        "thickness = float(input(\"Enter thickness in meter:\"))\n",
        "ntimes = math.log2(distance / thickness)\n",
        "L = (math.pi*thickness / 6) * (math.pow(2, ntimes) + 4)*(math.pow(4, ntimes) - 1)\n",
        "\n",
        "print(\"{} meter \".format(L))"
      ],
      "metadata": {
        "id": "QOtoftsU1QlI",
        "outputId": "20c3dea1-dc8e-40df-e7f8-79bda69aa51b",
        "colab": {
          "base_uri": "https://localhost:8080/"
        }
      },
      "execution_count": 3,
      "outputs": [
        {
          "output_type": "stream",
          "name": "stdout",
          "text": [
            "Enter distance in meter:3776\n",
            "Enter thickness in meter:0.00008\n",
            "4.404682835838536e+18 meter \n"
          ]
        }
      ]
    },
    {
      "cell_type": "code",
      "source": [
        "import math\n",
        "\n",
        "distance = float(input(\"Enter distance in meter:\")) #for Proxima Centauri=4.0175e16\n",
        "thickness = float(input(\"Enter thickness in meter:\"))\n",
        "ntimes = math.log2(distance / thickness)\n",
        "L = (math.pi*thickness / 6) * (math.pow(2, ntimes) + 4) * (math.pow(4, ntimes) - 1)\n",
        "\n",
        "print(\"{} meter \".format(L))"
      ],
      "metadata": {
        "id": "oUewtZ0N1Sqd",
        "outputId": "fb0b557f-52cc-419a-9389-f65df7c5838e",
        "colab": {
          "base_uri": "https://localhost:8080/"
        }
      },
      "execution_count": 4,
      "outputs": [
        {
          "output_type": "stream",
          "name": "stdout",
          "text": [
            "Enter distance in meter:4.0175e16\n",
            "Enter thickness in meter:0.00008\n",
            "5.305011193977489e+57 meter \n"
          ]
        }
      ]
    },
    {
      "cell_type": "code",
      "source": [
        "import math\n",
        "\n",
        "distance = float(input(\"Enter distance in meter:\")) #for Moon=3.84399e8\n",
        "thickness = float(input(\"Enter thickness in meter:\"))\n",
        "ntimes = math.log2(distance / thickness)\n",
        "L = (math.pi*thickness / 6) * (math.pow(2, ntimes) + 4)*(math.pow(4, ntimes) - 1)\n",
        "\n",
        "print(\"{} meter \".format(L))"
      ],
      "metadata": {
        "id": "8gKXX04w1UlI",
        "outputId": "999caefe-4975-4bde-e449-60aa27f6805b",
        "colab": {
          "base_uri": "https://localhost:8080/"
        }
      },
      "execution_count": 5,
      "outputs": [
        {
          "output_type": "stream",
          "name": "stdout",
          "text": [
            "Enter distance in meter:3.84399e8\n",
            "Enter thickness in meter:0.00008\n",
            "4.646922140619205e+33 meter \n"
          ]
        }
      ]
    }
  ]
}