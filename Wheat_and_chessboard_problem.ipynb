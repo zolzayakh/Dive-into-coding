{
  "nbformat": 4,
  "nbformat_minor": 0,
  "metadata": {
    "colab": {
      "name": "Wheat and chessboard problem.ipynb",
      "provenance": [],
      "authorship_tag": "ABX9TyNnzw5mUjIx/3bvurfGmmnT",
      "include_colab_link": true
    },
    "kernelspec": {
      "name": "python3",
      "display_name": "Python 3"
    },
    "language_info": {
      "name": "python"
    }
  },
  "cells": [
    {
      "cell_type": "markdown",
      "metadata": {
        "id": "view-in-github",
        "colab_type": "text"
      },
      "source": [
        "<a href=\"https://colab.research.google.com/github/zolzayakh/Dive-into-coding/blob/main/Wheat_and_chessboard_problem.ipynb\" target=\"_parent\"><img src=\"https://colab.research.google.com/assets/colab-badge.svg\" alt=\"Open In Colab\"/></a>"
      ]
    },
    {
      "cell_type": "markdown",
      "source": [
        "**2. Wheat and chess board problem**"
      ],
      "metadata": {
        "id": "VFHtXlxMA-w7"
      }
    },
    {
      "cell_type": "code",
      "execution_count": 1,
      "metadata": {
        "colab": {
          "base_uri": "https://localhost:8080/"
        },
        "id": "zFXRMuWDA8jX",
        "outputId": "c464aaa0-4037-40fb-be14-873194e32696"
      },
      "outputs": [
        {
          "output_type": "stream",
          "name": "stdout",
          "text": [
            "square 1  grains = 1  total= 1\n",
            "square 2  grains = 2  total= 3\n",
            "square 3  grains = 4  total= 7\n",
            "square 4  grains = 8  total= 15\n"
          ]
        }
      ],
      "source": [
        "grains_sum = 0\n",
        "grains = 1\n",
        "for square in range(1, 5):\n",
        "    grains_sum += grains\n",
        "    print(\"square {}  grains = {}  total= {}\".format(square, grains, grains_sum))\n",
        "    grains *= 2"
      ]
    },
    {
      "cell_type": "markdown",
      "source": [
        "**[Problem 1] Number of wheat on a 2x2 chess board**"
      ],
      "metadata": {
        "id": "jtm3zj9jBJJZ"
      }
    },
    {
      "cell_type": "code",
      "source": [
        "import numpy as np\n",
        "n_squares = 4\n",
        "small_board_list = [1]\n",
        "\n",
        "for _ in range(n_squares - 1):\n",
        "    small_board_list.append(2*small_board_list[-1])\n",
        "print(\"Arrange wheat on a plate of 4 squares (list)：{}\".format(small_board_list))\n",
        "small_board_ndarray = np.array(small_board_list)\n",
        "print(\"Arrange wheat on a plate of 4 squares (ndarray)：{}\".format(small_board_ndarray))\n"
      ],
      "metadata": {
        "colab": {
          "base_uri": "https://localhost:8080/"
        },
        "id": "WtX2TuNzBHs7",
        "outputId": "8f31abdf-1f13-4a10-921f-45b904bc6c76"
      },
      "execution_count": 3,
      "outputs": [
        {
          "output_type": "stream",
          "name": "stdout",
          "text": [
            "Arrange wheat on a plate of 4 squares (list)：[1, 2, 4, 8]\n",
            "Arrange wheat on a plate of 4 squares (ndarray)：[1 2 4 8]\n"
          ]
        }
      ]
    },
    {
      "cell_type": "code",
      "source": [
        "from matplotlib import checkdep_dvipng\n",
        "import numpy as np\n",
        "\n",
        "def n_wheats(n, m):\n",
        "  n_squares = n*m\n",
        "  small_board_list = [1]\n",
        "  for _ in range(n_squares - 1):\n",
        "    small_board_list.append(2*small_board_list[-1])\n",
        "  small_board_ndarray = np.array(small_board_list)\n",
        "  return(small_board_ndarray[-1])\n",
        "\n",
        "chessboard = n_wheats(8, 8)\n",
        "# board = chessboard.reshape(4, 4)\n",
        "print(chessboard)\n"
      ],
      "metadata": {
        "colab": {
          "base_uri": "https://localhost:8080/"
        },
        "id": "hFYSTfVPM-Wp",
        "outputId": "b4ef30ff-9ac7-4473-d923-734ac9a28a08"
      },
      "execution_count": 4,
      "outputs": [
        {
          "output_type": "stream",
          "name": "stdout",
          "text": [
            "9.223372036854776e+18\n"
          ]
        }
      ]
    },
    {
      "cell_type": "markdown",
      "source": [
        "**[Problem 3] Total number of wheat**"
      ],
      "metadata": {
        "id": "BX43owcrbBlw"
      }
    },
    {
      "cell_type": "code",
      "source": [
        "import numpy as np\n",
        "import matplotlib.pyplot as plt\n",
        "%matplotlib inline\n",
        "\n",
        "# Define n_wheats() function\n",
        "def n_wheats(n, m):\n",
        "  n_squares = n*m\n",
        "  small_board_list = [1]\n",
        "  sum = 0\n",
        "  for _ in range(1, n_squares):\n",
        "    sum += small_board_list[-1]\n",
        "    # print(\"square {}  wheat = {}  sum= {}\".format(_, small_board_list[-1], sum))\n",
        "    small_board_list.append(2*small_board_list[-1])\n",
        "    small_board_ndarray = np.array(small_board_list)\n",
        "  sum1 = sum + small_board_list[-1]\n",
        "  return(small_board_ndarray, sum1)\n",
        "  \n",
        "small_board_ndarray, sum1 = n_wheats(8, 8)\n",
        "print('\\n'\"Total wheats:\", sum1)\n",
        "re_board = small_board_ndarray.reshape(8, 8)\n",
        "# print(re_board)\n",
        "\n",
        "# Calculate average of columns for bar chart\n",
        "avg = []\n",
        "column = len(re_board)\n",
        "for i in range(column):\n",
        "  avg.append(np.mean(re_board[:, i]))\n",
        "print(avg)\n",
        "plt.xlabel(\"Columns\")\n",
        "plt.ylabel(\"Number\")\n",
        "plt.title(\"Number in each column\")\n",
        "plt.bar(np.arange(8), avg)\n",
        "plt.show()\n"
      ],
      "metadata": {
        "colab": {
          "base_uri": "https://localhost:8080/",
          "height": 347
        },
        "id": "BoThgL5uV83K",
        "outputId": "b17a1704-c753-4b12-eaa1-f1e3e3def0e9"
      },
      "execution_count": 5,
      "outputs": [
        {
          "output_type": "stream",
          "name": "stdout",
          "text": [
            "\n",
            "Total wheats: 18446744073709551615\n",
            "[9042521604759584.0, 1.808504320951917e+16, 3.617008641903834e+16, 7.234017283807667e+16, 1.4468034567615334e+17, 2.893606913523067e+17, 5.787213827046134e+17, 1.1574427654092268e+18]\n"
          ]
        },
        {
          "output_type": "display_data",
          "data": {
            "text/plain": [
              "<Figure size 432x288 with 1 Axes>"
            ],
            "image/png": "[encoded data removed]"
          },
          "metadata": {
            "needs_background": "light"
          }
        }
      ]
    },
    {
      "cell_type": "code",
      "source": [
        "plt.xlabel(\"column\")\n",
        "plt.ylabel(\"row\")\n",
        "plt.title(\"heatmap\")\n",
        "plt.pcolor(re_board.reshape(8,8))\n",
        "plt.show()"
      ],
      "metadata": {
        "colab": {
          "base_uri": "https://localhost:8080/",
          "height": 295
        },
        "id": "hmRwKE_9HqPX",
        "outputId": "f3784333-5832-4ab0-bd3f-e618e66ea673"
      },
      "execution_count": 6,
      "outputs": [
        {
          "output_type": "display_data",
          "data": {
            "text/plain": [
              "<Figure size 432x288 with 1 Axes>"
            ],
            "image/png": "[encoded data removed]"
          },
          "metadata": {
            "needs_background": "light"
          }
        }
      ]
    },
    {
      "cell_type": "markdown",
      "source": [
        "**[Problem 5] How many times the second half is the first half**"
      ],
      "metadata": {
        "id": "XVQMTW9dHkBS"
      }
    },
    {
      "cell_type": "code",
      "source": [
        "import numpy as np\n",
        "import matplotlib.pyplot as plt\n",
        "%matplotlib inline\n",
        "\n",
        "# Define n_wheats() function\n",
        "def n_wheats(n, m):\n",
        "  n_squares = n*m\n",
        "  small_board_list = [1]\n",
        "  sum = 0\n",
        "  for _ in range(1, n_squares):\n",
        "    sum += small_board_list[-1]\n",
        "    # print(\"square {}  wheat = {}  sum= {}\".format(_, small_board_list[-1], sum))\n",
        "    small_board_list.append(2*small_board_list[-1])\n",
        "    small_board_ndarray = np.array(small_board_list)\n",
        "  sum1 = sum + small_board_list[-1]\n",
        "  return(small_board_ndarray, sum1)\n",
        "  \n",
        "small_board_ndarray, sum1 = n_wheats(8, 8)\n",
        "re_board = small_board_ndarray.reshape(8, 8)\n",
        "first_half = np.sum(re_board[:4, :].ravel())\n",
        "second_half = np.sum(re_board[4:, :].ravel())\n",
        "print(\"{} times larger than first half.\".format(second_half / first_half))\n",
        "# print(\"厚さ： {}m\".format(folded_thickness))\n",
        "\n"
      ],
      "metadata": {
        "colab": {
          "base_uri": "https://localhost:8080/"
        },
        "id": "rWmIIeVHHj2a",
        "outputId": "3bd2ba1a-8f40-425e-d47f-8975d588d052"
      },
      "execution_count": 7,
      "outputs": [
        {
          "output_type": "stream",
          "name": "stdout",
          "text": [
            "4294967296.0 times larger than first half.\n"
          ]
        }
      ]
    },
    {
      "cell_type": "markdown",
      "source": [
        "**[Problem 6] Expansion to n × m mass by other calculation methods**"
      ],
      "metadata": {
        "id": "vDmX5ArNObVA"
      }
    },
    {
      "cell_type": "code",
      "source": [
        "import numpy as np\n",
        "\n",
        "def n_wheats(n, m):\n",
        "  n_squares = n*m\n",
        "  small_board_list = np.array([1]).astype(np.uint64)\n",
        "  for _ in range(n_squares - 1):\n",
        "    small_board_list = np.append(small_board_list, 2*small_board_list[-1])\n",
        "  # small_board_ndarray = np.array(small_board_list[-1])\n",
        "  return(small_board_list[-1])\n",
        "\n",
        "chessboard = n_wheats(8, 8)\n",
        "print(chessboard)"
      ],
      "metadata": {
        "id": "szL3_IYDOd6M",
        "colab": {
          "base_uri": "https://localhost:8080/"
        },
        "outputId": "c4544e10-6426-4eca-955b-d9933d0efcb1"
      },
      "execution_count": 8,
      "outputs": [
        {
          "output_type": "stream",
          "name": "stdout",
          "text": [
            "9.223372036854776e+18\n"
          ]
        }
      ]
    },
    {
      "cell_type": "code",
      "source": [
        "import numpy as np\n",
        "\n",
        "def n_wheats(n, m):\n",
        "  matricsx = n*m\n",
        "  n_squares = np.arange(matricsx).astype(np.uint64)\n",
        "  small_board_list = 2**n_squares\n",
        "  return(small_board_list[-1])\n",
        "\n",
        "chessboard = n_wheats(8, 8)\n",
        "print(chessboard)\n"
      ],
      "metadata": {
        "colab": {
          "base_uri": "https://localhost:8080/"
        },
        "id": "iHSl1Zd98ZAy",
        "outputId": "542f66bc-6f87-4986-c09a-19d19cc31840"
      },
      "execution_count": 9,
      "outputs": [
        {
          "output_type": "stream",
          "name": "stdout",
          "text": [
            "9223372036854775808\n"
          ]
        }
      ]
    },
    {
      "cell_type": "markdown",
      "source": [
        "**[Problem 7] Comparing calculation times**"
      ],
      "metadata": {
        "id": "nmESaL5q-kG2"
      }
    },
    {
      "cell_type": "code",
      "source": [
        "%%timeit\n",
        "import numpy as np\n",
        "\n",
        "def n_wheats(n, m):\n",
        "  n_squares = n*m\n",
        "  small_board_list = [1]\n",
        "  for _ in range(n_squares - 1):\n",
        "    small_board_list.append(2*small_board_list[-1])\n",
        "  small_board_ndarray = np.array(small_board_list)\n",
        "  return(small_board_ndarray[-1])\n",
        "\n",
        "chessboard = n_wheats(8, 8)\n",
        "# board = chessboard.reshape(4, 4)\n",
        "print(chessboard)\n",
        "\n",
        "##10000 loops, best of 5: 311 µs per loop"
      ],
      "metadata": {
        "id": "1anyy9Bc-tTU"
      },
      "execution_count": null,
      "outputs": []
    },
    {
      "cell_type": "code",
      "source": [
        "%%timeit\n",
        "import numpy as np\n",
        "\n",
        "def n_wheats(n, m):\n",
        "  matricsx = n*m\n",
        "  n_squares = np.arange(matricsx).astype(np.uint64)\n",
        "  small_board_list = 2**n_squares\n",
        "  return(small_board_list[-1])\n",
        "\n",
        "chessboard = n_wheats(8, 8)\n",
        "print(chessboard)\n",
        "\n",
        "# 1000 loops, best of 5: 421 µs per loop"
      ],
      "metadata": {
        "id": "1etWaMXi_YmQ"
      },
      "execution_count": null,
      "outputs": []
    },
    {
      "cell_type": "code",
      "source": [
        "%%timeit\n",
        "import numpy as np\n",
        "\n",
        "def n_wheats(n, m):\n",
        "  n_squares = n*m\n",
        "  small_board_list = np.array([1]).astype(np.uint64)\n",
        "  for _ in range(n_squares - 1):\n",
        "    small_board_list = np.append(small_board_list, 2*small_board_list[-1])\n",
        "  # small_board_ndarray = np.array(small_board_list[-1])\n",
        "  return(small_board_list[-1])\n",
        "\n",
        "chessboard = n_wheats(8, 8)\n",
        "print(chessboard)\n",
        "\n",
        "##1000 loops, best of 5: 1.67 ms per loop"
      ],
      "metadata": {
        "id": "_RTSHCiG_0tu"
      },
      "execution_count": null,
      "outputs": []
    }
  ]
}