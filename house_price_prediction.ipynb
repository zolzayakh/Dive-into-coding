{
  "nbformat": 4,
  "nbformat_minor": 0,
  "metadata": {
    "colab": {
      "name": "house price prediction.ipynb",
      "provenance": [],
      "mount_file_id": "1PN3dw5szdUcovgUYZSeU2-L-StS5Yk-u",
      "authorship_tag": "ABX9TyMkTwtb/qIR7psu7vKJgozN",
      "include_colab_link": true
    },
    "kernelspec": {
      "name": "python3",
      "display_name": "Python 3"
    },
    "language_info": {
      "name": "python"
    }
  },
  "cells": [
    {
      "cell_type": "markdown",
      "metadata": {
        "id": "view-in-github",
        "colab_type": "text"
      },
      "source": [
        "<a href=\"https://colab.research.google.com/github/zolzayakh/Dive-into-coding/blob/main/house_price_prediction.ipynb\" target=\"_parent\"><img src=\"https://colab.research.google.com/assets/colab-badge.svg\" alt=\"Open In Colab\"/></a>"
      ]
    },
    {
      "cell_type": "markdown",
      "source": [
        "**[Problem 1] Selection of features for practice**\n"
      ],
      "metadata": {
        "id": "rVdwEJA8ZFMx"
      }
    },
    {
      "cell_type": "code",
      "source": [
        "#import data\n",
        "import pandas as pd\n",
        "data = pd.read_csv('/content/drive/MyDrive/Colab Notebooks/train.csv')\n",
        "\n",
        "print (data.shape)\n",
        "print(data)"
      ],
      "metadata": {
        "colab": {
          "base_uri": "https://localhost:8080/"
        },
        "id": "kN0rvrv1ZFBA",
        "outputId": "1e55370c-d97d-4eca-dbb0-bb7573f851ff"
      },
      "execution_count": 16,
      "outputs": [
        {
          "output_type": "stream",
          "name": "stdout",
          "text": [
            "(1460, 81)\n",
            "        Id  MSSubClass MSZoning  LotFrontage  LotArea Street Alley LotShape  \\\n",
            "0        1          60       RL         65.0     8450   Pave   NaN      Reg   \n",
            "1        2          20       RL         80.0     9600   Pave   NaN      Reg   \n",
            "2        3          60       RL         68.0    11250   Pave   NaN      IR1   \n",
            "3        4          70       RL         60.0     9550   Pave   NaN      IR1   \n",
            "4        5          60       RL         84.0    14260   Pave   NaN      IR1   \n",
            "...    ...         ...      ...          ...      ...    ...   ...      ...   \n",
            "1455  1456          60       RL         62.0     7917   Pave   NaN      Reg   \n",
            "1456  1457          20       RL         85.0    13175   Pave   NaN      Reg   \n",
            "1457  1458          70       RL         66.0     9042   Pave   NaN      Reg   \n",
            "1458  1459          20       RL         68.0     9717   Pave   NaN      Reg   \n",
            "1459  1460          20       RL         75.0     9937   Pave   NaN      Reg   \n",
            "\n",
            "     LandContour Utilities  ... PoolArea PoolQC  Fence MiscFeature MiscVal  \\\n",
            "0            Lvl    AllPub  ...        0    NaN    NaN         NaN       0   \n",
            "1            Lvl    AllPub  ...        0    NaN    NaN         NaN       0   \n",
            "2            Lvl    AllPub  ...        0    NaN    NaN         NaN       0   \n",
            "3            Lvl    AllPub  ...        0    NaN    NaN         NaN       0   \n",
            "4            Lvl    AllPub  ...        0    NaN    NaN         NaN       0   \n",
            "...          ...       ...  ...      ...    ...    ...         ...     ...   \n",
            "1455         Lvl    AllPub  ...        0    NaN    NaN         NaN       0   \n",
            "1456         Lvl    AllPub  ...        0    NaN  MnPrv         NaN       0   \n",
            "1457         Lvl    AllPub  ...        0    NaN  GdPrv        Shed    2500   \n",
            "1458         Lvl    AllPub  ...        0    NaN    NaN         NaN       0   \n",
            "1459         Lvl    AllPub  ...        0    NaN    NaN         NaN       0   \n",
            "\n",
            "     MoSold YrSold  SaleType  SaleCondition  SalePrice  \n",
            "0         2   2008        WD         Normal     208500  \n",
            "1         5   2007        WD         Normal     181500  \n",
            "2         9   2008        WD         Normal     223500  \n",
            "3         2   2006        WD        Abnorml     140000  \n",
            "4        12   2008        WD         Normal     250000  \n",
            "...     ...    ...       ...            ...        ...  \n",
            "1455      8   2007        WD         Normal     175000  \n",
            "1456      2   2010        WD         Normal     210000  \n",
            "1457      5   2010        WD         Normal     266500  \n",
            "1458      4   2010        WD         Normal     142125  \n",
            "1459      6   2008        WD         Normal     147500  \n",
            "\n",
            "[1460 rows x 81 columns]\n"
          ]
        }
      ]
    },
    {
      "cell_type": "code",
      "execution_count": 2,
      "metadata": {
        "colab": {
          "base_uri": "https://localhost:8080/"
        },
        "id": "g0zsuIJ9ZAHS",
        "outputId": "617a2f5c-2b51-4260-cbb6-ac6421ce97cf"
      },
      "outputs": [
        {
          "output_type": "stream",
          "name": "stdout",
          "text": [
            "      GrLivArea  YearBuilt\n",
            "0          1710       2003\n",
            "1          1262       1976\n",
            "2          1786       2001\n",
            "3          1717       1915\n",
            "4          2198       2000\n",
            "...         ...        ...\n",
            "1455       1647       1999\n",
            "1456       2073       1978\n",
            "1457       2340       1941\n",
            "1458       1078       1950\n",
            "1459       1256       1965\n",
            "\n",
            "[1460 rows x 2 columns]\n",
            "0       208500\n",
            "1       181500\n",
            "2       223500\n",
            "3       140000\n",
            "4       250000\n",
            "         ...  \n",
            "1455    175000\n",
            "1456    210000\n",
            "1457    266500\n",
            "1458    142125\n",
            "1459    147500\n",
            "Name: SalePrice, Length: 1460, dtype: int64\n"
          ]
        }
      ],
      "source": [
        "X = data.loc[:,['GrLivArea', 'YearBuilt']]\n",
        "print (X)\n",
        "Y = data.loc[:, 'SalePrice']\n",
        "print (Y)"
      ]
    },
    {
      "cell_type": "markdown",
      "source": [
        "**[Problem 2] Estimation and evaluation by linear regression**"
      ],
      "metadata": {
        "id": "a0VZcdTbZ24X"
      }
    },
    {
      "cell_type": "code",
      "source": [
        "from sklearn.preprocessing import StandardScaler\n",
        "from sklearn.model_selection import train_test_split\n",
        "\n",
        "# Preprocessing\n",
        "X_train, X_test, y_train, y_test = train_test_split(X, Y, test_size=0.25, random_state=42)\n",
        "print (X_train.shape)\n",
        "print (y_train.shape)\n",
        "\n",
        "scaler = StandardScaler()\n",
        "scaler.fit(X_train)\n",
        "#transform both X_train and X_test\n",
        "X_train_standard= scaler.transform(X_train)\n",
        "X_test_standard= scaler.transform(X_test)\n",
        "print (X_train_standard)"
      ],
      "metadata": {
        "colab": {
          "base_uri": "https://localhost:8080/"
        },
        "id": "5s8lc-AfZEDH",
        "outputId": "cc287597-43b7-4593-af10-b206d88f6e90"
      },
      "execution_count": 3,
      "outputs": [
        {
          "output_type": "stream",
          "name": "stdout",
          "text": [
            "(1095, 2)\n",
            "(1095,)\n",
            "[[-0.0516431   1.1078893 ]\n",
            " [-0.42169218  0.09454315]\n",
            " [-0.51847425 -1.04955734]\n",
            " ...\n",
            " [-1.26616316 -0.52653997]\n",
            " [-0.19966273 -1.73601764]\n",
            " [ 0.04513897  1.17326647]]\n"
          ]
        }
      ]
    },
    {
      "cell_type": "markdown",
      "source": [
        "Linear regression"
      ],
      "metadata": {
        "id": "4x8Gmv_yZESX"
      }
    },
    {
      "cell_type": "code",
      "source": [
        "from sklearn.linear_model import LinearRegression\n",
        "\n",
        "reg = LinearRegression().fit(X_train_standard, y_train)\n",
        "prediction_reg = reg.predict(X_test_standard)\n",
        "print (prediction_reg)"
      ],
      "metadata": {
        "colab": {
          "base_uri": "https://localhost:8080/"
        },
        "id": "S7gRjWwcZ_NY",
        "outputId": "4781fee0-c3d9-4d52-ad6c-69478310de57"
      },
      "execution_count": 5,
      "outputs": [
        {
          "output_type": "stream",
          "name": "stdout",
          "text": [
            "[130445.81129484 306448.48211547  88741.8324304  168496.12883044\n",
            " 227800.17562669  99569.77660678 186783.75135889 182056.44293199\n",
            "  97457.76006969 151960.15487048 131192.06213304 117840.59883308\n",
            "  84836.16656948 216795.82827786 226861.55984128 114354.20681418\n",
            " 233851.35381306 133362.46046392  79874.70207186 210577.06633379\n",
            " 191870.90367478 226090.42299764 212412.50678112 110884.40546558\n",
            " 201927.81582345 174203.21527073 201986.40724909  98966.53796861\n",
            " 215765.02046252 202036.70333958  89328.69003012 262849.94729844\n",
            " 298537.18710817 112359.4779443  228219.23983687 138826.88586649\n",
            " 193790.24081689 251971.28776788 295988.88679508 105906.0358499\n",
            " 109778.31073838 259246.16279641 128015.21791264 267761.22052149\n",
            " 120958.43236415 148080.42317423 117119.86289586 123196.13671951\n",
            " 291177.99612118 167205.33559564 109342.34141015 191233.74998457\n",
            " 165931.23784706 312885.33353957 153459.9037228  236198.05050049\n",
            " 227305.82450466 150577.06478984 148691.32825201  99779.46593575\n",
            "  41908.28123103 142631.95954642 303271.95234284 218346.29248436\n",
            " 241126.12402567 217207.01641657 103023.09210101 282763.42576117\n",
            " 151347.99200163 204417.00063129 190395.62156422 148909.31291613\n",
            " 109266.84486644 114136.32696599 298503.06242428 185852.90682901\n",
            " 288412.3400395  286585.29974324 133781.5246741  113398.58109478\n",
            " 132482.33128823  85867.18401666 113566.37448433  87266.65513576\n",
            " 176893.68925647 147434.55488518 256153.42490264 190227.93299059\n",
            " 153459.9037228  211624.67445127 159871.97395739 187671.86142196\n",
            " 127277.57685736 307957.15519846 200260.27358158 197661.78199392\n",
            " 134569.67145172 203863.84845177 215496.73970791 266864.71030734\n",
            " 192138.97479755 237220.56298068 247487.68853792  74812.43576141\n",
            " 179843.83421391 161908.49395078 132909.79564947 215815.42136894\n",
            " 155991.08928599 230080.19518517  77226.12402554 143704.55848526\n",
            " 126808.42618853 126062.90906179 243062.15665399  81818.92521941\n",
            " 105545.66788129 120824.23957888 223174.08827632 224405.87082179\n",
            " 139656.29968801 153459.9037228  215396.25234284 160115.26389064\n",
            " 188560.07630097 120296.28785257 279042.24877601  83335.99845347\n",
            " 167096.02881582 199120.36861826 221128.8536841  263302.50729697\n",
            " 232954.63396707 183624.33633616  61452.78194223 235778.98629031\n",
            " 236415.93034868 131132.94662778 225654.66330125 462621.78079998\n",
            " 323361.51953025 110146.86922622 214893.50106974 148029.70782004\n",
            " 120891.44078743 119181.58334246 193111.50563501 203947.64033062\n",
            " 112292.27673574  59894.23203242  97474.97963552 159427.60447808\n",
            " 257511.62897784 238461.37457275  87979.20055375 208808.93191094\n",
            " 154298.34659092 149244.69006338  42352.54589441 135340.38903167\n",
            " 192214.05207757 147291.64750107 230197.16840462 166333.71138694\n",
            " 127194.09942627 195818.3606592  247663.46281485 315751.3721704\n",
            " 340743.81242979 229233.98106152 253446.3602466  105906.0358499\n",
            " 133228.68694235 193387.66246108 327384.47305838 174161.63377907\n",
            " 150066.12299751 218790.66196366 130965.67731785 216075.09234063\n",
            " 150719.65772617 116617.11162276 133664.02737505 142087.31233389\n",
            " 256538.99332446 145280.74722458 228881.38434845 215681.12376775\n",
            " 202455.76754976 140050.47789274 166274.91032945  86554.42416553\n",
            " 128283.7082991  149839.52855048 196739.86169472 201266.19539148\n",
            " 191300.53192944 107993.27119747 230322.96103881 111446.27224393\n",
            " 185987.2044302  200142.67146661 110482.45600531 311410.05142901\n",
            " 197485.79808515 126556.94573606 252004.88837216 135331.9888806\n",
            " 154742.82088614 117388.03883455 267283.66970159 165235.59754712\n",
            " 140695.9269181  205615.49702025 148138.38570434 223877.81427956\n",
            " 206646.30483558 133228.37249458 151348.3064494  206629.81898121\n",
            " 126020.48904276 199455.32650182 198609.11237817 113021.7272718\n",
            " 213602.60301901 138717.99835035  90568.97754258  83210.3106352\n",
            " 185610.14097537  74058.41366767  99771.1706006  202045.20830657\n",
            " 107414.60411697 137896.67023214 239156.70042492 109996.40021842\n",
            " 189817.05929965 154432.22492842 248484.89574898 135030.10752171\n",
            "  61402.69548358 310756.62151626 224447.87157714 348898.60700218\n",
            " 216553.06242422 100198.94940961 162855.50988726 162151.25980441\n",
            " 143436.38254657  88884.11091897 245786.02161217 197259.6229018\n",
            " 146445.53819334  50281.06046753 144115.32736029 145322.1190844\n",
            " 105755.46202618 161522.82071303 210392.78708987 258458.33046656\n",
            " 259287.95391992 158136.81124328 128132.50557985 211004.63551096\n",
            " 237572.53079822 256656.28099166 192205.75674242 152403.89545426\n",
            " 116189.64726151 202891.63206207 268783.73300168 186925.71539969\n",
            " 258047.56159153 148230.36810241 143771.75969382 131753.19519994\n",
            " 232837.24148394 250755.99107678 173063.62475518 156611.75712183\n",
            " 236902.09095149  97457.76006969 222687.71804167  63816.48856364\n",
            " 236834.99455886 174538.6972339  241746.37259783 108797.69419762\n",
            " 217390.8763968  210568.66618272 146906.49834294 119030.69507097\n",
            " 146789.00104389 208498.65040098  49401.14092368 167524.01725667\n",
            " 146697.12346174 123908.47250567 220156.6372944   95077.98685759\n",
            " 182089.93872035 216368.36391661 119324.07146287 135273.29263904\n",
            " 195424.28727039 217190.11129851 145632.29577843 282168.37764222\n",
            " 229686.43624413  99595.08187591 178234.67376584 208481.95491476\n",
            "  65651.92901097 281154.57976087 140319.07309512 213150.04302048\n",
            " 184855.4899861  192633.11628774 203109.93117396 113080.31869744\n",
            " 219033.53263322 148364.56088768 134100.10151921  71510.32298642\n",
            " 205372.62635069 195063.91930178 131149.642114   197334.90981366\n",
            " 160173.64568443 119030.69507097 161723.90025909 149982.22630274\n",
            " 127277.57685736 191795.09268331 206780.39280493 127001.21039944\n",
            "  91256.32250737 120439.19523667  91842.86565932 210099.30588205\n",
            " 218631.37354111  97910.52970006 160098.56840442 172627.86505878\n",
            " 249146.83062871 264534.49947429 239433.17169876  78986.27756102\n",
            " 281942.41209072 122601.08860057 213897.02757013 321056.61396633\n",
            " 227029.14359898 174882.16008445 235678.39410932 117136.663198\n",
            " 123028.55296181  33091.86622667 225386.48736256 260578.74715472\n",
            " 232862.65156899 162134.5643182  273133.55871006 235276.23501721\n",
            " 137452.40556876]\n"
          ]
        }
      ]
    },
    {
      "cell_type": "code",
      "source": [
        "from sklearn.metrics import mean_squared_error\n",
        "\n",
        "mse_reg = mean_squared_error(y_test, prediction_reg)\n",
        "print (mse_reg)"
      ],
      "metadata": {
        "colab": {
          "base_uri": "https://localhost:8080/"
        },
        "id": "dlpBV9kWaJvE",
        "outputId": "0ddb9754-0edc-4c72-90b1-349b6c8d5e69"
      },
      "execution_count": 6,
      "outputs": [
        {
          "output_type": "stream",
          "name": "stdout",
          "text": [
            "2314465092.7320137\n"
          ]
        }
      ]
    },
    {
      "cell_type": "code",
      "source": [
        "import matplotlib.pyplot as plt\n",
        "fig, (ax1, ax2) = plt.subplots(1, 2)\n",
        "ax1.scatter(X_test.iloc[:,0], y_test, color='red', alpha=0.3, label= 'Actual')\n",
        "ax1.scatter(X_test.iloc[:,0], prediction_reg, color='blue', alpha=0.3, label = 'Prediction')\n",
        "ax1.set_xlabel('GrLivArea')\n",
        "ax1.set_ylabel('SalePrice')\n",
        "ax1.set_title('Scatter plot of GrLivArea')\n",
        "ax1.legend()\n",
        "\n",
        "ax2.scatter(X_test.iloc[:,1], y_test, color='red', alpha=0.3, label= 'Actual')\n",
        "ax2.scatter(X_test.iloc[:,1], prediction_reg, color='blue', alpha=0.3, label = 'Prediction')\n",
        "ax2.set_xlabel('YearBuilt')\n",
        "ax2.set_ylabel('SalePrice')\n",
        "ax2.set_title('Scatter plot of YearBuilt')\n",
        "ax2.legend()\n",
        "plt.tight_layout()\n",
        "plt.show()\n"
      ],
      "metadata": {
        "colab": {
          "base_uri": "https://localhost:8080/",
          "height": 297
        },
        "id": "N9HrQR9xaNwO",
        "outputId": "ba401cbc-d8f3-4bce-9104-cf17cc7efa5f"
      },
      "execution_count": 8,
      "outputs": [
        {
          "output_type": "display_data",
          "data": {
            "text/plain": [
              "<Figure size 432x288 with 2 Axes>"
            ],
            "image/png": "[encoded data removed]"
          },
          "metadata": {
            "needs_background": "light"
          }
        }
      ]
    },
    {
      "cell_type": "markdown",
      "source": [
        "Comparison of methods"
      ],
      "metadata": {
        "id": "rmaTHnYJZE2J"
      }
    },
    {
      "cell_type": "code",
      "source": [
        "#following models are not tuned\n",
        "#SVM regression\n",
        "from sklearn.svm import SVR\n",
        "regression_SVR = SVR(C=1.0, epsilon=0.2).fit(X_train_standard, y_train)\n",
        "#prediction\n",
        "prediction_SVR = regression_SVR.predict(X_test_standard)\n",
        "\n",
        "#DecisionTree regression\n",
        "from sklearn.tree import DecisionTreeRegressor\n",
        "regression_DS = DecisionTreeRegressor(random_state=0).fit(X_train_standard, y_train)\n",
        "\n",
        "#prediction\n",
        "prediction_DS = regression_DS.predict(X_test_standard)\n",
        "\n",
        "#Random forest regression\n",
        "\n",
        "from sklearn.ensemble import RandomForestRegressor\n",
        "\n",
        "regression_RF = RandomForestRegressor(max_depth=2, random_state=0).fit(X_train_standard, y_train)\n",
        "#prediction\n",
        "prediction_RF = regression_RF.predict(X_test_standard)\n",
        "\n",
        "mse_reg_SVR = mean_squared_error(y_test, prediction_SVR)\n",
        "mse_reg_DS = mean_squared_error(y_test, prediction_DS)\n",
        "mse_reg_RF = mean_squared_error(y_test, prediction_RF)\n",
        "\n",
        "d = {'MSE':[mse_reg, mse_reg_SVR, mse_reg_DS, mse_reg_RF]}\n",
        "evaluation_table = pd.DataFrame(data=d, index=['LR', 'SVR', 'DS', 'RF'])\n",
        "print(evaluation_table)"
      ],
      "metadata": {
        "colab": {
          "base_uri": "https://localhost:8080/"
        },
        "id": "14XJUQbmabQg",
        "outputId": "e36878db-8e99-4bf1-c369-4f662ddfe378"
      },
      "execution_count": 9,
      "outputs": [
        {
          "output_type": "stream",
          "name": "stdout",
          "text": [
            "              MSE\n",
            "LR   2.314465e+09\n",
            "SVR  7.169220e+09\n",
            "DS   2.276521e+09\n",
            "RF   2.805721e+09\n"
          ]
        }
      ]
    },
    {
      "cell_type": "code",
      "source": [
        "#Visualization\n",
        "fig, (ax1, ax2) = plt.subplots(1, 2)\n",
        "ax1.scatter(X_test.iloc[:,0], y_test, color='red', alpha=0.3, label= 'Actual')\n",
        "ax1.scatter(X_test.iloc[:,0], prediction_reg, color='blue', alpha=0.3, label = 'Prediction of LR')\n",
        "ax1.scatter(X_test.iloc[:,0], prediction_SVR, color='green', alpha=0.3, label = 'Prediction of SVR')\n",
        "ax1.scatter(X_test.iloc[:,0], prediction_DS, color='cyan', alpha=0.3, label = 'Prediction of DS')\n",
        "ax1.scatter(X_test.iloc[:,0], prediction_RF, color='yellow', alpha=0.3, label = 'Prediction of RF')\n",
        "\n",
        "ax1.set_xlabel('GrLivArea')\n",
        "ax1.set_ylabel('SalePrice')\n",
        "ax1.set_title('Scatter plot of GrLivArea')\n",
        "ax1.legend()\n",
        "\n",
        "ax2.scatter(X_test.iloc[:,1], y_test, color='red', alpha=0.3, label= 'Actual')\n",
        "ax2.scatter(X_test.iloc[:,1], prediction_reg, color='blue', alpha=0.3, label = 'Prediction of LR')\n",
        "ax2.scatter(X_test.iloc[:,1], prediction_SVR, color='green', alpha=0.3, label = 'Prediction of SVR')\n",
        "ax2.scatter(X_test.iloc[:,1], prediction_DS, color='cyan', alpha=0.3, label = 'Prediction of DS')\n",
        "ax2.scatter(X_test.iloc[:,1], prediction_RF, color='yellow', alpha=0.3, label = 'Prediction of RF')\n",
        "ax2.set_xlabel('YearBuilt')\n",
        "ax2.set_ylabel('SalePrice')\n",
        "ax2.set_title('Scatter plot of YearBuilt')\n",
        "ax2.legend()\n",
        "plt.tight_layout()\n",
        "plt.show()"
      ],
      "metadata": {
        "colab": {
          "base_uri": "https://localhost:8080/",
          "height": 297
        },
        "id": "68HAyD4AahR9",
        "outputId": "e60cfe63-768d-4af2-d6be-4f98d10f9d64"
      },
      "execution_count": 10,
      "outputs": [
        {
          "output_type": "display_data",
          "data": {
            "text/plain": [
              "<Figure size 432x288 with 2 Axes>"
            ],
            "image/png": "[encoded data removed]"
          },
          "metadata": {
            "needs_background": "light"
          }
        }
      ]
    },
    {
      "cell_type": "code",
      "source": [
        "X = data.loc[:, data.columns != 'SalePrice']\n",
        "print (X)\n",
        "Y = data.loc[:, 'SalePrice']\n",
        "print (Y)"
      ],
      "metadata": {
        "colab": {
          "base_uri": "https://localhost:8080/"
        },
        "id": "0qad0haZaj0S",
        "outputId": "21ca4c2e-2285-4775-acd1-75ef08f4a3b1"
      },
      "execution_count": 11,
      "outputs": [
        {
          "output_type": "stream",
          "name": "stdout",
          "text": [
            "        Id  MSSubClass MSZoning  LotFrontage  LotArea Street Alley LotShape  \\\n",
            "0        1          60       RL         65.0     8450   Pave   NaN      Reg   \n",
            "1        2          20       RL         80.0     9600   Pave   NaN      Reg   \n",
            "2        3          60       RL         68.0    11250   Pave   NaN      IR1   \n",
            "3        4          70       RL         60.0     9550   Pave   NaN      IR1   \n",
            "4        5          60       RL         84.0    14260   Pave   NaN      IR1   \n",
            "...    ...         ...      ...          ...      ...    ...   ...      ...   \n",
            "1455  1456          60       RL         62.0     7917   Pave   NaN      Reg   \n",
            "1456  1457          20       RL         85.0    13175   Pave   NaN      Reg   \n",
            "1457  1458          70       RL         66.0     9042   Pave   NaN      Reg   \n",
            "1458  1459          20       RL         68.0     9717   Pave   NaN      Reg   \n",
            "1459  1460          20       RL         75.0     9937   Pave   NaN      Reg   \n",
            "\n",
            "     LandContour Utilities  ... ScreenPorch PoolArea PoolQC  Fence  \\\n",
            "0            Lvl    AllPub  ...           0        0    NaN    NaN   \n",
            "1            Lvl    AllPub  ...           0        0    NaN    NaN   \n",
            "2            Lvl    AllPub  ...           0        0    NaN    NaN   \n",
            "3            Lvl    AllPub  ...           0        0    NaN    NaN   \n",
            "4            Lvl    AllPub  ...           0        0    NaN    NaN   \n",
            "...          ...       ...  ...         ...      ...    ...    ...   \n",
            "1455         Lvl    AllPub  ...           0        0    NaN    NaN   \n",
            "1456         Lvl    AllPub  ...           0        0    NaN  MnPrv   \n",
            "1457         Lvl    AllPub  ...           0        0    NaN  GdPrv   \n",
            "1458         Lvl    AllPub  ...           0        0    NaN    NaN   \n",
            "1459         Lvl    AllPub  ...           0        0    NaN    NaN   \n",
            "\n",
            "     MiscFeature MiscVal MoSold  YrSold  SaleType  SaleCondition  \n",
            "0            NaN       0      2    2008        WD         Normal  \n",
            "1            NaN       0      5    2007        WD         Normal  \n",
            "2            NaN       0      9    2008        WD         Normal  \n",
            "3            NaN       0      2    2006        WD        Abnorml  \n",
            "4            NaN       0     12    2008        WD         Normal  \n",
            "...          ...     ...    ...     ...       ...            ...  \n",
            "1455         NaN       0      8    2007        WD         Normal  \n",
            "1456         NaN       0      2    2010        WD         Normal  \n",
            "1457        Shed    2500      5    2010        WD         Normal  \n",
            "1458         NaN       0      4    2010        WD         Normal  \n",
            "1459         NaN       0      6    2008        WD         Normal  \n",
            "\n",
            "[1460 rows x 80 columns]\n",
            "0       208500\n",
            "1       181500\n",
            "2       223500\n",
            "3       140000\n",
            "4       250000\n",
            "         ...  \n",
            "1455    175000\n",
            "1456    210000\n",
            "1457    266500\n",
            "1458    142125\n",
            "1459    147500\n",
            "Name: SalePrice, Length: 1460, dtype: int64\n"
          ]
        }
      ]
    },
    {
      "cell_type": "code",
      "source": [
        "from sklearn.preprocessing import LabelEncoder\n",
        "le = LabelEncoder()\n",
        "\n",
        "print(X.dtypes)\n",
        "\n",
        "le.fit(X['SaleCondition'])\n",
        "X['SaleCondition'] = le.transform(X['SaleCondition'])\n",
        "\n",
        "print(X.dtypes)"
      ],
      "metadata": {
        "colab": {
          "base_uri": "https://localhost:8080/"
        },
        "id": "GQPpwDpeangJ",
        "outputId": "9c640d72-9899-424d-9e66-b17f0f2bed10"
      },
      "execution_count": 12,
      "outputs": [
        {
          "output_type": "stream",
          "name": "stdout",
          "text": [
            "Id                 int64\n",
            "MSSubClass         int64\n",
            "MSZoning          object\n",
            "LotFrontage      float64\n",
            "LotArea            int64\n",
            "                  ...   \n",
            "MiscVal            int64\n",
            "MoSold             int64\n",
            "YrSold             int64\n",
            "SaleType          object\n",
            "SaleCondition     object\n",
            "Length: 80, dtype: object\n",
            "Id                 int64\n",
            "MSSubClass         int64\n",
            "MSZoning          object\n",
            "LotFrontage      float64\n",
            "LotArea            int64\n",
            "                  ...   \n",
            "MiscVal            int64\n",
            "MoSold             int64\n",
            "YrSold             int64\n",
            "SaleType          object\n",
            "SaleCondition      int64\n",
            "Length: 80, dtype: object\n"
          ]
        },
        {
          "output_type": "stream",
          "name": "stderr",
          "text": [
            "/usr/local/lib/python3.7/dist-packages/ipykernel_launcher.py:7: SettingWithCopyWarning: \n",
            "A value is trying to be set on a copy of a slice from a DataFrame.\n",
            "Try using .loc[row_indexer,col_indexer] = value instead\n",
            "\n",
            "See the caveats in the documentation: https://pandas.pydata.org/pandas-docs/stable/user_guide/indexing.html#returning-a-view-versus-a-copy\n",
            "  import sys\n"
          ]
        }
      ]
    },
    {
      "cell_type": "code",
      "source": [
        "X = X.select_dtypes(exclude=object)"
      ],
      "metadata": {
        "id": "C1s5ygALapvd"
      },
      "execution_count": 13,
      "outputs": []
    },
    {
      "cell_type": "code",
      "source": [
        "from sklearn.impute import SimpleImputer\n",
        "imp = SimpleImputer(strategy='mean')\n",
        "imp.fit(X)\n",
        "X = imp.transform(X)\n",
        "\n",
        "X_train, X_test, y_train, y_test = train_test_split(X, Y, test_size=0.25, random_state=42)\n",
        "print (X_train.shape)\n",
        "print (y_train.shape)\n",
        "\n",
        "scaler = StandardScaler()\n",
        "scaler.fit(X_train)\n",
        "#transform both X_train and X_test\n",
        "X_train_standard= scaler.transform(X_train)\n",
        "X_test_standard= scaler.transform(X_test)\n",
        "print (X_train_standard)"
      ],
      "metadata": {
        "colab": {
          "base_uri": "https://localhost:8080/"
        },
        "id": "nQjrPSO4artJ",
        "outputId": "4df64aec-f938-4a80-8abe-a40561367f96"
      },
      "execution_count": 14,
      "outputs": [
        {
          "output_type": "stream",
          "name": "stdout",
          "text": [
            "(1095, 38)\n",
            "(1095,)\n",
            "[[ 0.69831455  1.47591094 -1.19939241 ... -0.5081387   0.13714344\n",
            "   0.19920235]\n",
            " [ 0.19637178 -0.87122795  0.336518   ... -2.00086003 -1.37212357\n",
            "   0.19920235]\n",
            " [ 1.54902506 -0.16708628 -0.45337878 ...  1.35776296  0.89177695\n",
            "   0.19920235]\n",
            " ...\n",
            " [ 1.33693656 -0.87122795 -0.45337878 ... -0.88131903 -1.37212357\n",
            "   0.19920235]\n",
            " [ 0.31419872 -0.16708628 -0.67279455 ... -0.13495837 -0.61749006\n",
            "   0.19920235]\n",
            " [ 0.94103804  1.47591094 -0.76056086 ... -0.13495837  0.89177695\n",
            "   0.19920235]]\n"
          ]
        }
      ]
    },
    {
      "cell_type": "code",
      "source": [
        "#following models are not tuned\n",
        "#SVM regression\n",
        "from sklearn.svm import SVR\n",
        "regression_SVR = SVR(C=1.0, epsilon=0.2).fit(X_train_standard, y_train)\n",
        "#prediction\n",
        "prediction_SVR = regression_SVR.predict(X_test_standard)\n",
        "\n",
        "#DecisionTree regression\n",
        "from sklearn.tree import DecisionTreeRegressor\n",
        "regression_DS = DecisionTreeRegressor(random_state=0).fit(X_train_standard, y_train)\n",
        "\n",
        "#prediction\n",
        "prediction_DS = regression_DS.predict(X_test_standard)\n",
        "\n",
        "#Random forest regression\n",
        "\n",
        "from sklearn.ensemble import RandomForestRegressor\n",
        "\n",
        "regression_RF = RandomForestRegressor(max_depth=2, random_state=0).fit(X_train_standard, y_train)\n",
        "#prediction\n",
        "prediction_RF = regression_RF.predict(X_test_standard)\n",
        "\n",
        "mse_reg_SVR = mean_squared_error(y_test, prediction_SVR)\n",
        "mse_reg_DS = mean_squared_error(y_test, prediction_DS)\n",
        "mse_reg_RF = mean_squared_error(y_test, prediction_RF)\n",
        "\n",
        "d = {'MSE':[mse_reg, mse_reg_SVR, mse_reg_DS, mse_reg_RF]}\n",
        "evaluation_table = pd.DataFrame(data=d, index=['LR', 'SVR', 'DS', 'RF'])\n",
        "print(evaluation_table)"
      ],
      "metadata": {
        "colab": {
          "base_uri": "https://localhost:8080/"
        },
        "id": "GhYCmQYmat3o",
        "outputId": "45f08afd-15ae-4cf5-e883-2320f8a221c7"
      },
      "execution_count": 15,
      "outputs": [
        {
          "output_type": "stream",
          "name": "stdout",
          "text": [
            "              MSE\n",
            "LR   2.314465e+09\n",
            "SVR  7.182569e+09\n",
            "DS   1.232433e+09\n",
            "RF   1.999290e+09\n"
          ]
        }
      ]
    }
  ]
}