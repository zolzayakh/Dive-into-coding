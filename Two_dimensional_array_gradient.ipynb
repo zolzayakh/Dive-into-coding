{
  "nbformat": 4,
  "nbformat_minor": 0,
  "metadata": {
    "colab": {
      "name": "Two-dimensional array_gradient.ipynb",
      "provenance": [],
      "authorship_tag": "ABX9TyM5fydHZ5cVyiUvTvH0yB4H",
      "include_colab_link": true
    },
    "kernelspec": {
      "name": "python3",
      "display_name": "Python 3"
    },
    "language_info": {
      "name": "python"
    }
  },
  "cells": [
    {
      "cell_type": "markdown",
      "metadata": {
        "id": "view-in-github",
        "colab_type": "text"
      },
      "source": [
        "<a href=\"https://colab.research.google.com/github/zolzayakh/Dive-into-coding/blob/main/Two_dimensional_array_gradient.ipynb\" target=\"_parent\"><img src=\"https://colab.research.google.com/assets/colab-badge.svg\" alt=\"Open In Colab\"/></a>"
      ]
    },
    {
      "cell_type": "markdown",
      "source": [
        "**[Problem 1] Linear function**"
      ],
      "metadata": {
        "id": "aATJO3Y7EXe0"
      }
    },
    {
      "cell_type": "code",
      "source": [
        "import numpy as np\n",
        "x = np.array(np.arange(-50, 50, 0.1))\n",
        "y = []\n",
        "for i in list(x):\n",
        "  y.append(0.5*i+1)\n",
        "y = np.array(y)\n",
        "print(y)"
      ],
      "metadata": {
        "id": "f047Zb3shtuM",
        "colab": {
          "base_uri": "https://localhost:8080/"
        },
        "outputId": "56479329-64d1-46f1-d726-8457a0d39cb3"
      },
      "execution_count": 2,
      "outputs": [
        {
          "output_type": "stream",
          "name": "stdout",
          "text": [
            "[-2.40000000e+01 -2.39500000e+01 -2.39000000e+01 -2.38500000e+01\n",
            " -2.38000000e+01 -2.37500000e+01 -2.37000000e+01 -2.36500000e+01\n",
            " -2.36000000e+01 -2.35500000e+01 -2.35000000e+01 -2.34500000e+01\n",
            " -2.34000000e+01 -2.33500000e+01 -2.33000000e+01 -2.32500000e+01\n",
            " -2.32000000e+01 -2.31500000e+01 -2.31000000e+01 -2.30500000e+01\n",
            " -2.30000000e+01 -2.29500000e+01 -2.29000000e+01 -2.28500000e+01\n",
            " -2.28000000e+01 -2.27500000e+01 -2.27000000e+01 -2.26500000e+01\n",
            " -2.26000000e+01 -2.25500000e+01 -2.25000000e+01 -2.24500000e+01\n",
            " -2.24000000e+01 -2.23500000e+01 -2.23000000e+01 -2.22500000e+01\n",
            " -2.22000000e+01 -2.21500000e+01 -2.21000000e+01 -2.20500000e+01\n",
            " -2.20000000e+01 -2.19500000e+01 -2.19000000e+01 -2.18500000e+01\n",
            " -2.18000000e+01 -2.17500000e+01 -2.17000000e+01 -2.16500000e+01\n",
            " -2.16000000e+01 -2.15500000e+01 -2.15000000e+01 -2.14500000e+01\n",
            " -2.14000000e+01 -2.13500000e+01 -2.13000000e+01 -2.12500000e+01\n",
            " -2.12000000e+01 -2.11500000e+01 -2.11000000e+01 -2.10500000e+01\n",
            " -2.10000000e+01 -2.09500000e+01 -2.09000000e+01 -2.08500000e+01\n",
            " -2.08000000e+01 -2.07500000e+01 -2.07000000e+01 -2.06500000e+01\n",
            " -2.06000000e+01 -2.05500000e+01 -2.05000000e+01 -2.04500000e+01\n",
            " -2.04000000e+01 -2.03500000e+01 -2.03000000e+01 -2.02500000e+01\n",
            " -2.02000000e+01 -2.01500000e+01 -2.01000000e+01 -2.00500000e+01\n",
            " -2.00000000e+01 -1.99500000e+01 -1.99000000e+01 -1.98500000e+01\n",
            " -1.98000000e+01 -1.97500000e+01 -1.97000000e+01 -1.96500000e+01\n",
            " -1.96000000e+01 -1.95500000e+01 -1.95000000e+01 -1.94500000e+01\n",
            " -1.94000000e+01 -1.93500000e+01 -1.93000000e+01 -1.92500000e+01\n",
            " -1.92000000e+01 -1.91500000e+01 -1.91000000e+01 -1.90500000e+01\n",
            " -1.90000000e+01 -1.89500000e+01 -1.89000000e+01 -1.88500000e+01\n",
            " -1.88000000e+01 -1.87500000e+01 -1.87000000e+01 -1.86500000e+01\n",
            " -1.86000000e+01 -1.85500000e+01 -1.85000000e+01 -1.84500000e+01\n",
            " -1.84000000e+01 -1.83500000e+01 -1.83000000e+01 -1.82500000e+01\n",
            " -1.82000000e+01 -1.81500000e+01 -1.81000000e+01 -1.80500000e+01\n",
            " -1.80000000e+01 -1.79500000e+01 -1.79000000e+01 -1.78500000e+01\n",
            " -1.78000000e+01 -1.77500000e+01 -1.77000000e+01 -1.76500000e+01\n",
            " -1.76000000e+01 -1.75500000e+01 -1.75000000e+01 -1.74500000e+01\n",
            " -1.74000000e+01 -1.73500000e+01 -1.73000000e+01 -1.72500000e+01\n",
            " -1.72000000e+01 -1.71500000e+01 -1.71000000e+01 -1.70500000e+01\n",
            " -1.70000000e+01 -1.69500000e+01 -1.69000000e+01 -1.68500000e+01\n",
            " -1.68000000e+01 -1.67500000e+01 -1.67000000e+01 -1.66500000e+01\n",
            " -1.66000000e+01 -1.65500000e+01 -1.65000000e+01 -1.64500000e+01\n",
            " -1.64000000e+01 -1.63500000e+01 -1.63000000e+01 -1.62500000e+01\n",
            " -1.62000000e+01 -1.61500000e+01 -1.61000000e+01 -1.60500000e+01\n",
            " -1.60000000e+01 -1.59500000e+01 -1.59000000e+01 -1.58500000e+01\n",
            " -1.58000000e+01 -1.57500000e+01 -1.57000000e+01 -1.56500000e+01\n",
            " -1.56000000e+01 -1.55500000e+01 -1.55000000e+01 -1.54500000e+01\n",
            " -1.54000000e+01 -1.53500000e+01 -1.53000000e+01 -1.52500000e+01\n",
            " -1.52000000e+01 -1.51500000e+01 -1.51000000e+01 -1.50500000e+01\n",
            " -1.50000000e+01 -1.49500000e+01 -1.49000000e+01 -1.48500000e+01\n",
            " -1.48000000e+01 -1.47500000e+01 -1.47000000e+01 -1.46500000e+01\n",
            " -1.46000000e+01 -1.45500000e+01 -1.45000000e+01 -1.44500000e+01\n",
            " -1.44000000e+01 -1.43500000e+01 -1.43000000e+01 -1.42500000e+01\n",
            " -1.42000000e+01 -1.41500000e+01 -1.41000000e+01 -1.40500000e+01\n",
            " -1.40000000e+01 -1.39500000e+01 -1.39000000e+01 -1.38500000e+01\n",
            " -1.38000000e+01 -1.37500000e+01 -1.37000000e+01 -1.36500000e+01\n",
            " -1.36000000e+01 -1.35500000e+01 -1.35000000e+01 -1.34500000e+01\n",
            " -1.34000000e+01 -1.33500000e+01 -1.33000000e+01 -1.32500000e+01\n",
            " -1.32000000e+01 -1.31500000e+01 -1.31000000e+01 -1.30500000e+01\n",
            " -1.30000000e+01 -1.29500000e+01 -1.29000000e+01 -1.28500000e+01\n",
            " -1.28000000e+01 -1.27500000e+01 -1.27000000e+01 -1.26500000e+01\n",
            " -1.26000000e+01 -1.25500000e+01 -1.25000000e+01 -1.24500000e+01\n",
            " -1.24000000e+01 -1.23500000e+01 -1.23000000e+01 -1.22500000e+01\n",
            " -1.22000000e+01 -1.21500000e+01 -1.21000000e+01 -1.20500000e+01\n",
            " -1.20000000e+01 -1.19500000e+01 -1.19000000e+01 -1.18500000e+01\n",
            " -1.18000000e+01 -1.17500000e+01 -1.17000000e+01 -1.16500000e+01\n",
            " -1.16000000e+01 -1.15500000e+01 -1.15000000e+01 -1.14500000e+01\n",
            " -1.14000000e+01 -1.13500000e+01 -1.13000000e+01 -1.12500000e+01\n",
            " -1.12000000e+01 -1.11500000e+01 -1.11000000e+01 -1.10500000e+01\n",
            " -1.10000000e+01 -1.09500000e+01 -1.09000000e+01 -1.08500000e+01\n",
            " -1.08000000e+01 -1.07500000e+01 -1.07000000e+01 -1.06500000e+01\n",
            " -1.06000000e+01 -1.05500000e+01 -1.05000000e+01 -1.04500000e+01\n",
            " -1.04000000e+01 -1.03500000e+01 -1.03000000e+01 -1.02500000e+01\n",
            " -1.02000000e+01 -1.01500000e+01 -1.01000000e+01 -1.00500000e+01\n",
            " -1.00000000e+01 -9.95000000e+00 -9.90000000e+00 -9.85000000e+00\n",
            " -9.80000000e+00 -9.75000000e+00 -9.70000000e+00 -9.65000000e+00\n",
            " -9.60000000e+00 -9.55000000e+00 -9.50000000e+00 -9.45000000e+00\n",
            " -9.40000000e+00 -9.35000000e+00 -9.30000000e+00 -9.25000000e+00\n",
            " -9.20000000e+00 -9.15000000e+00 -9.10000000e+00 -9.05000000e+00\n",
            " -9.00000000e+00 -8.95000000e+00 -8.90000000e+00 -8.85000000e+00\n",
            " -8.80000000e+00 -8.75000000e+00 -8.70000000e+00 -8.65000000e+00\n",
            " -8.60000000e+00 -8.55000000e+00 -8.50000000e+00 -8.45000000e+00\n",
            " -8.40000000e+00 -8.35000000e+00 -8.30000000e+00 -8.25000000e+00\n",
            " -8.20000000e+00 -8.15000000e+00 -8.10000000e+00 -8.05000000e+00\n",
            " -8.00000000e+00 -7.95000000e+00 -7.90000000e+00 -7.85000000e+00\n",
            " -7.80000000e+00 -7.75000000e+00 -7.70000000e+00 -7.65000000e+00\n",
            " -7.60000000e+00 -7.55000000e+00 -7.50000000e+00 -7.45000000e+00\n",
            " -7.40000000e+00 -7.35000000e+00 -7.30000000e+00 -7.25000000e+00\n",
            " -7.20000000e+00 -7.15000000e+00 -7.10000000e+00 -7.05000000e+00\n",
            " -7.00000000e+00 -6.95000000e+00 -6.90000000e+00 -6.85000000e+00\n",
            " -6.80000000e+00 -6.75000000e+00 -6.70000000e+00 -6.65000000e+00\n",
            " -6.60000000e+00 -6.55000000e+00 -6.50000000e+00 -6.45000000e+00\n",
            " -6.40000000e+00 -6.35000000e+00 -6.30000000e+00 -6.25000000e+00\n",
            " -6.20000000e+00 -6.15000000e+00 -6.10000000e+00 -6.05000000e+00\n",
            " -6.00000000e+00 -5.95000000e+00 -5.90000000e+00 -5.85000000e+00\n",
            " -5.80000000e+00 -5.75000000e+00 -5.70000000e+00 -5.65000000e+00\n",
            " -5.60000000e+00 -5.55000000e+00 -5.50000000e+00 -5.45000000e+00\n",
            " -5.40000000e+00 -5.35000000e+00 -5.30000000e+00 -5.25000000e+00\n",
            " -5.20000000e+00 -5.15000000e+00 -5.10000000e+00 -5.05000000e+00\n",
            " -5.00000000e+00 -4.95000000e+00 -4.90000000e+00 -4.85000000e+00\n",
            " -4.80000000e+00 -4.75000000e+00 -4.70000000e+00 -4.65000000e+00\n",
            " -4.60000000e+00 -4.55000000e+00 -4.50000000e+00 -4.45000000e+00\n",
            " -4.40000000e+00 -4.35000000e+00 -4.30000000e+00 -4.25000000e+00\n",
            " -4.20000000e+00 -4.15000000e+00 -4.10000000e+00 -4.05000000e+00\n",
            " -4.00000000e+00 -3.95000000e+00 -3.90000000e+00 -3.85000000e+00\n",
            " -3.80000000e+00 -3.75000000e+00 -3.70000000e+00 -3.65000000e+00\n",
            " -3.60000000e+00 -3.55000000e+00 -3.50000000e+00 -3.45000000e+00\n",
            " -3.40000000e+00 -3.35000000e+00 -3.30000000e+00 -3.25000000e+00\n",
            " -3.20000000e+00 -3.15000000e+00 -3.10000000e+00 -3.05000000e+00\n",
            " -3.00000000e+00 -2.95000000e+00 -2.90000000e+00 -2.85000000e+00\n",
            " -2.80000000e+00 -2.75000000e+00 -2.70000000e+00 -2.65000000e+00\n",
            " -2.60000000e+00 -2.55000000e+00 -2.50000000e+00 -2.45000000e+00\n",
            " -2.40000000e+00 -2.35000000e+00 -2.30000000e+00 -2.25000000e+00\n",
            " -2.20000000e+00 -2.15000000e+00 -2.10000000e+00 -2.05000000e+00\n",
            " -2.00000000e+00 -1.95000000e+00 -1.90000000e+00 -1.85000000e+00\n",
            " -1.80000000e+00 -1.75000000e+00 -1.70000000e+00 -1.65000000e+00\n",
            " -1.60000000e+00 -1.55000000e+00 -1.50000000e+00 -1.45000000e+00\n",
            " -1.40000000e+00 -1.35000000e+00 -1.30000000e+00 -1.25000000e+00\n",
            " -1.20000000e+00 -1.15000000e+00 -1.10000000e+00 -1.05000000e+00\n",
            " -1.00000000e+00 -9.50000000e-01 -9.00000000e-01 -8.50000000e-01\n",
            " -8.00000000e-01 -7.50000000e-01 -7.00000000e-01 -6.50000000e-01\n",
            " -6.00000000e-01 -5.50000000e-01 -5.00000000e-01 -4.50000000e-01\n",
            " -4.00000000e-01 -3.50000000e-01 -3.00000000e-01 -2.50000000e-01\n",
            " -2.00000000e-01 -1.50000000e-01 -1.00000000e-01 -5.00000000e-02\n",
            "  3.41060513e-13  5.00000000e-02  1.00000000e-01  1.50000000e-01\n",
            "  2.00000000e-01  2.50000000e-01  3.00000000e-01  3.50000000e-01\n",
            "  4.00000000e-01  4.50000000e-01  5.00000000e-01  5.50000000e-01\n",
            "  6.00000000e-01  6.50000000e-01  7.00000000e-01  7.50000000e-01\n",
            "  8.00000000e-01  8.50000000e-01  9.00000000e-01  9.50000000e-01\n",
            "  1.00000000e+00  1.05000000e+00  1.10000000e+00  1.15000000e+00\n",
            "  1.20000000e+00  1.25000000e+00  1.30000000e+00  1.35000000e+00\n",
            "  1.40000000e+00  1.45000000e+00  1.50000000e+00  1.55000000e+00\n",
            "  1.60000000e+00  1.65000000e+00  1.70000000e+00  1.75000000e+00\n",
            "  1.80000000e+00  1.85000000e+00  1.90000000e+00  1.95000000e+00\n",
            "  2.00000000e+00  2.05000000e+00  2.10000000e+00  2.15000000e+00\n",
            "  2.20000000e+00  2.25000000e+00  2.30000000e+00  2.35000000e+00\n",
            "  2.40000000e+00  2.45000000e+00  2.50000000e+00  2.55000000e+00\n",
            "  2.60000000e+00  2.65000000e+00  2.70000000e+00  2.75000000e+00\n",
            "  2.80000000e+00  2.85000000e+00  2.90000000e+00  2.95000000e+00\n",
            "  3.00000000e+00  3.05000000e+00  3.10000000e+00  3.15000000e+00\n",
            "  3.20000000e+00  3.25000000e+00  3.30000000e+00  3.35000000e+00\n",
            "  3.40000000e+00  3.45000000e+00  3.50000000e+00  3.55000000e+00\n",
            "  3.60000000e+00  3.65000000e+00  3.70000000e+00  3.75000000e+00\n",
            "  3.80000000e+00  3.85000000e+00  3.90000000e+00  3.95000000e+00\n",
            "  4.00000000e+00  4.05000000e+00  4.10000000e+00  4.15000000e+00\n",
            "  4.20000000e+00  4.25000000e+00  4.30000000e+00  4.35000000e+00\n",
            "  4.40000000e+00  4.45000000e+00  4.50000000e+00  4.55000000e+00\n",
            "  4.60000000e+00  4.65000000e+00  4.70000000e+00  4.75000000e+00\n",
            "  4.80000000e+00  4.85000000e+00  4.90000000e+00  4.95000000e+00\n",
            "  5.00000000e+00  5.05000000e+00  5.10000000e+00  5.15000000e+00\n",
            "  5.20000000e+00  5.25000000e+00  5.30000000e+00  5.35000000e+00\n",
            "  5.40000000e+00  5.45000000e+00  5.50000000e+00  5.55000000e+00\n",
            "  5.60000000e+00  5.65000000e+00  5.70000000e+00  5.75000000e+00\n",
            "  5.80000000e+00  5.85000000e+00  5.90000000e+00  5.95000000e+00\n",
            "  6.00000000e+00  6.05000000e+00  6.10000000e+00  6.15000000e+00\n",
            "  6.20000000e+00  6.25000000e+00  6.30000000e+00  6.35000000e+00\n",
            "  6.40000000e+00  6.45000000e+00  6.50000000e+00  6.55000000e+00\n",
            "  6.60000000e+00  6.65000000e+00  6.70000000e+00  6.75000000e+00\n",
            "  6.80000000e+00  6.85000000e+00  6.90000000e+00  6.95000000e+00\n",
            "  7.00000000e+00  7.05000000e+00  7.10000000e+00  7.15000000e+00\n",
            "  7.20000000e+00  7.25000000e+00  7.30000000e+00  7.35000000e+00\n",
            "  7.40000000e+00  7.45000000e+00  7.50000000e+00  7.55000000e+00\n",
            "  7.60000000e+00  7.65000000e+00  7.70000000e+00  7.75000000e+00\n",
            "  7.80000000e+00  7.85000000e+00  7.90000000e+00  7.95000000e+00\n",
            "  8.00000000e+00  8.05000000e+00  8.10000000e+00  8.15000000e+00\n",
            "  8.20000000e+00  8.25000000e+00  8.30000000e+00  8.35000000e+00\n",
            "  8.40000000e+00  8.45000000e+00  8.50000000e+00  8.55000000e+00\n",
            "  8.60000000e+00  8.65000000e+00  8.70000000e+00  8.75000000e+00\n",
            "  8.80000000e+00  8.85000000e+00  8.90000000e+00  8.95000000e+00\n",
            "  9.00000000e+00  9.05000000e+00  9.10000000e+00  9.15000000e+00\n",
            "  9.20000000e+00  9.25000000e+00  9.30000000e+00  9.35000000e+00\n",
            "  9.40000000e+00  9.45000000e+00  9.50000000e+00  9.55000000e+00\n",
            "  9.60000000e+00  9.65000000e+00  9.70000000e+00  9.75000000e+00\n",
            "  9.80000000e+00  9.85000000e+00  9.90000000e+00  9.95000000e+00\n",
            "  1.00000000e+01  1.00500000e+01  1.01000000e+01  1.01500000e+01\n",
            "  1.02000000e+01  1.02500000e+01  1.03000000e+01  1.03500000e+01\n",
            "  1.04000000e+01  1.04500000e+01  1.05000000e+01  1.05500000e+01\n",
            "  1.06000000e+01  1.06500000e+01  1.07000000e+01  1.07500000e+01\n",
            "  1.08000000e+01  1.08500000e+01  1.09000000e+01  1.09500000e+01\n",
            "  1.10000000e+01  1.10500000e+01  1.11000000e+01  1.11500000e+01\n",
            "  1.12000000e+01  1.12500000e+01  1.13000000e+01  1.13500000e+01\n",
            "  1.14000000e+01  1.14500000e+01  1.15000000e+01  1.15500000e+01\n",
            "  1.16000000e+01  1.16500000e+01  1.17000000e+01  1.17500000e+01\n",
            "  1.18000000e+01  1.18500000e+01  1.19000000e+01  1.19500000e+01\n",
            "  1.20000000e+01  1.20500000e+01  1.21000000e+01  1.21500000e+01\n",
            "  1.22000000e+01  1.22500000e+01  1.23000000e+01  1.23500000e+01\n",
            "  1.24000000e+01  1.24500000e+01  1.25000000e+01  1.25500000e+01\n",
            "  1.26000000e+01  1.26500000e+01  1.27000000e+01  1.27500000e+01\n",
            "  1.28000000e+01  1.28500000e+01  1.29000000e+01  1.29500000e+01\n",
            "  1.30000000e+01  1.30500000e+01  1.31000000e+01  1.31500000e+01\n",
            "  1.32000000e+01  1.32500000e+01  1.33000000e+01  1.33500000e+01\n",
            "  1.34000000e+01  1.34500000e+01  1.35000000e+01  1.35500000e+01\n",
            "  1.36000000e+01  1.36500000e+01  1.37000000e+01  1.37500000e+01\n",
            "  1.38000000e+01  1.38500000e+01  1.39000000e+01  1.39500000e+01\n",
            "  1.40000000e+01  1.40500000e+01  1.41000000e+01  1.41500000e+01\n",
            "  1.42000000e+01  1.42500000e+01  1.43000000e+01  1.43500000e+01\n",
            "  1.44000000e+01  1.44500000e+01  1.45000000e+01  1.45500000e+01\n",
            "  1.46000000e+01  1.46500000e+01  1.47000000e+01  1.47500000e+01\n",
            "  1.48000000e+01  1.48500000e+01  1.49000000e+01  1.49500000e+01\n",
            "  1.50000000e+01  1.50500000e+01  1.51000000e+01  1.51500000e+01\n",
            "  1.52000000e+01  1.52500000e+01  1.53000000e+01  1.53500000e+01\n",
            "  1.54000000e+01  1.54500000e+01  1.55000000e+01  1.55500000e+01\n",
            "  1.56000000e+01  1.56500000e+01  1.57000000e+01  1.57500000e+01\n",
            "  1.58000000e+01  1.58500000e+01  1.59000000e+01  1.59500000e+01\n",
            "  1.60000000e+01  1.60500000e+01  1.61000000e+01  1.61500000e+01\n",
            "  1.62000000e+01  1.62500000e+01  1.63000000e+01  1.63500000e+01\n",
            "  1.64000000e+01  1.64500000e+01  1.65000000e+01  1.65500000e+01\n",
            "  1.66000000e+01  1.66500000e+01  1.67000000e+01  1.67500000e+01\n",
            "  1.68000000e+01  1.68500000e+01  1.69000000e+01  1.69500000e+01\n",
            "  1.70000000e+01  1.70500000e+01  1.71000000e+01  1.71500000e+01\n",
            "  1.72000000e+01  1.72500000e+01  1.73000000e+01  1.73500000e+01\n",
            "  1.74000000e+01  1.74500000e+01  1.75000000e+01  1.75500000e+01\n",
            "  1.76000000e+01  1.76500000e+01  1.77000000e+01  1.77500000e+01\n",
            "  1.78000000e+01  1.78500000e+01  1.79000000e+01  1.79500000e+01\n",
            "  1.80000000e+01  1.80500000e+01  1.81000000e+01  1.81500000e+01\n",
            "  1.82000000e+01  1.82500000e+01  1.83000000e+01  1.83500000e+01\n",
            "  1.84000000e+01  1.84500000e+01  1.85000000e+01  1.85500000e+01\n",
            "  1.86000000e+01  1.86500000e+01  1.87000000e+01  1.87500000e+01\n",
            "  1.88000000e+01  1.88500000e+01  1.89000000e+01  1.89500000e+01\n",
            "  1.90000000e+01  1.90500000e+01  1.91000000e+01  1.91500000e+01\n",
            "  1.92000000e+01  1.92500000e+01  1.93000000e+01  1.93500000e+01\n",
            "  1.94000000e+01  1.94500000e+01  1.95000000e+01  1.95500000e+01\n",
            "  1.96000000e+01  1.96500000e+01  1.97000000e+01  1.97500000e+01\n",
            "  1.98000000e+01  1.98500000e+01  1.99000000e+01  1.99500000e+01\n",
            "  2.00000000e+01  2.00500000e+01  2.01000000e+01  2.01500000e+01\n",
            "  2.02000000e+01  2.02500000e+01  2.03000000e+01  2.03500000e+01\n",
            "  2.04000000e+01  2.04500000e+01  2.05000000e+01  2.05500000e+01\n",
            "  2.06000000e+01  2.06500000e+01  2.07000000e+01  2.07500000e+01\n",
            "  2.08000000e+01  2.08500000e+01  2.09000000e+01  2.09500000e+01\n",
            "  2.10000000e+01  2.10500000e+01  2.11000000e+01  2.11500000e+01\n",
            "  2.12000000e+01  2.12500000e+01  2.13000000e+01  2.13500000e+01\n",
            "  2.14000000e+01  2.14500000e+01  2.15000000e+01  2.15500000e+01\n",
            "  2.16000000e+01  2.16500000e+01  2.17000000e+01  2.17500000e+01\n",
            "  2.18000000e+01  2.18500000e+01  2.19000000e+01  2.19500000e+01\n",
            "  2.20000000e+01  2.20500000e+01  2.21000000e+01  2.21500000e+01\n",
            "  2.22000000e+01  2.22500000e+01  2.23000000e+01  2.23500000e+01\n",
            "  2.24000000e+01  2.24500000e+01  2.25000000e+01  2.25500000e+01\n",
            "  2.26000000e+01  2.26500000e+01  2.27000000e+01  2.27500000e+01\n",
            "  2.28000000e+01  2.28500000e+01  2.29000000e+01  2.29500000e+01\n",
            "  2.30000000e+01  2.30500000e+01  2.31000000e+01  2.31500000e+01\n",
            "  2.32000000e+01  2.32500000e+01  2.33000000e+01  2.33500000e+01\n",
            "  2.34000000e+01  2.34500000e+01  2.35000000e+01  2.35500000e+01\n",
            "  2.36000000e+01  2.36500000e+01  2.37000000e+01  2.37500000e+01\n",
            "  2.38000000e+01  2.38500000e+01  2.39000000e+01  2.39500000e+01\n",
            "  2.40000000e+01  2.40500000e+01  2.41000000e+01  2.41500000e+01\n",
            "  2.42000000e+01  2.42500000e+01  2.43000000e+01  2.43500000e+01\n",
            "  2.44000000e+01  2.44500000e+01  2.45000000e+01  2.45500000e+01\n",
            "  2.46000000e+01  2.46500000e+01  2.47000000e+01  2.47500000e+01\n",
            "  2.48000000e+01  2.48500000e+01  2.49000000e+01  2.49500000e+01\n",
            "  2.50000000e+01  2.50500000e+01  2.51000000e+01  2.51500000e+01\n",
            "  2.52000000e+01  2.52500000e+01  2.53000000e+01  2.53500000e+01\n",
            "  2.54000000e+01  2.54500000e+01  2.55000000e+01  2.55500000e+01\n",
            "  2.56000000e+01  2.56500000e+01  2.57000000e+01  2.57500000e+01\n",
            "  2.58000000e+01  2.58500000e+01  2.59000000e+01  2.59500000e+01]\n"
          ]
        }
      ]
    },
    {
      "cell_type": "markdown",
      "source": [
        "**[Problem 2] Array binding**"
      ],
      "metadata": {
        "id": "ESocOaEYXFCB"
      }
    },
    {
      "cell_type": "code",
      "source": [
        "arr = np.stack((x, y), axis=1)\n",
        "print(arr)"
      ],
      "metadata": {
        "id": "kujGXOcigM3b",
        "colab": {
          "base_uri": "https://localhost:8080/"
        },
        "outputId": "0a3b91b6-6167-4905-8bb6-beebcd37d40a"
      },
      "execution_count": 3,
      "outputs": [
        {
          "output_type": "stream",
          "name": "stdout",
          "text": [
            "[[-50.   -24.  ]\n",
            " [-49.9  -23.95]\n",
            " [-49.8  -23.9 ]\n",
            " ...\n",
            " [ 49.7   25.85]\n",
            " [ 49.8   25.9 ]\n",
            " [ 49.9   25.95]]\n"
          ]
        }
      ]
    },
    {
      "cell_type": "markdown",
      "source": [
        "**[Problem 3] Find the gradient**"
      ],
      "metadata": {
        "id": "jK1J2AwmgShi"
      }
    },
    {
      "cell_type": "code",
      "source": [
        "dx = np.diff(arr[:, 0])\n",
        "dy = np.diff(arr[:, 1])\n",
        "gradients = dy / dx\n",
        "print(gradients)"
      ],
      "metadata": {
        "colab": {
          "base_uri": "https://localhost:8080/"
        },
        "id": "SLer_kQcgRak",
        "outputId": "25c8fbed-b770-4b70-cdbd-88828e783612"
      },
      "execution_count": 4,
      "outputs": [
        {
          "output_type": "stream",
          "name": "stdout",
          "text": [
            "[0.5 0.5 0.5 0.5 0.5 0.5 0.5 0.5 0.5 0.5 0.5 0.5 0.5 0.5 0.5 0.5 0.5 0.5\n",
            " 0.5 0.5 0.5 0.5 0.5 0.5 0.5 0.5 0.5 0.5 0.5 0.5 0.5 0.5 0.5 0.5 0.5 0.5\n",
            " 0.5 0.5 0.5 0.5 0.5 0.5 0.5 0.5 0.5 0.5 0.5 0.5 0.5 0.5 0.5 0.5 0.5 0.5\n",
            " 0.5 0.5 0.5 0.5 0.5 0.5 0.5 0.5 0.5 0.5 0.5 0.5 0.5 0.5 0.5 0.5 0.5 0.5\n",
            " 0.5 0.5 0.5 0.5 0.5 0.5 0.5 0.5 0.5 0.5 0.5 0.5 0.5 0.5 0.5 0.5 0.5 0.5\n",
            " 0.5 0.5 0.5 0.5 0.5 0.5 0.5 0.5 0.5 0.5 0.5 0.5 0.5 0.5 0.5 0.5 0.5 0.5\n",
            " 0.5 0.5 0.5 0.5 0.5 0.5 0.5 0.5 0.5 0.5 0.5 0.5 0.5 0.5 0.5 0.5 0.5 0.5\n",
            " 0.5 0.5 0.5 0.5 0.5 0.5 0.5 0.5 0.5 0.5 0.5 0.5 0.5 0.5 0.5 0.5 0.5 0.5\n",
            " 0.5 0.5 0.5 0.5 0.5 0.5 0.5 0.5 0.5 0.5 0.5 0.5 0.5 0.5 0.5 0.5 0.5 0.5\n",
            " 0.5 0.5 0.5 0.5 0.5 0.5 0.5 0.5 0.5 0.5 0.5 0.5 0.5 0.5 0.5 0.5 0.5 0.5\n",
            " 0.5 0.5 0.5 0.5 0.5 0.5 0.5 0.5 0.5 0.5 0.5 0.5 0.5 0.5 0.5 0.5 0.5 0.5\n",
            " 0.5 0.5 0.5 0.5 0.5 0.5 0.5 0.5 0.5 0.5 0.5 0.5 0.5 0.5 0.5 0.5 0.5 0.5\n",
            " 0.5 0.5 0.5 0.5 0.5 0.5 0.5 0.5 0.5 0.5 0.5 0.5 0.5 0.5 0.5 0.5 0.5 0.5\n",
            " 0.5 0.5 0.5 0.5 0.5 0.5 0.5 0.5 0.5 0.5 0.5 0.5 0.5 0.5 0.5 0.5 0.5 0.5\n",
            " 0.5 0.5 0.5 0.5 0.5 0.5 0.5 0.5 0.5 0.5 0.5 0.5 0.5 0.5 0.5 0.5 0.5 0.5\n",
            " 0.5 0.5 0.5 0.5 0.5 0.5 0.5 0.5 0.5 0.5 0.5 0.5 0.5 0.5 0.5 0.5 0.5 0.5\n",
            " 0.5 0.5 0.5 0.5 0.5 0.5 0.5 0.5 0.5 0.5 0.5 0.5 0.5 0.5 0.5 0.5 0.5 0.5\n",
            " 0.5 0.5 0.5 0.5 0.5 0.5 0.5 0.5 0.5 0.5 0.5 0.5 0.5 0.5 0.5 0.5 0.5 0.5\n",
            " 0.5 0.5 0.5 0.5 0.5 0.5 0.5 0.5 0.5 0.5 0.5 0.5 0.5 0.5 0.5 0.5 0.5 0.5\n",
            " 0.5 0.5 0.5 0.5 0.5 0.5 0.5 0.5 0.5 0.5 0.5 0.5 0.5 0.5 0.5 0.5 0.5 0.5\n",
            " 0.5 0.5 0.5 0.5 0.5 0.5 0.5 0.5 0.5 0.5 0.5 0.5 0.5 0.5 0.5 0.5 0.5 0.5\n",
            " 0.5 0.5 0.5 0.5 0.5 0.5 0.5 0.5 0.5 0.5 0.5 0.5 0.5 0.5 0.5 0.5 0.5 0.5\n",
            " 0.5 0.5 0.5 0.5 0.5 0.5 0.5 0.5 0.5 0.5 0.5 0.5 0.5 0.5 0.5 0.5 0.5 0.5\n",
            " 0.5 0.5 0.5 0.5 0.5 0.5 0.5 0.5 0.5 0.5 0.5 0.5 0.5 0.5 0.5 0.5 0.5 0.5\n",
            " 0.5 0.5 0.5 0.5 0.5 0.5 0.5 0.5 0.5 0.5 0.5 0.5 0.5 0.5 0.5 0.5 0.5 0.5\n",
            " 0.5 0.5 0.5 0.5 0.5 0.5 0.5 0.5 0.5 0.5 0.5 0.5 0.5 0.5 0.5 0.5 0.5 0.5\n",
            " 0.5 0.5 0.5 0.5 0.5 0.5 0.5 0.5 0.5 0.5 0.5 0.5 0.5 0.5 0.5 0.5 0.5 0.5\n",
            " 0.5 0.5 0.5 0.5 0.5 0.5 0.5 0.5 0.5 0.5 0.5 0.5 0.5 0.5 0.5 0.5 0.5 0.5\n",
            " 0.5 0.5 0.5 0.5 0.5 0.5 0.5 0.5 0.5 0.5 0.5 0.5 0.5 0.5 0.5 0.5 0.5 0.5\n",
            " 0.5 0.5 0.5 0.5 0.5 0.5 0.5 0.5 0.5 0.5 0.5 0.5 0.5 0.5 0.5 0.5 0.5 0.5\n",
            " 0.5 0.5 0.5 0.5 0.5 0.5 0.5 0.5 0.5 0.5 0.5 0.5 0.5 0.5 0.5 0.5 0.5 0.5\n",
            " 0.5 0.5 0.5 0.5 0.5 0.5 0.5 0.5 0.5 0.5 0.5 0.5 0.5 0.5 0.5 0.5 0.5 0.5\n",
            " 0.5 0.5 0.5 0.5 0.5 0.5 0.5 0.5 0.5 0.5 0.5 0.5 0.5 0.5 0.5 0.5 0.5 0.5\n",
            " 0.5 0.5 0.5 0.5 0.5 0.5 0.5 0.5 0.5 0.5 0.5 0.5 0.5 0.5 0.5 0.5 0.5 0.5\n",
            " 0.5 0.5 0.5 0.5 0.5 0.5 0.5 0.5 0.5 0.5 0.5 0.5 0.5 0.5 0.5 0.5 0.5 0.5\n",
            " 0.5 0.5 0.5 0.5 0.5 0.5 0.5 0.5 0.5 0.5 0.5 0.5 0.5 0.5 0.5 0.5 0.5 0.5\n",
            " 0.5 0.5 0.5 0.5 0.5 0.5 0.5 0.5 0.5 0.5 0.5 0.5 0.5 0.5 0.5 0.5 0.5 0.5\n",
            " 0.5 0.5 0.5 0.5 0.5 0.5 0.5 0.5 0.5 0.5 0.5 0.5 0.5 0.5 0.5 0.5 0.5 0.5\n",
            " 0.5 0.5 0.5 0.5 0.5 0.5 0.5 0.5 0.5 0.5 0.5 0.5 0.5 0.5 0.5 0.5 0.5 0.5\n",
            " 0.5 0.5 0.5 0.5 0.5 0.5 0.5 0.5 0.5 0.5 0.5 0.5 0.5 0.5 0.5 0.5 0.5 0.5\n",
            " 0.5 0.5 0.5 0.5 0.5 0.5 0.5 0.5 0.5 0.5 0.5 0.5 0.5 0.5 0.5 0.5 0.5 0.5\n",
            " 0.5 0.5 0.5 0.5 0.5 0.5 0.5 0.5 0.5 0.5 0.5 0.5 0.5 0.5 0.5 0.5 0.5 0.5\n",
            " 0.5 0.5 0.5 0.5 0.5 0.5 0.5 0.5 0.5 0.5 0.5 0.5 0.5 0.5 0.5 0.5 0.5 0.5\n",
            " 0.5 0.5 0.5 0.5 0.5 0.5 0.5 0.5 0.5 0.5 0.5 0.5 0.5 0.5 0.5 0.5 0.5 0.5\n",
            " 0.5 0.5 0.5 0.5 0.5 0.5 0.5 0.5 0.5 0.5 0.5 0.5 0.5 0.5 0.5 0.5 0.5 0.5\n",
            " 0.5 0.5 0.5 0.5 0.5 0.5 0.5 0.5 0.5 0.5 0.5 0.5 0.5 0.5 0.5 0.5 0.5 0.5\n",
            " 0.5 0.5 0.5 0.5 0.5 0.5 0.5 0.5 0.5 0.5 0.5 0.5 0.5 0.5 0.5 0.5 0.5 0.5\n",
            " 0.5 0.5 0.5 0.5 0.5 0.5 0.5 0.5 0.5 0.5 0.5 0.5 0.5 0.5 0.5 0.5 0.5 0.5\n",
            " 0.5 0.5 0.5 0.5 0.5 0.5 0.5 0.5 0.5 0.5 0.5 0.5 0.5 0.5 0.5 0.5 0.5 0.5\n",
            " 0.5 0.5 0.5 0.5 0.5 0.5 0.5 0.5 0.5 0.5 0.5 0.5 0.5 0.5 0.5 0.5 0.5 0.5\n",
            " 0.5 0.5 0.5 0.5 0.5 0.5 0.5 0.5 0.5 0.5 0.5 0.5 0.5 0.5 0.5 0.5 0.5 0.5\n",
            " 0.5 0.5 0.5 0.5 0.5 0.5 0.5 0.5 0.5 0.5 0.5 0.5 0.5 0.5 0.5 0.5 0.5 0.5\n",
            " 0.5 0.5 0.5 0.5 0.5 0.5 0.5 0.5 0.5 0.5 0.5 0.5 0.5 0.5 0.5 0.5 0.5 0.5\n",
            " 0.5 0.5 0.5 0.5 0.5 0.5 0.5 0.5 0.5 0.5 0.5 0.5 0.5 0.5 0.5 0.5 0.5 0.5\n",
            " 0.5 0.5 0.5 0.5 0.5 0.5 0.5 0.5 0.5 0.5 0.5 0.5 0.5 0.5 0.5 0.5 0.5 0.5\n",
            " 0.5 0.5 0.5 0.5 0.5 0.5 0.5 0.5 0.5]\n"
          ]
        }
      ]
    },
    {
      "cell_type": "markdown",
      "source": [
        "**[Problem 4] Draw a graph**"
      ],
      "metadata": {
        "id": "6gX-aes4rYPb"
      }
    },
    {
      "cell_type": "code",
      "source": [
        "import matplotlib.pyplot as plt\n",
        "plt.plot(arr[1:, 0], gradients)\n",
        "\n",
        "plt.title(\"Gradient of linear function\")\n",
        "plt.xlabel('x coordinate')\n",
        "plt.ylabel('Gradient')\n",
        "plt.show()"
      ],
      "metadata": {
        "colab": {
          "base_uri": "https://localhost:8080/",
          "height": 295
        },
        "id": "KdYRed4JrcMC",
        "outputId": "9f255587-3143-4f5d-f82a-a44deff64694"
      },
      "execution_count": 5,
      "outputs": [
        {
          "output_type": "display_data",
          "data": {
            "text/plain": [
              "<Figure size 432x288 with 1 Axes>"
            ],
            "image/png": "[encoded data removed]"
          },
          "metadata": {
            "needs_background": "light"
          }
        }
      ]
    },
    {
      "cell_type": "markdown",
      "source": [
        "**[Problem 5] Python functionalization**"
      ],
      "metadata": {
        "id": "DqJNnL6f1EQm"
      }
    },
    {
      "cell_type": "code",
      "source": [
        "def compute_gradient(function, x_range=(-50, 50.1, 0.1)):\n",
        "    \"\"\"\n",
        "    変化量を使い勾配を計算する。\n",
        "\n",
        "    Parameters\n",
        "    ----------------\n",
        "    function : function\n",
        "      求めたい関数、xのndarrayを入れるとyのndarrayを返すもの。\n",
        "    x_range : tuple\n",
        "      np.arange()の引数と同じ方法で範囲を指定する。\n",
        "\n",
        "    Returns\n",
        "    ----------------\n",
        "    array_xy : ndarray, shape(n, 2)\n",
        "      xとyを結合したもの。nはx_rangeに依存する。\n",
        "    gradient : ndarray, shape(n-1,)\n",
        "      関数の勾配。差をとるため要素は1つ減る\n",
        "    \"\"\"\n",
        "    array_x = np.arange(x_range[0], x_range[1], x_range[2])\n",
        "    array_y = function(array_x)\n",
        "    array_xy = np.stack([array_x, array_y]).T\n",
        "    gradient = np.diff(array_xy[:, 0]) / np.diff(array_xy[:, 1])\n",
        "    return array_xy, gradient\n",
        "def function1(array_x):\n",
        "    array_y = array_x**2\n",
        "    return array_y\n",
        "\n",
        "array_xy1, gradient1 = compute_gradient(function1)\n",
        "print(array_xy1)"
      ],
      "metadata": {
        "colab": {
          "base_uri": "https://localhost:8080/"
        },
        "id": "Yts0veHDwB2k",
        "outputId": "64991f21-b76b-4bbd-a62f-430a51f6c9e2"
      },
      "execution_count": 16,
      "outputs": [
        {
          "output_type": "stream",
          "name": "stdout",
          "text": [
            "[[ -50.   2500.  ]\n",
            " [ -49.9  2490.01]\n",
            " [ -49.8  2480.04]\n",
            " ...\n",
            " [  49.8  2480.04]\n",
            " [  49.9  2490.01]\n",
            " [  50.   2500.  ]]\n"
          ]
        }
      ]
    },
    {
      "cell_type": "code",
      "source": [
        "fig, ax = plt.subplots()\n",
        "ax.plot(array_xy1[1:, 0], gradient1)"
      ],
      "metadata": {
        "colab": {
          "base_uri": "https://localhost:8080/",
          "height": 282
        },
        "id": "9E8qLrrP48Qz",
        "outputId": "6835f8d9-9e34-4ece-c41c-f7f64c6ded19"
      },
      "execution_count": 15,
      "outputs": [
        {
          "output_type": "execute_result",
          "data": {
            "text/plain": [
              "[<matplotlib.lines.Line2D at 0x7fd7b95a2250>]"
            ]
          },
          "metadata": {},
          "execution_count": 15
        },
        {
          "output_type": "display_data",
          "data": {
            "text/plain": [
              "<Figure size 432x288 with 1 Axes>"
            ],
            "image/png": "[encoded data removed]"
          },
          "metadata": {
            "needs_background": "light"
          }
        }
      ]
    },
    {
      "cell_type": "code",
      "source": [
        "def function2(array_x):\n",
        "    array_y = 2*array_x**2 + 2**array_x\n",
        "    return array_y\n",
        "\n",
        "array_xy2, gradient2 = compute_gradient(function2)\n",
        "fig, ax = plt.subplots()\n",
        "ax.plot(array_xy2[1:, 0], gradient2)"
      ],
      "metadata": {
        "colab": {
          "base_uri": "https://localhost:8080/",
          "height": 282
        },
        "id": "B4nkHN3j6LZM",
        "outputId": "d8adfce2-d682-46a4-9b97-39eaaa5f6ed6"
      },
      "execution_count": 8,
      "outputs": [
        {
          "output_type": "execute_result",
          "data": {
            "text/plain": [
              "[<matplotlib.lines.Line2D at 0x7fd7b95fb550>]"
            ]
          },
          "metadata": {},
          "execution_count": 8
        },
        {
          "output_type": "display_data",
          "data": {
            "text/plain": [
              "<Figure size 432x288 with 1 Axes>"
            ],
            "image/png": "[encoded data removed]"
          },
          "metadata": {
            "needs_background": "light"
          }
        }
      ]
    },
    {
      "cell_type": "code",
      "source": [
        "def function3(array_x):\n",
        "    array_y = np.sin(array_x**0.5)\n",
        "    return array_y\n",
        "\n",
        "array_xy3, gradient3 = compute_gradient(function3)\n",
        "fig, ax = plt.subplots()\n",
        "ax.plot(array_xy3[1:, 0], gradient3)"
      ],
      "metadata": {
        "colab": {
          "base_uri": "https://localhost:8080/",
          "height": 317
        },
        "id": "gDwZcQ2p6ghz",
        "outputId": "fde06f27-58a4-4b02-9901-748d95f672e4"
      },
      "execution_count": 9,
      "outputs": [
        {
          "output_type": "stream",
          "name": "stderr",
          "text": [
            "/usr/local/lib/python3.7/dist-packages/ipykernel_launcher.py:2: RuntimeWarning: invalid value encountered in sqrt\n",
            "  \n"
          ]
        },
        {
          "output_type": "execute_result",
          "data": {
            "text/plain": [
              "[<matplotlib.lines.Line2D at 0x7fd7b955ced0>]"
            ]
          },
          "metadata": {},
          "execution_count": 9
        },
        {
          "output_type": "display_data",
          "data": {
            "text/plain": [
              "<Figure size 432x288 with 1 Axes>"
            ],
            "image/png": "[encoded data removed]"
          },
          "metadata": {
            "needs_background": "light"
          }
        }
      ]
    },
    {
      "cell_type": "markdown",
      "source": [
        "**[Problem 6] Find the minimum value**"
      ],
      "metadata": {
        "id": "zxBT3jIX7d0t"
      }
    },
    {
      "cell_type": "code",
      "source": [
        "print(np.min(array_xy1[:, 1]))\n",
        "print(np.argmin(array_xy1[:, 1]))\n",
        "\n",
        "print(np.min(array_xy2[:, 1]))\n",
        "print(np.argmin(array_xy2[:, 1]))\n",
        "\n",
        "print(np.min(array_xy3[:, 1]))\n",
        "print(np.argmin(array_xy3[:, 1]))\n"
      ],
      "metadata": {
        "colab": {
          "base_uri": "https://localhost:8080/"
        },
        "id": "a9o0-BXa7SNm",
        "outputId": "c0a09c2a-bf7a-4c01-b43c-07442999a53b"
      },
      "execution_count": 17,
      "outputs": [
        {
          "output_type": "stream",
          "name": "stdout",
          "text": [
            "5.048709793414476e-25\n",
            "500\n",
            "0.9505505632959851\n",
            "498\n",
            "nan\n",
            "0\n"
          ]
        }
      ]
    }
  ]
}