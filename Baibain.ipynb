{
  "nbformat": 4,
  "nbformat_minor": 0,
  "metadata": {
    "colab": {
      "name": "Baibain.ipynb",
      "provenance": [],
      "authorship_tag": "ABX9TyOJZ3gQtJyXCa6IV+mr/kBa",
      "include_colab_link": true
    },
    "kernelspec": {
      "name": "python3",
      "display_name": "Python 3"
    },
    "language_info": {
      "name": "python"
    }
  },
  "cells": [
    {
      "cell_type": "markdown",
      "metadata": {
        "id": "view-in-github",
        "colab_type": "text"
      },
      "source": [
        "<a href=\"https://colab.research.google.com/github/zolzayakh/Dive-into-coding/blob/main/Baibain.ipynb\" target=\"_parent\"><img src=\"https://colab.research.google.com/assets/colab-badge.svg\" alt=\"Open In Colab\"/></a>"
      ]
    },
    {
      "cell_type": "markdown",
      "source": [
        "\n",
        "**[Problem] The day when chestnut buns cover the universe**\n",
        "\n",
        "The volume of the universe is (27/2)×10^78 ｍ3\n",
        "\n",
        "Size of chestnut bun is 10^-4 ｍ3\n",
        "\n",
        "One chestnut bun will be 2^12n after n hours. The volume of chestnut bun after n hours is 2^12ｎ× 10^-4 ｍ3.\n",
        "\n",
        "Source: http://www7b.biglobe.ne.jp/~math-tota/su2/baibain.htm#:~:text=%E2%91%A1%E3%81%8F%E3%82%8A%E3%81%BE%E3%82%93%E3%81%98%E3%82%85%E3%81%86%E3%81%AE%E5%A4%A7%E3%81%8D,%EF%BC%9212%E5%80%8D%E3%81%AB%E3%81%AA%E3%82%8B%E3%80%82&text=%EF%BD%8E%E6%99%82%E9%96%93%E5%BE%8C%E3%81%AE%E3%81%8F%E3%82%8A,4%EF%BD%8D3%E3%81%A8%E8%80%83%E3%81%88%E3%82%8B%E3%80%82"
      ],
      "metadata": {
        "id": "j3C-nGz1ZSOd"
      }
    },
    {
      "cell_type": "code",
      "source": [
        "import math\n",
        "\n",
        "size = math.pow(10, -4)\n",
        "volume_universe = 13.5*math.pow(10, 78)\n",
        "\n",
        "n = math.log2(volume_universe/size)/12\n",
        "print(\"{} hours \".format(n))"
      ],
      "metadata": {
        "colab": {
          "base_uri": "https://localhost:8080/"
        },
        "id": "3oCym2LJZWqu",
        "outputId": "80dde902-f779-43eb-b8ef-969f0aac5d6a"
      },
      "execution_count": 1,
      "outputs": [
        {
          "output_type": "stream",
          "name": "stdout",
          "text": [
            "23.012749273577267 hours \n"
          ]
        }
      ]
    },
    {
      "cell_type": "markdown",
      "source": [
        "In case of Tokyo Dome, volume of the Tokyo Dome is 1.24 x 10^6 m3"
      ],
      "metadata": {
        "id": "hF1zSEMtZbDW"
      }
    },
    {
      "cell_type": "code",
      "source": [
        "import math\n",
        "\n",
        "size = float(input(\"Enter volume of object: \"))\n",
        "volume_universe = 13.5*math.pow(10, 78)\n",
        "print(volume_universe)\n",
        "print(size)\n",
        "n = math.log2(volume_universe/size)/12\n",
        "print(\"{} hours \".format(n))"
      ],
      "metadata": {
        "colab": {
          "base_uri": "https://localhost:8080/"
        },
        "id": "zaGAT7iDZax3",
        "outputId": "18afee56-e740-44a6-baae-aabfa71d61cb"
      },
      "execution_count": 2,
      "outputs": [
        {
          "output_type": "stream",
          "name": "stdout",
          "text": [
            "Enter volume of object: 1.24e6\n",
            "1.35e+79\n",
            "1240000.0\n",
            "20.21861418445345 hours \n"
          ]
        }
      ]
    },
    {
      "cell_type": "markdown",
      "source": [
        "In case of Size 7 basketball, volume of the basketball was calculated at beginning. Then use it."
      ],
      "metadata": {
        "id": "plgWebB-ZkUJ"
      }
    },
    {
      "cell_type": "code",
      "source": [
        "import math\n",
        "\n",
        "volume = (4/3) * 3.14 * math.pow(0.75, 3)\n",
        "print(volume)\n",
        "size = float(input(\"Enter volume of object: \"))\n",
        "volume_universe = 13.5*math.pow(10, 78)\n",
        "print(volume_universe)\n",
        "print(size)\n",
        "n = math.log2(volume_universe/size)/12\n",
        "print(\"{} hours \".format(n))"
      ],
      "metadata": {
        "colab": {
          "base_uri": "https://localhost:8080/"
        },
        "id": "aCuf-pXGZvWv",
        "outputId": "4dff61d6-9827-42fd-e6ea-05975e6c17b3"
      },
      "execution_count": 3,
      "outputs": [
        {
          "output_type": "stream",
          "name": "stdout",
          "text": [
            "1.7662499999999999\n",
            "Enter volume of object: 1.766245\n",
            "1.35e+79\n",
            "1.766245\n",
            "21.83704945224056 hours \n"
          ]
        }
      ]
    }
  ]
}