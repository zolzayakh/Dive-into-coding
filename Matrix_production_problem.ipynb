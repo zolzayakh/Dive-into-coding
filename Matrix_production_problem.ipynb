{
  "nbformat": 4,
  "nbformat_minor": 0,
  "metadata": {
    "colab": {
      "name": "Matrix production problem.ipynb",
      "provenance": [],
      "authorship_tag": "ABX9TyMsYGC4d14uzPnhFE2Uj8xX",
      "include_colab_link": true
    },
    "kernelspec": {
      "name": "python3",
      "display_name": "Python 3"
    },
    "language_info": {
      "name": "python"
    }
  },
  "cells": [
    {
      "cell_type": "markdown",
      "metadata": {
        "id": "view-in-github",
        "colab_type": "text"
      },
      "source": [
        "<a href=\"https://colab.research.google.com/github/zolzayakh/Dive-into-coding/blob/main/Matrix_production_problem.ipynb\" target=\"_parent\"><img src=\"https://colab.research.google.com/assets/colab-badge.svg\" alt=\"Open In Colab\"/></a>"
      ]
    },
    {
      "cell_type": "markdown",
      "source": [
        "**[Problem 2] Calculation by NumPy function**"
      ],
      "metadata": {
        "id": "rfYgMBCgEffW"
      }
    },
    {
      "cell_type": "code",
      "source": [
        "import numpy as np\n",
        "a_ndarray = np.array([[-1, 2, 3], [4, -5, 6], [7, 8, -9]])\n",
        "b_ndarray = np.array([[0, 2, 1], [0, 2, -8], [2, 9, -1]])\n",
        "np.matmul(a_ndarray, b_ndarray)"
      ],
      "metadata": {
        "colab": {
          "base_uri": "https://localhost:8080/"
        },
        "id": "Cina0m49Rq7D",
        "outputId": "f0cb4794-69a1-472a-e363-67a434329e81"
      },
      "execution_count": 1,
      "outputs": [
        {
          "output_type": "execute_result",
          "data": {
            "text/plain": [
              "array([[  6,  29, -20],\n",
              "       [ 12,  52,  38],\n",
              "       [-18, -51, -48]])"
            ]
          },
          "metadata": {},
          "execution_count": 1
        }
      ]
    },
    {
      "cell_type": "code",
      "source": [
        "np.dot(a_ndarray, b_ndarray)"
      ],
      "metadata": {
        "colab": {
          "base_uri": "https://localhost:8080/"
        },
        "id": "VEjceZybR8b9",
        "outputId": "b77c5d03-543c-4fe6-bd8b-2618b1b69fac"
      },
      "execution_count": 2,
      "outputs": [
        {
          "output_type": "execute_result",
          "data": {
            "text/plain": [
              "array([[  6,  29, -20],\n",
              "       [ 12,  52,  38],\n",
              "       [-18, -51, -48]])"
            ]
          },
          "metadata": {},
          "execution_count": 2
        }
      ]
    },
    {
      "cell_type": "code",
      "source": [
        "a_ndarray @ b_ndarray"
      ],
      "metadata": {
        "colab": {
          "base_uri": "https://localhost:8080/"
        },
        "id": "DVp5MlICSAHf",
        "outputId": "423eb4d2-a1d8-4811-bcb9-43dfc5298966"
      },
      "execution_count": 3,
      "outputs": [
        {
          "output_type": "execute_result",
          "data": {
            "text/plain": [
              "array([[  6,  29, -20],\n",
              "       [ 12,  52,  38],\n",
              "       [-18, -51, -48]])"
            ]
          },
          "metadata": {},
          "execution_count": 3
        }
      ]
    },
    {
      "cell_type": "markdown",
      "source": [
        "**[Problem 3] Implement the calculation of a certain element**"
      ],
      "metadata": {
        "id": "GJgwrbaySo0w"
      }
    },
    {
      "cell_type": "code",
      "source": [
        "import numpy as np\n",
        "a_ndarray = np.array([[-1, 2, 3], [4, -5, 6], [7, 8, -9]])\n",
        "b_ndarray = np.array([[0, 2, 1], [0, 2, -8], [2, 9, -1]])\n",
        "\n",
        "mul = [[0 for x in range(3)] for y in range(3)]\n",
        "for i in range(len(a_ndarray)):\n",
        "    for j in range(len(b_ndarray[0])):\n",
        "        for k in range(len(b_ndarray)):\n",
        "            mul[i][j] += a_ndarray[i][k] * b_ndarray[k][j]\n",
        "\n",
        "for r in mul: \n",
        "  print(r)"
      ],
      "metadata": {
        "colab": {
          "base_uri": "https://localhost:8080/"
        },
        "id": "kg-98HMaSzlH",
        "outputId": "f571e22f-096f-418b-d9ba-54f0251e3795"
      },
      "execution_count": 38,
      "outputs": [
        {
          "output_type": "stream",
          "name": "stdout",
          "text": [
            "[6, 29, -20]\n",
            "[12, 52, 38]\n",
            "[-18, -51, -48]\n"
          ]
        }
      ]
    },
    {
      "cell_type": "markdown",
      "source": [
        "**[Problem 4] Creation of a function that performs matrix multiplication**"
      ],
      "metadata": {
        "id": "JfN9_pDFYAMa"
      }
    },
    {
      "cell_type": "code",
      "source": [
        "import numpy as np\n",
        "\n",
        "a_ndarray = np.array([[-1, 2, 3], [4, -5, 6], [7, 8, -9]])\n",
        "b_ndarray = np.array([[0, 2, 1], [0, 2, -8], [2, 9, -1]])\n",
        "\n",
        "def matrix(a, b):\n",
        "  mul = [[0 for x in range(3)] for y in range(3)]\n",
        "  for i in range(len(a_ndarray)):\n",
        "      for j in range(len(b_ndarray[0])):\n",
        "          for k in range(len(b_ndarray)):\n",
        "             mul[i][j] += a_ndarray[i][k] * b_ndarray[k][j]\n",
        "  return(mul)\n",
        " \n",
        "mat_mul = matrix(a_ndarray, b_ndarray)\n",
        "for r in mat_mul:\n",
        "  print(r)"
      ],
      "metadata": {
        "id": "oIbS5d8ZX34e",
        "colab": {
          "base_uri": "https://localhost:8080/"
        },
        "outputId": "6d34b95f-9a1d-44ae-828f-ebf967fc4a3a"
      },
      "execution_count": 11,
      "outputs": [
        {
          "output_type": "stream",
          "name": "stdout",
          "text": [
            "[6, 29, -20]\n",
            "[12, 52, 38]\n",
            "[-18, -51, -48]\n"
          ]
        }
      ]
    },
    {
      "cell_type": "code",
      "source": [
        "d_ndarray = np.array([[-1, 2, 3], [4, -5, 6]])\n",
        "e_ndarray = np.array([[-9, 8, 7], [6, -5, 4]])\n",
        "\n",
        "def matrix(a, b):\n",
        "  mul = [[0 for x in range(3)] for y in range(3)]\n",
        "  for i in range(len(d_ndarray)):\n",
        "      for j in range(len(e_ndarray[0])):\n",
        "          for k in range(len(e_ndarray)):\n",
        "             mul[i][j] += d_ndarray[i][k] * e_ndarray[k][j]\n",
        "  return(mul)\n",
        " \n",
        "mat_mul = matrix(d_ndarray, e_ndarray)\n",
        "for r in mat_mul:\n",
        "  print(r)\n",
        "\n"
      ],
      "metadata": {
        "colab": {
          "base_uri": "https://localhost:8080/"
        },
        "id": "p9-Wal_lZukM",
        "outputId": "cebe0e7d-c618-4b4c-d499-f98f0340401c"
      },
      "execution_count": 39,
      "outputs": [
        {
          "output_type": "stream",
          "name": "stdout",
          "text": [
            "[21, -18, 1]\n",
            "[-66, 57, 8]\n",
            "[0, 0, 0]\n"
          ]
        }
      ]
    },
    {
      "cell_type": "markdown",
      "source": [
        "**[Problem 5] Judging the input for which the calculation is not defined**"
      ],
      "metadata": {
        "id": "bAILE4LKaJVS"
      }
    },
    {
      "cell_type": "code",
      "source": [
        "import numpy as np\n",
        "\n",
        "d_ndarray = np.array([[-1, 2, 3], [4, -5, 6]])\n",
        "e_ndarray = np.array([[-9, 8, 7], [6, -5, 4]])\n",
        "\n",
        "def matri(a, b):\n",
        "  if a.shape[0] == b.shape[1]:  \n",
        "    mul = [[0 for x in range(3)] for y in range(3)]\n",
        "    for i in range(len(d_ndarray)):\n",
        "        for j in range(len(e_ndarray[0])):\n",
        "            for k in range(len(e_ndarray)):\n",
        "                mul[i][j] += d_ndarray[i][k] * e_ndarray[k][j]\n",
        "    return(mul)\n",
        "  else:\n",
        "    return(\"Incorrect dimension!\")\n",
        "\n",
        " \n",
        "mat_mul1 = matri(d_ndarray, e_ndarray)\n",
        "print(mat_mul1)"
      ],
      "metadata": {
        "colab": {
          "base_uri": "https://localhost:8080/"
        },
        "id": "sy0wR5diaMev",
        "outputId": "2b02c176-4462-4281-d040-4648fdf58457"
      },
      "execution_count": 41,
      "outputs": [
        {
          "output_type": "stream",
          "name": "stdout",
          "text": [
            "Incorrect dimension!\n"
          ]
        }
      ]
    },
    {
      "cell_type": "markdown",
      "source": [
        "**【Question 6】Replacement**"
      ],
      "metadata": {
        "id": "tSK7ZzB1ad57"
      }
    },
    {
      "cell_type": "code",
      "source": [
        "import numpy as np\n",
        "d_ndarray = np.array([[-1, 2, 3], [4, -5, 6]]).T\n",
        "e_ndarray = np.array([[-9, 8, 7], [6, -5, 4]])\n",
        "def matrix_trans(a, b):\n",
        "  if a.shape[1] == b.shape[0]:  \n",
        "    mul = [[0 for x in range(3)] for y in range(3)]\n",
        "    for i in range(len(d_ndarray)):\n",
        "        for j in range(len(e_ndarray[0])):\n",
        "            for k in range(len(e_ndarray)):\n",
        "                mul[i][j] += d_ndarray[i][k] * e_ndarray[k][j]\n",
        "    return(mul)\n",
        "  else:\n",
        "    return(\"Incorrect dimension!\")\n",
        "\n",
        "mat_mul1 = matrix_trans(d_ndarray, e_ndarray)\n",
        "print(mat_mul1)"
      ],
      "metadata": {
        "colab": {
          "base_uri": "https://localhost:8080/"
        },
        "id": "2HNLgY6NadWm",
        "outputId": "a0ed3bfb-c260-4872-d069-4bfc360907f3"
      },
      "execution_count": 49,
      "outputs": [
        {
          "output_type": "stream",
          "name": "stdout",
          "text": [
            "[[33, -28, 9], [-48, 41, -6], [9, -6, 45]]\n"
          ]
        }
      ]
    },
    {
      "cell_type": "code",
      "source": [
        "np.dot(d_ndarray, e_ndarray)"
      ],
      "metadata": {
        "colab": {
          "base_uri": "https://localhost:8080/"
        },
        "outputId": "8c45cc2d-59e2-4051-9ef8-83cb979eb234",
        "id": "tCkiisg5n4bW"
      },
      "execution_count": 50,
      "outputs": [
        {
          "output_type": "execute_result",
          "data": {
            "text/plain": [
              "array([[ 33, -28,   9],\n",
              "       [-48,  41,  -6],\n",
              "       [  9,  -6,  45]])"
            ]
          },
          "metadata": {},
          "execution_count": 50
        }
      ]
    },
    {
      "cell_type": "code",
      "execution_count": null,
      "metadata": {
        "id": "3Vpbj00nETS-"
      },
      "outputs": [],
      "source": [
        ""
      ]
    },
    {
      "cell_type": "markdown",
      "source": [
        "**[Problem 2] Calculation by NumPy function**"
      ],
      "metadata": {
        "id": "3kw_ir5doK9J"
      }
    },
    {
      "cell_type": "code",
      "source": [
        "import numpy as np\n",
        "a_ndarray = np.array([[-1, 2, 3], [4, -5, 6], [7, 8, -9]])\n",
        "b_ndarray = np.array([[0, 2, 1], [0, 2, -8], [2, 9, -1]])\n",
        "np.matmul(a_ndarray, b_ndarray)"
      ],
      "metadata": {
        "colab": {
          "base_uri": "https://localhost:8080/"
        },
        "outputId": "c94a452f-c93b-4796-ea5b-97b21388e4b1",
        "id": "JmMNXLGOoK9J"
      },
      "execution_count": null,
      "outputs": [
        {
          "output_type": "execute_result",
          "data": {
            "text/plain": [
              "array([[  6,  29, -20],\n",
              "       [ 12,  52,  38],\n",
              "       [-18, -51, -48]])"
            ]
          },
          "metadata": {},
          "execution_count": 39
        }
      ]
    },
    {
      "cell_type": "code",
      "source": [
        "np.dot(a_ndarray, b_ndarray)"
      ],
      "metadata": {
        "colab": {
          "base_uri": "https://localhost:8080/"
        },
        "outputId": "188e6d87-7493-459e-abed-3e04db6d2019",
        "id": "MxqrzwgtoK9J"
      },
      "execution_count": null,
      "outputs": [
        {
          "output_type": "execute_result",
          "data": {
            "text/plain": [
              "array([[  6,  29, -20],\n",
              "       [ 12,  52,  38],\n",
              "       [-18, -51, -48]])"
            ]
          },
          "metadata": {},
          "execution_count": 5
        }
      ]
    },
    {
      "cell_type": "code",
      "source": [
        "a_ndarray @ b_ndarray"
      ],
      "metadata": {
        "colab": {
          "base_uri": "https://localhost:8080/"
        },
        "outputId": "576af866-7cef-419c-c3f5-71d39f093520",
        "id": "ceofZd5ToK9K"
      },
      "execution_count": null,
      "outputs": [
        {
          "output_type": "execute_result",
          "data": {
            "text/plain": [
              "array([[  6,  29, -20],\n",
              "       [ 12,  52,  38],\n",
              "       [-18, -51, -48]])"
            ]
          },
          "metadata": {},
          "execution_count": 6
        }
      ]
    },
    {
      "cell_type": "markdown",
      "source": [
        "**[Problem 3] Implement the calculation of a certain element**"
      ],
      "metadata": {
        "id": "JJuW8doooK9K"
      }
    },
    {
      "cell_type": "code",
      "source": [
        "import numpy as np\n",
        "a_ndarray = np.array([[-1, 2, 3], [4, -5, 6], [7, 8, -9]])\n",
        "b_ndarray = np.array([[0, 2, 1], [0, 2, -8], [2, 9, -1]])\n",
        "\n",
        "mul = [[0 for x in range(3)] for y in range(3)]\n",
        " \n",
        "for i in range(len(a_ndarray)):\n",
        "    for j in range(len(b_ndarray[0])):\n",
        "        for k in range(len(b_ndarray)):\n",
        " \n",
        "            # resulted matrix\n",
        "            mul[i][j] += a_ndarray[i][k] * b_ndarray[k][j]\n",
        " \n",
        "print(mul)"
      ],
      "metadata": {
        "colab": {
          "base_uri": "https://localhost:8080/"
        },
        "outputId": "4fdab10a-3998-4d25-fe1d-bf42241eb904",
        "id": "eJ6g7QC6oK9K"
      },
      "execution_count": null,
      "outputs": [
        {
          "output_type": "stream",
          "name": "stdout",
          "text": [
            "[[6, 29, -20], [12, 52, 38], [-18, -51, -48]]\n"
          ]
        }
      ]
    },
    {
      "cell_type": "markdown",
      "source": [
        "**[Problem 4] Creation of a function that performs matrix multiplication**"
      ],
      "metadata": {
        "id": "JTlTZ4BNoK9L"
      }
    },
    {
      "cell_type": "code",
      "source": [
        "import numpy as np\n",
        "\n",
        "a_ndarray = np.array([[-1, 2, 3], [4, -5, 6], [7, 8, -9]])\n",
        "b_ndarray = np.array([[0, 2, 1], [0, 2, -8], [2, 9, -1]])\n",
        "\n",
        "def matri(a, b):\n",
        "  mul = [[0 for x in range(3)] for y in range(3)]\n",
        "  for i in range(len(a_ndarray)):\n",
        "      for j in range(len(b_ndarray[0])):\n",
        "          for k in range(len(b_ndarray)):\n",
        "  \n",
        "              # resulted matrix\n",
        "              mul[i][j] += a_ndarray[i][k] * b_ndarray[k][j]\n",
        "  return(mul)\n",
        " \n",
        "mat_mul = matri(a_ndarray, b_ndarray)\n",
        "for r in mat_mul:\n",
        "  print(r)"
      ],
      "metadata": {
        "colab": {
          "base_uri": "https://localhost:8080/"
        },
        "outputId": "706e23b5-5337-4b93-e436-39febf3d1416",
        "id": "y2J8aE3QoK9L"
      },
      "execution_count": null,
      "outputs": [
        {
          "output_type": "stream",
          "name": "stdout",
          "text": [
            "[6, 29, -20]\n",
            "[12, 52, 38]\n",
            "[-18, -51, -48]\n"
          ]
        }
      ]
    },
    {
      "cell_type": "code",
      "source": [
        "d_ndarray = np.array([[-1, 2, 3], [4, -5, 6]])\n",
        "e_ndarray = np.array([[-9, 8, 7], [6, -5, 4]])\n",
        "print(d_ndarray.shape)\n",
        "mat_mul_de = matri(d_ndarray, e_ndarray)\n",
        "print(mat_mul_de)"
      ],
      "metadata": {
        "colab": {
          "base_uri": "https://localhost:8080/"
        },
        "outputId": "e0753f66-d6d4-42e3-9334-d71be4ad1178",
        "id": "w68jg1GRoK9L"
      },
      "execution_count": null,
      "outputs": [
        {
          "output_type": "stream",
          "name": "stdout",
          "text": [
            "(2, 3)\n",
            "[[6, 29, -20], [12, 52, 38], [-18, -51, -48]]\n"
          ]
        }
      ]
    },
    {
      "cell_type": "markdown",
      "source": [
        "**[Problem 5] Judging the input for which the calculation is not defined**"
      ],
      "metadata": {
        "id": "7dfmuVFYoK9M"
      }
    },
    {
      "cell_type": "code",
      "source": [
        "import numpy as np\n",
        "\n",
        "d_ndarray = np.array([[-1, 2, 3], [4, -5, 6]])\n",
        "e_ndarray = np.array([[-9, 8, 7], [6, -5, 4]])\n",
        "# a_ndarray = np.array([[-1, 2, 3], [4, -5, 6], [7, 8, -9]])\n",
        "# b_ndarray = np.array([[0, 2, 1], [0, 2, -8], [2, 9, -1]])\n",
        "\n",
        "def matri(a, b):\n",
        "  if a.shape[0] == b.shape[1]:  \n",
        "    mul = [[0 for x in range(3)] for y in range(3)]\n",
        "    for i in range(len(a_ndarray)):\n",
        "        for j in range(len(a_ndarray[0])):\n",
        "            for k in range(len(b_ndarray)):\n",
        "                mul[i][j] += a_ndarray[i][k] * b_ndarray[k][j]\n",
        "    return(mul)\n",
        "  else:\n",
        "    return(\"Incorrect dimension!\")\n",
        "\n",
        " \n",
        "mat_mul1 = matri(d_ndarray, e_ndarray)\n",
        "print(mat_mul1)"
      ],
      "metadata": {
        "colab": {
          "base_uri": "https://localhost:8080/"
        },
        "outputId": "7e8037f6-6f09-43d5-d700-298ba42647a8",
        "id": "U09IXnBHoK9M"
      },
      "execution_count": null,
      "outputs": [
        {
          "output_type": "stream",
          "name": "stdout",
          "text": [
            "Incorrect dimension!\n"
          ]
        }
      ]
    },
    {
      "cell_type": "markdown",
      "source": [
        "**【Question 6】Replacement**"
      ],
      "metadata": {
        "id": "Z-W09ETAoK9M"
      }
    },
    {
      "cell_type": "code",
      "source": [
        "d_ndarray = np.array([[-1, 2, 3], [4, -5, 6]]).T\n",
        "e_ndarray = np.array([[-9, 8, 7], [6, -5, 4]])\n",
        "mat_mul_de6 = matri(d_ndarray, e_ndarray)\n",
        "print(mat_mul_de6)"
      ],
      "metadata": {
        "colab": {
          "base_uri": "https://localhost:8080/"
        },
        "outputId": "8b60d9e0-979c-4534-f2e4-f9d1c8cf6569",
        "id": "NOVavj0ooK9M"
      },
      "execution_count": null,
      "outputs": [
        {
          "output_type": "stream",
          "name": "stdout",
          "text": [
            "[[6, 29, -20], [12, 52, 38], [-18, -51, -48]]\n"
          ]
        }
      ]
    },
    {
      "cell_type": "code",
      "execution_count": null,
      "metadata": {
        "id": "4ffm2ZMGoLyk"
      },
      "outputs": [],
      "source": [
        ""
      ]
    },
    {
      "cell_type": "markdown",
      "source": [
        "**[Problem 2] Calculation by NumPy function**"
      ],
      "metadata": {
        "id": "eosWp-SaoLyk"
      }
    },
    {
      "cell_type": "code",
      "source": [
        "import numpy as np\n",
        "a_ndarray = np.array([[-1, 2, 3], [4, -5, 6], [7, 8, -9]])\n",
        "b_ndarray = np.array([[0, 2, 1], [0, 2, -8], [2, 9, -1]])\n",
        "np.matmul(a_ndarray, b_ndarray)"
      ],
      "metadata": {
        "colab": {
          "base_uri": "https://localhost:8080/"
        },
        "outputId": "c94a452f-c93b-4796-ea5b-97b21388e4b1",
        "id": "lAhuEbsEoLyk"
      },
      "execution_count": null,
      "outputs": [
        {
          "output_type": "execute_result",
          "data": {
            "text/plain": [
              "array([[  6,  29, -20],\n",
              "       [ 12,  52,  38],\n",
              "       [-18, -51, -48]])"
            ]
          },
          "metadata": {},
          "execution_count": 39
        }
      ]
    },
    {
      "cell_type": "code",
      "source": [
        "np.dot(a_ndarray, b_ndarray)"
      ],
      "metadata": {
        "colab": {
          "base_uri": "https://localhost:8080/"
        },
        "outputId": "188e6d87-7493-459e-abed-3e04db6d2019",
        "id": "zmefijTEoLyl"
      },
      "execution_count": null,
      "outputs": [
        {
          "output_type": "execute_result",
          "data": {
            "text/plain": [
              "array([[  6,  29, -20],\n",
              "       [ 12,  52,  38],\n",
              "       [-18, -51, -48]])"
            ]
          },
          "metadata": {},
          "execution_count": 5
        }
      ]
    },
    {
      "cell_type": "code",
      "source": [
        "a_ndarray @ b_ndarray"
      ],
      "metadata": {
        "colab": {
          "base_uri": "https://localhost:8080/"
        },
        "outputId": "576af866-7cef-419c-c3f5-71d39f093520",
        "id": "unh24Hm-oLyl"
      },
      "execution_count": null,
      "outputs": [
        {
          "output_type": "execute_result",
          "data": {
            "text/plain": [
              "array([[  6,  29, -20],\n",
              "       [ 12,  52,  38],\n",
              "       [-18, -51, -48]])"
            ]
          },
          "metadata": {},
          "execution_count": 6
        }
      ]
    },
    {
      "cell_type": "markdown",
      "source": [
        "**[Problem 3] Implement the calculation of a certain element**"
      ],
      "metadata": {
        "id": "6VmaUls2oLym"
      }
    },
    {
      "cell_type": "code",
      "source": [
        "import numpy as np\n",
        "a_ndarray = np.array([[-1, 2, 3], [4, -5, 6], [7, 8, -9]])\n",
        "b_ndarray = np.array([[0, 2, 1], [0, 2, -8], [2, 9, -1]])\n",
        "\n",
        "mul = [[0 for x in range(3)] for y in range(3)]\n",
        " \n",
        "for i in range(len(a_ndarray)):\n",
        "    for j in range(len(b_ndarray[0])):\n",
        "        for k in range(len(b_ndarray)):\n",
        " \n",
        "            # resulted matrix\n",
        "            mul[i][j] += a_ndarray[i][k] * b_ndarray[k][j]\n",
        " \n",
        "print(mul)"
      ],
      "metadata": {
        "colab": {
          "base_uri": "https://localhost:8080/"
        },
        "outputId": "4fdab10a-3998-4d25-fe1d-bf42241eb904",
        "id": "MVckSTTFoLym"
      },
      "execution_count": null,
      "outputs": [
        {
          "output_type": "stream",
          "name": "stdout",
          "text": [
            "[[6, 29, -20], [12, 52, 38], [-18, -51, -48]]\n"
          ]
        }
      ]
    },
    {
      "cell_type": "markdown",
      "source": [
        "**[Problem 4] Creation of a function that performs matrix multiplication**"
      ],
      "metadata": {
        "id": "DW8tgGT5oLyn"
      }
    },
    {
      "cell_type": "code",
      "source": [
        "import numpy as np\n",
        "\n",
        "a_ndarray = np.array([[-1, 2, 3], [4, -5, 6], [7, 8, -9]])\n",
        "b_ndarray = np.array([[0, 2, 1], [0, 2, -8], [2, 9, -1]])\n",
        "\n",
        "def matri(a, b):\n",
        "  mul = [[0 for x in range(3)] for y in range(3)]\n",
        "  for i in range(len(a_ndarray)):\n",
        "      for j in range(len(b_ndarray[0])):\n",
        "          for k in range(len(b_ndarray)):\n",
        "  \n",
        "              # resulted matrix\n",
        "              mul[i][j] += a_ndarray[i][k] * b_ndarray[k][j]\n",
        "  return(mul)\n",
        " \n",
        "mat_mul = matri(a_ndarray, b_ndarray)\n",
        "for r in mat_mul:\n",
        "  print(r)"
      ],
      "metadata": {
        "colab": {
          "base_uri": "https://localhost:8080/"
        },
        "outputId": "706e23b5-5337-4b93-e436-39febf3d1416",
        "id": "7RDWaNSDoLyn"
      },
      "execution_count": null,
      "outputs": [
        {
          "output_type": "stream",
          "name": "stdout",
          "text": [
            "[6, 29, -20]\n",
            "[12, 52, 38]\n",
            "[-18, -51, -48]\n"
          ]
        }
      ]
    },
    {
      "cell_type": "code",
      "source": [
        "d_ndarray = np.array([[-1, 2, 3], [4, -5, 6]])\n",
        "e_ndarray = np.array([[-9, 8, 7], [6, -5, 4]])\n",
        "print(d_ndarray.shape)\n",
        "mat_mul_de = matri(d_ndarray, e_ndarray)\n",
        "print(mat_mul_de)"
      ],
      "metadata": {
        "colab": {
          "base_uri": "https://localhost:8080/"
        },
        "outputId": "e0753f66-d6d4-42e3-9334-d71be4ad1178",
        "id": "mYTVLMgSoLyo"
      },
      "execution_count": null,
      "outputs": [
        {
          "output_type": "stream",
          "name": "stdout",
          "text": [
            "(2, 3)\n",
            "[[6, 29, -20], [12, 52, 38], [-18, -51, -48]]\n"
          ]
        }
      ]
    },
    {
      "cell_type": "markdown",
      "source": [
        "**[Problem 5] Judging the input for which the calculation is not defined**"
      ],
      "metadata": {
        "id": "flHZ-t2PoLyo"
      }
    },
    {
      "cell_type": "code",
      "source": [
        "import numpy as np\n",
        "\n",
        "d_ndarray = np.array([[-1, 2, 3], [4, -5, 6]])\n",
        "e_ndarray = np.array([[-9, 8, 7], [6, -5, 4]])\n",
        "# a_ndarray = np.array([[-1, 2, 3], [4, -5, 6], [7, 8, -9]])\n",
        "# b_ndarray = np.array([[0, 2, 1], [0, 2, -8], [2, 9, -1]])\n",
        "\n",
        "def matri(a, b):\n",
        "  if a.shape[0] == b.shape[1]:  \n",
        "    mul = [[0 for x in range(3)] for y in range(3)]\n",
        "    for i in range(len(a_ndarray)):\n",
        "        for j in range(len(a_ndarray[0])):\n",
        "            for k in range(len(b_ndarray)):\n",
        "                mul[i][j] += a_ndarray[i][k] * b_ndarray[k][j]\n",
        "    return(mul)\n",
        "  else:\n",
        "    return(\"Incorrect dimension!\")\n",
        "\n",
        " \n",
        "mat_mul1 = matri(d_ndarray, e_ndarray)\n",
        "print(mat_mul1)"
      ],
      "metadata": {
        "colab": {
          "base_uri": "https://localhost:8080/"
        },
        "outputId": "7e8037f6-6f09-43d5-d700-298ba42647a8",
        "id": "Dn7-wMfnoLyp"
      },
      "execution_count": null,
      "outputs": [
        {
          "output_type": "stream",
          "name": "stdout",
          "text": [
            "Incorrect dimension!\n"
          ]
        }
      ]
    },
    {
      "cell_type": "markdown",
      "source": [
        "**【Question 6】Replacement**"
      ],
      "metadata": {
        "id": "qAE2AKlGoLyp"
      }
    },
    {
      "cell_type": "code",
      "source": [
        "d_ndarray = np.array([[-1, 2, 3], [4, -5, 6]]).T\n",
        "e_ndarray = np.array([[-9, 8, 7], [6, -5, 4]])\n",
        "mat_mul_de6 = matri(d_ndarray, e_ndarray)\n",
        "print(mat_mul_de6)"
      ],
      "metadata": {
        "colab": {
          "base_uri": "https://localhost:8080/"
        },
        "outputId": "8b60d9e0-979c-4534-f2e4-f9d1c8cf6569",
        "id": "lfmDUNh1oLyq"
      },
      "execution_count": null,
      "outputs": [
        {
          "output_type": "stream",
          "name": "stdout",
          "text": [
            "[[6, 29, -20], [12, 52, 38], [-18, -51, -48]]\n"
          ]
        }
      ]
    },
    {
      "cell_type": "code",
      "execution_count": null,
      "metadata": {
        "id": "tPeuhRjcoNBF"
      },
      "outputs": [],
      "source": [
        ""
      ]
    },
    {
      "cell_type": "markdown",
      "source": [
        "**[Problem 2] Calculation by NumPy function**"
      ],
      "metadata": {
        "id": "k5pHpvOYoNBF"
      }
    },
    {
      "cell_type": "code",
      "source": [
        "import numpy as np\n",
        "a_ndarray = np.array([[-1, 2, 3], [4, -5, 6], [7, 8, -9]])\n",
        "b_ndarray = np.array([[0, 2, 1], [0, 2, -8], [2, 9, -1]])\n",
        "np.matmul(a_ndarray, b_ndarray)"
      ],
      "metadata": {
        "colab": {
          "base_uri": "https://localhost:8080/"
        },
        "outputId": "c94a452f-c93b-4796-ea5b-97b21388e4b1",
        "id": "fAWLLXQ4oNBG"
      },
      "execution_count": null,
      "outputs": [
        {
          "output_type": "execute_result",
          "data": {
            "text/plain": [
              "array([[  6,  29, -20],\n",
              "       [ 12,  52,  38],\n",
              "       [-18, -51, -48]])"
            ]
          },
          "metadata": {},
          "execution_count": 39
        }
      ]
    },
    {
      "cell_type": "code",
      "source": [
        "np.dot(a_ndarray, b_ndarray)"
      ],
      "metadata": {
        "colab": {
          "base_uri": "https://localhost:8080/"
        },
        "outputId": "188e6d87-7493-459e-abed-3e04db6d2019",
        "id": "gZuY13WGoNBG"
      },
      "execution_count": null,
      "outputs": [
        {
          "output_type": "execute_result",
          "data": {
            "text/plain": [
              "array([[  6,  29, -20],\n",
              "       [ 12,  52,  38],\n",
              "       [-18, -51, -48]])"
            ]
          },
          "metadata": {},
          "execution_count": 5
        }
      ]
    },
    {
      "cell_type": "code",
      "source": [
        "a_ndarray @ b_ndarray"
      ],
      "metadata": {
        "colab": {
          "base_uri": "https://localhost:8080/"
        },
        "outputId": "576af866-7cef-419c-c3f5-71d39f093520",
        "id": "2vYKNno7oNBH"
      },
      "execution_count": null,
      "outputs": [
        {
          "output_type": "execute_result",
          "data": {
            "text/plain": [
              "array([[  6,  29, -20],\n",
              "       [ 12,  52,  38],\n",
              "       [-18, -51, -48]])"
            ]
          },
          "metadata": {},
          "execution_count": 6
        }
      ]
    },
    {
      "cell_type": "markdown",
      "source": [
        "**[Problem 3] Implement the calculation of a certain element**"
      ],
      "metadata": {
        "id": "d2jR3NcHoNBH"
      }
    },
    {
      "cell_type": "code",
      "source": [
        "import numpy as np\n",
        "a_ndarray = np.array([[-1, 2, 3], [4, -5, 6], [7, 8, -9]])\n",
        "b_ndarray = np.array([[0, 2, 1], [0, 2, -8], [2, 9, -1]])\n",
        "\n",
        "mul = [[0 for x in range(3)] for y in range(3)]\n",
        " \n",
        "for i in range(len(a_ndarray)):\n",
        "    for j in range(len(b_ndarray[0])):\n",
        "        for k in range(len(b_ndarray)):\n",
        " \n",
        "            # resulted matrix\n",
        "            mul[i][j] += a_ndarray[i][k] * b_ndarray[k][j]\n",
        " \n",
        "print(mul)"
      ],
      "metadata": {
        "colab": {
          "base_uri": "https://localhost:8080/"
        },
        "outputId": "4fdab10a-3998-4d25-fe1d-bf42241eb904",
        "id": "nd-PQ8m8oNBH"
      },
      "execution_count": null,
      "outputs": [
        {
          "output_type": "stream",
          "name": "stdout",
          "text": [
            "[[6, 29, -20], [12, 52, 38], [-18, -51, -48]]\n"
          ]
        }
      ]
    },
    {
      "cell_type": "markdown",
      "source": [
        "**[Problem 4] Creation of a function that performs matrix multiplication**"
      ],
      "metadata": {
        "id": "hTLETWQcoNBJ"
      }
    },
    {
      "cell_type": "code",
      "source": [
        "import numpy as np\n",
        "\n",
        "a_ndarray = np.array([[-1, 2, 3], [4, -5, 6], [7, 8, -9]])\n",
        "b_ndarray = np.array([[0, 2, 1], [0, 2, -8], [2, 9, -1]])\n",
        "\n",
        "def matri(a, b):\n",
        "  mul = [[0 for x in range(3)] for y in range(3)]\n",
        "  for i in range(len(a_ndarray)):\n",
        "      for j in range(len(b_ndarray[0])):\n",
        "          for k in range(len(b_ndarray)):\n",
        "  \n",
        "              # resulted matrix\n",
        "              mul[i][j] += a_ndarray[i][k] * b_ndarray[k][j]\n",
        "  return(mul)\n",
        " \n",
        "mat_mul = matri(a_ndarray, b_ndarray)\n",
        "for r in mat_mul:\n",
        "  print(r)"
      ],
      "metadata": {
        "colab": {
          "base_uri": "https://localhost:8080/"
        },
        "outputId": "706e23b5-5337-4b93-e436-39febf3d1416",
        "id": "y89mlp5OoNBK"
      },
      "execution_count": null,
      "outputs": [
        {
          "output_type": "stream",
          "name": "stdout",
          "text": [
            "[6, 29, -20]\n",
            "[12, 52, 38]\n",
            "[-18, -51, -48]\n"
          ]
        }
      ]
    },
    {
      "cell_type": "code",
      "source": [
        "d_ndarray = np.array([[-1, 2, 3], [4, -5, 6]])\n",
        "e_ndarray = np.array([[-9, 8, 7], [6, -5, 4]])\n",
        "print(d_ndarray.shape)\n",
        "mat_mul_de = matri(d_ndarray, e_ndarray)\n",
        "print(mat_mul_de)"
      ],
      "metadata": {
        "colab": {
          "base_uri": "https://localhost:8080/"
        },
        "outputId": "e0753f66-d6d4-42e3-9334-d71be4ad1178",
        "id": "PNurgNYnoNBK"
      },
      "execution_count": null,
      "outputs": [
        {
          "output_type": "stream",
          "name": "stdout",
          "text": [
            "(2, 3)\n",
            "[[6, 29, -20], [12, 52, 38], [-18, -51, -48]]\n"
          ]
        }
      ]
    },
    {
      "cell_type": "markdown",
      "source": [
        "**[Problem 5] Judging the input for which the calculation is not defined**"
      ],
      "metadata": {
        "id": "He6nqfd4oNBL"
      }
    },
    {
      "cell_type": "code",
      "source": [
        "import numpy as np\n",
        "\n",
        "d_ndarray = np.array([[-1, 2, 3], [4, -5, 6]])\n",
        "e_ndarray = np.array([[-9, 8, 7], [6, -5, 4]])\n",
        "# a_ndarray = np.array([[-1, 2, 3], [4, -5, 6], [7, 8, -9]])\n",
        "# b_ndarray = np.array([[0, 2, 1], [0, 2, -8], [2, 9, -1]])\n",
        "\n",
        "def matri(a, b):\n",
        "  if a.shape[0] == b.shape[1]:  \n",
        "    mul = [[0 for x in range(3)] for y in range(3)]\n",
        "    for i in range(len(a_ndarray)):\n",
        "        for j in range(len(a_ndarray[0])):\n",
        "            for k in range(len(b_ndarray)):\n",
        "                mul[i][j] += a_ndarray[i][k] * b_ndarray[k][j]\n",
        "    return(mul)\n",
        "  else:\n",
        "    return(\"Incorrect dimension!\")\n",
        "\n",
        " \n",
        "mat_mul1 = matri(d_ndarray, e_ndarray)\n",
        "print(mat_mul1)"
      ],
      "metadata": {
        "colab": {
          "base_uri": "https://localhost:8080/"
        },
        "outputId": "7e8037f6-6f09-43d5-d700-298ba42647a8",
        "id": "ffej47cgoNBL"
      },
      "execution_count": null,
      "outputs": [
        {
          "output_type": "stream",
          "name": "stdout",
          "text": [
            "Incorrect dimension!\n"
          ]
        }
      ]
    },
    {
      "cell_type": "markdown",
      "source": [
        "**【Question 6】Replacement**"
      ],
      "metadata": {
        "id": "ZDfJROdZoNBM"
      }
    },
    {
      "cell_type": "code",
      "source": [
        "d_ndarray = np.array([[-1, 2, 3], [4, -5, 6]]).T\n",
        "e_ndarray = np.array([[-9, 8, 7], [6, -5, 4]])\n",
        "mat_mul_de6 = matri(d_ndarray, e_ndarray)\n",
        "print(mat_mul_de6)"
      ],
      "metadata": {
        "colab": {
          "base_uri": "https://localhost:8080/"
        },
        "outputId": "8b60d9e0-979c-4534-f2e4-f9d1c8cf6569",
        "id": "tZndKcb-oNBM"
      },
      "execution_count": null,
      "outputs": [
        {
          "output_type": "stream",
          "name": "stdout",
          "text": [
            "[[6, 29, -20], [12, 52, 38], [-18, -51, -48]]\n"
          ]
        }
      ]
    },
    {
      "cell_type": "code",
      "execution_count": null,
      "metadata": {
        "id": "fTBY2hsNoOhB"
      },
      "outputs": [],
      "source": [
        ""
      ]
    },
    {
      "cell_type": "markdown",
      "source": [
        "**[Problem 2] Calculation by NumPy function**"
      ],
      "metadata": {
        "id": "mT4eHXYloOhC"
      }
    },
    {
      "cell_type": "code",
      "source": [
        "import numpy as np\n",
        "a_ndarray = np.array([[-1, 2, 3], [4, -5, 6], [7, 8, -9]])\n",
        "b_ndarray = np.array([[0, 2, 1], [0, 2, -8], [2, 9, -1]])\n",
        "np.matmul(a_ndarray, b_ndarray)"
      ],
      "metadata": {
        "colab": {
          "base_uri": "https://localhost:8080/"
        },
        "outputId": "c94a452f-c93b-4796-ea5b-97b21388e4b1",
        "id": "I3OUWuFdoOhD"
      },
      "execution_count": null,
      "outputs": [
        {
          "output_type": "execute_result",
          "data": {
            "text/plain": [
              "array([[  6,  29, -20],\n",
              "       [ 12,  52,  38],\n",
              "       [-18, -51, -48]])"
            ]
          },
          "metadata": {},
          "execution_count": 39
        }
      ]
    },
    {
      "cell_type": "code",
      "source": [
        "np.dot(a_ndarray, b_ndarray)"
      ],
      "metadata": {
        "colab": {
          "base_uri": "https://localhost:8080/"
        },
        "outputId": "188e6d87-7493-459e-abed-3e04db6d2019",
        "id": "kqXUNRkboOhD"
      },
      "execution_count": null,
      "outputs": [
        {
          "output_type": "execute_result",
          "data": {
            "text/plain": [
              "array([[  6,  29, -20],\n",
              "       [ 12,  52,  38],\n",
              "       [-18, -51, -48]])"
            ]
          },
          "metadata": {},
          "execution_count": 5
        }
      ]
    },
    {
      "cell_type": "code",
      "source": [
        "a_ndarray @ b_ndarray"
      ],
      "metadata": {
        "colab": {
          "base_uri": "https://localhost:8080/"
        },
        "outputId": "576af866-7cef-419c-c3f5-71d39f093520",
        "id": "sagjWhwFoOhE"
      },
      "execution_count": null,
      "outputs": [
        {
          "output_type": "execute_result",
          "data": {
            "text/plain": [
              "array([[  6,  29, -20],\n",
              "       [ 12,  52,  38],\n",
              "       [-18, -51, -48]])"
            ]
          },
          "metadata": {},
          "execution_count": 6
        }
      ]
    },
    {
      "cell_type": "markdown",
      "source": [
        "**[Problem 3] Implement the calculation of a certain element**"
      ],
      "metadata": {
        "id": "0A66MeeIoOhF"
      }
    },
    {
      "cell_type": "code",
      "source": [
        "import numpy as np\n",
        "a_ndarray = np.array([[-1, 2, 3], [4, -5, 6], [7, 8, -9]])\n",
        "b_ndarray = np.array([[0, 2, 1], [0, 2, -8], [2, 9, -1]])\n",
        "\n",
        "mul = [[0 for x in range(3)] for y in range(3)]\n",
        " \n",
        "for i in range(len(a_ndarray)):\n",
        "    for j in range(len(b_ndarray[0])):\n",
        "        for k in range(len(b_ndarray)):\n",
        " \n",
        "            # resulted matrix\n",
        "            mul[i][j] += a_ndarray[i][k] * b_ndarray[k][j]\n",
        " \n",
        "print(mul)"
      ],
      "metadata": {
        "colab": {
          "base_uri": "https://localhost:8080/"
        },
        "outputId": "4fdab10a-3998-4d25-fe1d-bf42241eb904",
        "id": "Wcpw6WluoOhG"
      },
      "execution_count": null,
      "outputs": [
        {
          "output_type": "stream",
          "name": "stdout",
          "text": [
            "[[6, 29, -20], [12, 52, 38], [-18, -51, -48]]\n"
          ]
        }
      ]
    },
    {
      "cell_type": "markdown",
      "source": [
        "**[Problem 4] Creation of a function that performs matrix multiplication**"
      ],
      "metadata": {
        "id": "semTu_40oOhH"
      }
    },
    {
      "cell_type": "code",
      "source": [
        "import numpy as np\n",
        "\n",
        "a_ndarray = np.array([[-1, 2, 3], [4, -5, 6], [7, 8, -9]])\n",
        "b_ndarray = np.array([[0, 2, 1], [0, 2, -8], [2, 9, -1]])\n",
        "\n",
        "def matri(a, b):\n",
        "  mul = [[0 for x in range(3)] for y in range(3)]\n",
        "  for i in range(len(a_ndarray)):\n",
        "      for j in range(len(b_ndarray[0])):\n",
        "          for k in range(len(b_ndarray)):\n",
        "  \n",
        "              # resulted matrix\n",
        "              mul[i][j] += a_ndarray[i][k] * b_ndarray[k][j]\n",
        "  return(mul)\n",
        " \n",
        "mat_mul = matri(a_ndarray, b_ndarray)\n",
        "for r in mat_mul:\n",
        "  print(r)"
      ],
      "metadata": {
        "colab": {
          "base_uri": "https://localhost:8080/"
        },
        "outputId": "706e23b5-5337-4b93-e436-39febf3d1416",
        "id": "dlv3knjLoOhH"
      },
      "execution_count": null,
      "outputs": [
        {
          "output_type": "stream",
          "name": "stdout",
          "text": [
            "[6, 29, -20]\n",
            "[12, 52, 38]\n",
            "[-18, -51, -48]\n"
          ]
        }
      ]
    },
    {
      "cell_type": "code",
      "source": [
        "d_ndarray = np.array([[-1, 2, 3], [4, -5, 6]])\n",
        "e_ndarray = np.array([[-9, 8, 7], [6, -5, 4]])\n",
        "print(d_ndarray.shape)\n",
        "mat_mul_de = matri(d_ndarray, e_ndarray)\n",
        "print(mat_mul_de)"
      ],
      "metadata": {
        "colab": {
          "base_uri": "https://localhost:8080/"
        },
        "outputId": "e0753f66-d6d4-42e3-9334-d71be4ad1178",
        "id": "9q15B5uroOhI"
      },
      "execution_count": null,
      "outputs": [
        {
          "output_type": "stream",
          "name": "stdout",
          "text": [
            "(2, 3)\n",
            "[[6, 29, -20], [12, 52, 38], [-18, -51, -48]]\n"
          ]
        }
      ]
    },
    {
      "cell_type": "markdown",
      "source": [
        "**[Problem 5] Judging the input for which the calculation is not defined**"
      ],
      "metadata": {
        "id": "QvuOjQnboOhJ"
      }
    },
    {
      "cell_type": "code",
      "source": [
        "import numpy as np\n",
        "\n",
        "d_ndarray = np.array([[-1, 2, 3], [4, -5, 6]])\n",
        "e_ndarray = np.array([[-9, 8, 7], [6, -5, 4]])\n",
        "# a_ndarray = np.array([[-1, 2, 3], [4, -5, 6], [7, 8, -9]])\n",
        "# b_ndarray = np.array([[0, 2, 1], [0, 2, -8], [2, 9, -1]])\n",
        "\n",
        "def matri(a, b):\n",
        "  if a.shape[0] == b.shape[1]:  \n",
        "    mul = [[0 for x in range(3)] for y in range(3)]\n",
        "    for i in range(len(a_ndarray)):\n",
        "        for j in range(len(a_ndarray[0])):\n",
        "            for k in range(len(b_ndarray)):\n",
        "                mul[i][j] += a_ndarray[i][k] * b_ndarray[k][j]\n",
        "    return(mul)\n",
        "  else:\n",
        "    return(\"Incorrect dimension!\")\n",
        "\n",
        " \n",
        "mat_mul1 = matri(d_ndarray, e_ndarray)\n",
        "print(mat_mul1)"
      ],
      "metadata": {
        "colab": {
          "base_uri": "https://localhost:8080/"
        },
        "outputId": "7e8037f6-6f09-43d5-d700-298ba42647a8",
        "id": "c1XgK4RsoOhK"
      },
      "execution_count": null,
      "outputs": [
        {
          "output_type": "stream",
          "name": "stdout",
          "text": [
            "Incorrect dimension!\n"
          ]
        }
      ]
    },
    {
      "cell_type": "markdown",
      "source": [
        "**【Question 6】Replacement**"
      ],
      "metadata": {
        "id": "s3az0ACeoOhL"
      }
    },
    {
      "cell_type": "code",
      "source": [
        "d_ndarray = np.array([[-1, 2, 3], [4, -5, 6]]).T\n",
        "e_ndarray = np.array([[-9, 8, 7], [6, -5, 4]])\n",
        "mat_mul_de6 = matri(d_ndarray, e_ndarray)\n",
        "print(mat_mul_de6)"
      ],
      "metadata": {
        "colab": {
          "base_uri": "https://localhost:8080/"
        },
        "outputId": "8b60d9e0-979c-4534-f2e4-f9d1c8cf6569",
        "id": "cBj_QL8koOhL"
      },
      "execution_count": null,
      "outputs": [
        {
          "output_type": "stream",
          "name": "stdout",
          "text": [
            "[[6, 29, -20], [12, 52, 38], [-18, -51, -48]]\n"
          ]
        }
      ]
    },
    {
      "cell_type": "code",
      "execution_count": null,
      "metadata": {
        "id": "_pvEmWbMoQCE"
      },
      "outputs": [],
      "source": [
        ""
      ]
    },
    {
      "cell_type": "markdown",
      "source": [
        "**[Problem 2] Calculation by NumPy function**"
      ],
      "metadata": {
        "id": "mSD_0ClyoQCE"
      }
    },
    {
      "cell_type": "code",
      "source": [
        "import numpy as np\n",
        "a_ndarray = np.array([[-1, 2, 3], [4, -5, 6], [7, 8, -9]])\n",
        "b_ndarray = np.array([[0, 2, 1], [0, 2, -8], [2, 9, -1]])\n",
        "np.matmul(a_ndarray, b_ndarray)"
      ],
      "metadata": {
        "colab": {
          "base_uri": "https://localhost:8080/"
        },
        "outputId": "c94a452f-c93b-4796-ea5b-97b21388e4b1",
        "id": "zPlWULCCoQCE"
      },
      "execution_count": null,
      "outputs": [
        {
          "output_type": "execute_result",
          "data": {
            "text/plain": [
              "array([[  6,  29, -20],\n",
              "       [ 12,  52,  38],\n",
              "       [-18, -51, -48]])"
            ]
          },
          "metadata": {},
          "execution_count": 39
        }
      ]
    },
    {
      "cell_type": "code",
      "source": [
        "np.dot(a_ndarray, b_ndarray)"
      ],
      "metadata": {
        "colab": {
          "base_uri": "https://localhost:8080/"
        },
        "outputId": "188e6d87-7493-459e-abed-3e04db6d2019",
        "id": "d95JBkBqoQCF"
      },
      "execution_count": null,
      "outputs": [
        {
          "output_type": "execute_result",
          "data": {
            "text/plain": [
              "array([[  6,  29, -20],\n",
              "       [ 12,  52,  38],\n",
              "       [-18, -51, -48]])"
            ]
          },
          "metadata": {},
          "execution_count": 5
        }
      ]
    },
    {
      "cell_type": "code",
      "source": [
        "a_ndarray @ b_ndarray"
      ],
      "metadata": {
        "colab": {
          "base_uri": "https://localhost:8080/"
        },
        "outputId": "576af866-7cef-419c-c3f5-71d39f093520",
        "id": "MHu4N1aqoQCF"
      },
      "execution_count": null,
      "outputs": [
        {
          "output_type": "execute_result",
          "data": {
            "text/plain": [
              "array([[  6,  29, -20],\n",
              "       [ 12,  52,  38],\n",
              "       [-18, -51, -48]])"
            ]
          },
          "metadata": {},
          "execution_count": 6
        }
      ]
    },
    {
      "cell_type": "markdown",
      "source": [
        "**[Problem 3] Implement the calculation of a certain element**"
      ],
      "metadata": {
        "id": "IUQV1Z4loQCF"
      }
    },
    {
      "cell_type": "code",
      "source": [
        "import numpy as np\n",
        "a_ndarray = np.array([[-1, 2, 3], [4, -5, 6], [7, 8, -9]])\n",
        "b_ndarray = np.array([[0, 2, 1], [0, 2, -8], [2, 9, -1]])\n",
        "\n",
        "mul = [[0 for x in range(3)] for y in range(3)]\n",
        " \n",
        "for i in range(len(a_ndarray)):\n",
        "    for j in range(len(b_ndarray[0])):\n",
        "        for k in range(len(b_ndarray)):\n",
        " \n",
        "            # resulted matrix\n",
        "            mul[i][j] += a_ndarray[i][k] * b_ndarray[k][j]\n",
        " \n",
        "print(mul)"
      ],
      "metadata": {
        "colab": {
          "base_uri": "https://localhost:8080/"
        },
        "outputId": "4fdab10a-3998-4d25-fe1d-bf42241eb904",
        "id": "z9b0T1YdoQCF"
      },
      "execution_count": null,
      "outputs": [
        {
          "output_type": "stream",
          "name": "stdout",
          "text": [
            "[[6, 29, -20], [12, 52, 38], [-18, -51, -48]]\n"
          ]
        }
      ]
    },
    {
      "cell_type": "markdown",
      "source": [
        "**[Problem 4] Creation of a function that performs matrix multiplication**"
      ],
      "metadata": {
        "id": "It8sAh4moQCG"
      }
    },
    {
      "cell_type": "code",
      "source": [
        "import numpy as np\n",
        "\n",
        "a_ndarray = np.array([[-1, 2, 3], [4, -5, 6], [7, 8, -9]])\n",
        "b_ndarray = np.array([[0, 2, 1], [0, 2, -8], [2, 9, -1]])\n",
        "\n",
        "def matri(a, b):\n",
        "  mul = [[0 for x in range(3)] for y in range(3)]\n",
        "  for i in range(len(a_ndarray)):\n",
        "      for j in range(len(b_ndarray[0])):\n",
        "          for k in range(len(b_ndarray)):\n",
        "  \n",
        "              # resulted matrix\n",
        "              mul[i][j] += a_ndarray[i][k] * b_ndarray[k][j]\n",
        "  return(mul)\n",
        " \n",
        "mat_mul = matri(a_ndarray, b_ndarray)\n",
        "for r in mat_mul:\n",
        "  print(r)"
      ],
      "metadata": {
        "colab": {
          "base_uri": "https://localhost:8080/"
        },
        "outputId": "706e23b5-5337-4b93-e436-39febf3d1416",
        "id": "jFs34TqdoQCG"
      },
      "execution_count": null,
      "outputs": [
        {
          "output_type": "stream",
          "name": "stdout",
          "text": [
            "[6, 29, -20]\n",
            "[12, 52, 38]\n",
            "[-18, -51, -48]\n"
          ]
        }
      ]
    },
    {
      "cell_type": "code",
      "source": [
        "d_ndarray = np.array([[-1, 2, 3], [4, -5, 6]])\n",
        "e_ndarray = np.array([[-9, 8, 7], [6, -5, 4]])\n",
        "print(d_ndarray.shape)\n",
        "mat_mul_de = matri(d_ndarray, e_ndarray)\n",
        "print(mat_mul_de)"
      ],
      "metadata": {
        "colab": {
          "base_uri": "https://localhost:8080/"
        },
        "outputId": "e0753f66-d6d4-42e3-9334-d71be4ad1178",
        "id": "95bISuUOoQCG"
      },
      "execution_count": null,
      "outputs": [
        {
          "output_type": "stream",
          "name": "stdout",
          "text": [
            "(2, 3)\n",
            "[[6, 29, -20], [12, 52, 38], [-18, -51, -48]]\n"
          ]
        }
      ]
    },
    {
      "cell_type": "markdown",
      "source": [
        "**[Problem 5] Judging the input for which the calculation is not defined**"
      ],
      "metadata": {
        "id": "3v_2Q7M-oQCG"
      }
    },
    {
      "cell_type": "code",
      "source": [
        "import numpy as np\n",
        "\n",
        "d_ndarray = np.array([[-1, 2, 3], [4, -5, 6]])\n",
        "e_ndarray = np.array([[-9, 8, 7], [6, -5, 4]])\n",
        "# a_ndarray = np.array([[-1, 2, 3], [4, -5, 6], [7, 8, -9]])\n",
        "# b_ndarray = np.array([[0, 2, 1], [0, 2, -8], [2, 9, -1]])\n",
        "\n",
        "def matri(a, b):\n",
        "  if a.shape[0] == b.shape[1]:  \n",
        "    mul = [[0 for x in range(3)] for y in range(3)]\n",
        "    for i in range(len(a_ndarray)):\n",
        "        for j in range(len(a_ndarray[0])):\n",
        "            for k in range(len(b_ndarray)):\n",
        "                mul[i][j] += a_ndarray[i][k] * b_ndarray[k][j]\n",
        "    return(mul)\n",
        "  else:\n",
        "    return(\"Incorrect dimension!\")\n",
        "\n",
        " \n",
        "mat_mul1 = matri(d_ndarray, e_ndarray)\n",
        "print(mat_mul1)"
      ],
      "metadata": {
        "colab": {
          "base_uri": "https://localhost:8080/"
        },
        "outputId": "7e8037f6-6f09-43d5-d700-298ba42647a8",
        "id": "92fkUwRdoQCG"
      },
      "execution_count": null,
      "outputs": [
        {
          "output_type": "stream",
          "name": "stdout",
          "text": [
            "Incorrect dimension!\n"
          ]
        }
      ]
    },
    {
      "cell_type": "markdown",
      "source": [
        "**【Question 6】Replacement**"
      ],
      "metadata": {
        "id": "RlszZsqAoQCH"
      }
    },
    {
      "cell_type": "code",
      "source": [
        "d_ndarray = np.array([[-1, 2, 3], [4, -5, 6]]).T\n",
        "e_ndarray = np.array([[-9, 8, 7], [6, -5, 4]])\n",
        "mat_mul_de6 = matri(d_ndarray, e_ndarray)\n",
        "print(mat_mul_de6)"
      ],
      "metadata": {
        "colab": {
          "base_uri": "https://localhost:8080/"
        },
        "outputId": "8b60d9e0-979c-4534-f2e4-f9d1c8cf6569",
        "id": "ee4yZSJGoQCH"
      },
      "execution_count": null,
      "outputs": [
        {
          "output_type": "stream",
          "name": "stdout",
          "text": [
            "[[6, 29, -20], [12, 52, 38], [-18, -51, -48]]\n"
          ]
        }
      ]
    }
  ]
}