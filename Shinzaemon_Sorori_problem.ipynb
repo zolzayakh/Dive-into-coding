{
  "nbformat": 4,
  "nbformat_minor": 0,
  "metadata": {
    "colab": {
      "name": "Shinzaemon Sorori problem.ipynb",
      "provenance": [],
      "authorship_tag": "ABX9TyN0x4JRofVAv60MOflVoLKI",
      "include_colab_link": true
    },
    "kernelspec": {
      "name": "python3",
      "display_name": "Python 3"
    },
    "language_info": {
      "name": "python"
    }
  },
  "cells": [
    {
      "cell_type": "markdown",
      "metadata": {
        "id": "view-in-github",
        "colab_type": "text"
      },
      "source": [
        "<a href=\"https://colab.research.google.com/github/zolzayakh/Dive-into-coding/blob/main/Shinzaemon_Sorori_problem.ipynb\" target=\"_parent\"><img src=\"https://colab.research.google.com/assets/colab-badge.svg\" alt=\"Open In Colab\"/></a>"
      ]
    },
    {
      "cell_type": "markdown",
      "source": [
        "**[Problem 1] Number of rice grains on the 100th day**"
      ],
      "metadata": {
        "id": "3B9xy7awMvKQ"
      }
    },
    {
      "cell_type": "code",
      "execution_count": null,
      "metadata": {
        "colab": {
          "base_uri": "https://localhost:8080/",
          "height": 290
        },
        "id": "A5TdLZZ1Mgke",
        "outputId": "1af652d9-0962-4518-e296-8b59329634ea"
      },
      "outputs": [
        {
          "output_type": "display_data",
          "data": {
            "text/plain": [
              "<Figure size 432x288 with 1 Axes>"
            ],
            "image/png": "[encoded data removed]"
          },
          "metadata": {
            "needs_background": "light"
          }
        }
      ],
      "source": [
        "import matplotlib.pyplot as plt\n",
        "\n",
        "days = list(range(1, 100))\n",
        "rice_grain = []\n",
        "for i in range(len(days)):\n",
        "  rice_grain.append(2**i)\n",
        "\n",
        "fig, ax = plt.subplots()\n",
        "ax.plot(days, rice_grain)\n",
        "ax.set_xlabel('Days')\n",
        "ax.set_ylabel('Rice grain')\n",
        "plt.show()\n",
        "\n"
      ]
    },
    {
      "cell_type": "markdown",
      "source": [
        "**[Problem 2] Number of rice grains other than the 100th day**"
      ],
      "metadata": {
        "id": "OGy72FKpTHjj"
      }
    },
    {
      "cell_type": "code",
      "source": [
        "def compute_sorori_shinzaemon(n_days=100):\n",
        "    \n",
        "    list_n_grains = list(range(n_days))\n",
        "    list_total_grains = []\n",
        "    for i in list_n_grains:\n",
        "      list_total_grains.append(2**i)\n",
        "    return list_n_grains, list_total_grains\n",
        "      \n",
        "list_n_grains, list_total_grains = compute_sorori_shinzaemon(n_days=30)\n",
        "\n",
        "fig, ax = plt.subplots()\n",
        "ax.plot(list_n_grains, list_total_grains)\n",
        "ax.set_xlabel('Days')\n",
        "ax.set_ylabel('Rice grain')\n",
        "plt.show()"
      ],
      "metadata": {
        "colab": {
          "base_uri": "https://localhost:8080/",
          "height": 290
        },
        "id": "p-I17zIaS818",
        "outputId": "0da0a6ef-db6e-49d9-83ca-78c8e2f7437c"
      },
      "execution_count": null,
      "outputs": [
        {
          "output_type": "display_data",
          "data": {
            "text/plain": [
              "<Figure size 432x288 with 1 Axes>"
            ],
            "image/png": "[encoded data removed]"
          },
          "metadata": {
            "needs_background": "light"
          }
        }
      ]
    },
    {
      "cell_type": "code",
      "source": [
        "def compute_sorori_shinzaemon(n_days=100):\n",
        "    \n",
        "    list_n_grains = list(range(n_days))\n",
        "    list_total_grains = []\n",
        "    for i in list_n_grains:\n",
        "      list_total_grains.append(2**i)\n",
        "    return list_n_grains, list_total_grains\n",
        "      \n",
        "list_n_grains, list_total_grains = compute_sorori_shinzaemon(n_days=81)\n",
        "\n",
        "fig, ax = plt.subplots()\n",
        "ax.plot(list_n_grains, list_total_grains)\n",
        "ax.set_xlabel('Days')\n",
        "ax.set_ylabel('Rice grain')\n",
        "plt.show()"
      ],
      "metadata": {
        "colab": {
          "base_uri": "https://localhost:8080/",
          "height": 290
        },
        "id": "LQQIhOW0nxzo",
        "outputId": "54798541-fec5-4af5-d597-b4713b3657de"
      },
      "execution_count": null,
      "outputs": [
        {
          "output_type": "display_data",
          "data": {
            "text/plain": [
              "<Figure size 432x288 with 1 Axes>"
            ],
            "image/png": "[encoded data removed]"
          },
          "metadata": {
            "needs_background": "light"
          }
        }
      ]
    },
    {
      "cell_type": "markdown",
      "source": [
        "**[Problem 3] How many people can live for how many days with the rice they receive**"
      ],
      "metadata": {
        "id": "aUVCjOH3o2zl"
      }
    },
    {
      "cell_type": "code",
      "source": [
        ""
      ],
      "metadata": {
        "id": "Es-iidI3ox8L"
      },
      "execution_count": null,
      "outputs": []
    }
  ]
}