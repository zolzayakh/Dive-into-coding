{
  "nbformat": 4,
  "nbformat_minor": 0,
  "metadata": {
    "colab": {
      "name": "NeuralNetwork.ipynb",
      "provenance": [],
      "authorship_tag": "ABX9TyP/zmln/Cn7d+1rPKlj5oNS",
      "include_colab_link": true
    },
    "kernelspec": {
      "name": "python3",
      "display_name": "Python 3"
    },
    "language_info": {
      "name": "python"
    }
  },
  "cells": [
    {
      "cell_type": "markdown",
      "metadata": {
        "id": "view-in-github",
        "colab_type": "text"
      },
      "source": [
        "<a href=\"https://colab.research.google.com/github/zolzayakh/Dive-into-coding/blob/main/NeuralNetwork.ipynb\" target=\"_parent\"><img src=\"https://colab.research.google.com/assets/colab-badge.svg\" alt=\"Open In Colab\"/></a>"
      ]
    },
    {
      "cell_type": "markdown",
      "source": [
        "**Neural network in scratch**"
      ],
      "metadata": {
        "id": "HVn49w_EAYc6"
      }
    },
    {
      "cell_type": "code",
      "execution_count": 1,
      "metadata": {
        "colab": {
          "base_uri": "https://localhost:8080/"
        },
        "id": "42znMNMU_ekr",
        "outputId": "fc7c41a6-0ca1-467c-f44f-9aa1738e9fb2"
      },
      "outputs": [
        {
          "output_type": "stream",
          "name": "stdout",
          "text": [
            "Downloading data from https://storage.googleapis.com/tensorflow/tf-keras-datasets/mnist.npz\n",
            "11493376/11490434 [==============================] - 0s 0us/step\n",
            "11501568/11490434 [==============================] - 0s 0us/step\n",
            "(60000, 28, 28)\n",
            "(10000, 28, 28)\n",
            "uint8\n"
          ]
        }
      ],
      "source": [
        "from keras.datasets import mnist\n",
        "(X_train, y_train), (X_test, y_test) = mnist.load_data()\n",
        "print(X_train.shape) # (60000, 28, 28)\n",
        "print(X_test.shape) # (10000, 28, 28)\n",
        "print(X_train[0].dtype) # uint8\n",
        "\n",
        "#flattened\n",
        "X_train = X_train.reshape(-1, 784)\n",
        "X_test = X_test.reshape(-1, 784)"
      ]
    },
    {
      "cell_type": "code",
      "source": [
        "import matplotlib.pyplot as plt\n",
        "%matplotlib inline\n",
        "index = 0\n",
        "image = X_train[index].reshape(28,28)\n",
        "# X_train[index]: (784,)\n",
        "# image: (28, 28)\n",
        "plt.imshow(image, 'gray')\n",
        "plt.title('label : {}'.format(y_train[index]))\n",
        "plt.show()"
      ],
      "metadata": {
        "colab": {
          "base_uri": "https://localhost:8080/",
          "height": 281
        },
        "id": "ZdJdOD8RAdEK",
        "outputId": "8ea6f621-c2a2-47be-e4be-421cb4eb8d56"
      },
      "execution_count": 2,
      "outputs": [
        {
          "output_type": "display_data",
          "data": {
            "text/plain": [
              "<Figure size 432x288 with 1 Axes>"
            ],
            "image/png": "[encoded data removed]"
          },
          "metadata": {
            "needs_background": "light"
          }
        }
      ]
    },
    {
      "cell_type": "code",
      "source": [
        "import numpy as np\n",
        "#Preprocessing \n",
        "X_train = X_train.astype(np.float)\n",
        "X_test = X_test.astype(np.float)\n",
        "X_train /= 255\n",
        "X_test /= 255\n",
        "print(X_train.max()) # 1.0\n",
        "print(X_train.min()) # 0.0    "
      ],
      "metadata": {
        "colab": {
          "base_uri": "https://localhost:8080/"
        },
        "id": "mbzBAEW0Ah-6",
        "outputId": "bdb5b8f0-ad45-4e58-ef49-1f90a3b02f98"
      },
      "execution_count": 3,
      "outputs": [
        {
          "output_type": "stream",
          "name": "stderr",
          "text": [
            "/usr/local/lib/python3.7/dist-packages/ipykernel_launcher.py:3: DeprecationWarning: `np.float` is a deprecated alias for the builtin `float`. To silence this warning, use `float` by itself. Doing this will not modify any behavior and is safe. If you specifically wanted the numpy scalar type, use `np.float64` here.\n",
            "Deprecated in NumPy 1.20; for more details and guidance: https://numpy.org/devdocs/release/1.20.0-notes.html#deprecations\n",
            "  This is separate from the ipykernel package so we can avoid doing imports until\n",
            "/usr/local/lib/python3.7/dist-packages/ipykernel_launcher.py:4: DeprecationWarning: `np.float` is a deprecated alias for the builtin `float`. To silence this warning, use `float` by itself. Doing this will not modify any behavior and is safe. If you specifically wanted the numpy scalar type, use `np.float64` here.\n",
            "Deprecated in NumPy 1.20; for more details and guidance: https://numpy.org/devdocs/release/1.20.0-notes.html#deprecations\n",
            "  after removing the cwd from sys.path.\n"
          ]
        },
        {
          "output_type": "stream",
          "name": "stdout",
          "text": [
            "1.0\n",
            "0.0\n"
          ]
        }
      ]
    },
    {
      "cell_type": "code",
      "source": [
        "from sklearn.preprocessing import OneHotEncoder\n",
        "enc = OneHotEncoder(handle_unknown='ignore', sparse=False)\n",
        "y_train_one_hot = enc.fit_transform(y_train[:, np.newaxis])\n",
        "y_test_one_hot = enc.transform(y_test[:, np.newaxis])\n",
        "print(y_train.shape) # (60000,)\n",
        "print(y_train_one_hot.shape) # (60000, 10)\n",
        "print(y_train_one_hot.dtype) # float64"
      ],
      "metadata": {
        "colab": {
          "base_uri": "https://localhost:8080/"
        },
        "id": "PUlcreYPAkB_",
        "outputId": "c9a8a1cb-83b5-4319-d770-9c067b6ce804"
      },
      "execution_count": 4,
      "outputs": [
        {
          "output_type": "stream",
          "name": "stdout",
          "text": [
            "(60000,)\n",
            "(60000, 10)\n",
            "float64\n"
          ]
        }
      ]
    },
    {
      "cell_type": "code",
      "source": [
        "from sklearn.model_selection import train_test_split\n",
        "\n",
        "X_train, X_val, y_train, y_val = train_test_split(X_train, y_train_one_hot, test_size=0.2)\n",
        "print(X_train.shape) # (48000, 784)\n",
        "print(X_val.shape) # (12000, 784)"
      ],
      "metadata": {
        "colab": {
          "base_uri": "https://localhost:8080/"
        },
        "id": "U3qed7qCAlfK",
        "outputId": "923a96b8-158e-48b6-ed2e-cc0a65791437"
      },
      "execution_count": 5,
      "outputs": [
        {
          "output_type": "stream",
          "name": "stdout",
          "text": [
            "(48000, 784)\n",
            "(12000, 784)\n"
          ]
        }
      ]
    },
    {
      "cell_type": "markdown",
      "source": [
        "**[Problem 1] Creating a code that determines the initial value of the weight**"
      ],
      "metadata": {
        "id": "myv_hrc4Aoxr"
      }
    },
    {
      "cell_type": "code",
      "source": [
        "class ScratchSimpleNeuralNetrowkClassifier():\n",
        "    \"\"\"\n",
        "    シンプルな三層ニューラルネットワーク分類器\n",
        "\n",
        "    Parameters\n",
        "    ----------\n",
        "\n",
        "    Attributes\n",
        "    ----------\n",
        "    \"\"\"\n",
        "\n",
        "    def __init__(self,batch_size = 20,n_features = 784,n_nodes1 = 400,n_nodes2 = 200,n_output = 10,sigma = 0.02,lr = 0.01,epoch = 10, verbose=True):\n",
        "        self.verbose = verbose\n",
        "        self.batch_size = batch_size\n",
        "        self.n_features = n_features\n",
        "        self.n_nodes1 = n_nodes1\n",
        "        self.n_nodes2 = n_nodes2 \n",
        "        self.n_output = n_output\n",
        "        self.sigma = sigma\n",
        "        self.lr = lr\n",
        "        self.epoch = epoch\n",
        "        self.loss_train = []\n",
        "        self.loss_val = []\n",
        "        self.W1 = self.sigma * np.random.randn(self.n_features, self.n_nodes1)\n",
        "        self.W2 = self.sigma * np.random.randn(self.n_nodes1, self.n_nodes2)\n",
        "        self.W3 = self.sigma * np.random.randn(self.n_nodes2, self.n_output)\n",
        "        self.B1 = self.sigma * np.random.randn(1, self.n_nodes1)\n",
        "        self.B2 = self.sigma * np.random.randn(1, self.n_nodes2)\n",
        "        self.B3 = self.sigma * np.random.randn(1, self.n_output)\n",
        "\n",
        "    def fit(self, X, y, X_val=None, y_val=None):\n",
        "        \"\"\"\n",
        "        ニューラルネットワーク分類器を学習する。\n",
        "\n",
        "        Parameters\n",
        "        ----------\n",
        "        X : 次の形のndarray, shape (n_samples, n_features)\n",
        "            訓練データの特徴量\n",
        "        y : 次の形のndarray, shape (n_samples, )\n",
        "            訓練データの正解値\n",
        "        X_val : 次の形のndarray, shape (n_samples, n_features)\n",
        "            検証データの特徴量\n",
        "        y_val : 次の形のndarray, shape (n_samples, )\n",
        "            検証データの正解値\n",
        "        \"\"\"\n",
        "\n",
        "        for _ in range(self.epoch):\n",
        "          get_mini_batch = GetMiniBatch(X, y, batch_size=self.batch_size)\n",
        "          for mini_X_train, mini_y_train in get_mini_batch:\n",
        "            self.forward(mini_X_train)\n",
        "            self.backward(mini_X_train, mini_y_train)\n",
        "          self.forward(X)\n",
        "          self.loss_train.append(self.cross_entropy_error(y, self.Z3))\n",
        "          if X_val is not None:\n",
        "            self.forward(X_val)\n",
        "            self.loss_val.append(self.cross_entropy_error(y_val, self.Z3))\n",
        "        if self.verbose:\n",
        "          if X_val is None:\n",
        "            print(self.loss_train)\n",
        "          else:\n",
        "            print(self.loss_train,self.loss_val)\n",
        "\n",
        "    def predict(self, X):\n",
        "        \"\"\"\n",
        "        ニューラルネットワーク分類器を使い推定する。\n",
        "\n",
        "        Parameters\n",
        "        ----------\n",
        "        X : 次の形のndarray, shape (n_samples, n_features)\n",
        "            サンプル\n",
        "\n",
        "        Returns\n",
        "        -------\n",
        "            次の形のndarray, shape (n_samples, 1)\n",
        "            推定結果\n",
        "        \"\"\"\n",
        "        self.forward(X)\n",
        "        return np.argmax(self.Z3, axis=1)\n",
        "\n",
        "    def forward(self, X):\n",
        "      self.A1 = X @ self.W1 + self.B1\n",
        "      self.Z1 = self.tanh(self.A1)\n",
        "      self.A2 = self.Z1 @ self.W2 + self.B2\n",
        "      self.Z2 = self.tanh(self.A2)\n",
        "      self.A3 = self.Z2 @ self.W3 + self.B3\n",
        "      self.Z3 = self.softmax(self.A3)\n",
        "    \n",
        "    def backward(self, X, y):\n",
        "      dA3 = (self.Z3 - y)/self.batch_size\n",
        "      dW3 = self.Z2.T @ dA3\n",
        "      dB3 = np.sum(dA3, axis=0)\n",
        "      dZ2 = dA3 @ self.W3.T\n",
        "      dA2 = dZ2 * (1 - self.tanh(self.A2)**2)\n",
        "      dW2 = self.Z1.T @ dA2\n",
        "      dB2 = np.sum(dA2, axis=0)\n",
        "      dZ1 = dA2 @ self.W2.T\n",
        "      dA1 = dZ1 * (1 - self.tanh(self.A1)**2)\n",
        "      dW1 = X.T @ dA1\n",
        "      dB1 = np.sum(dA1, axis=0)\n",
        "      self.W3 -= self.lr * dW3\n",
        "      self.B3 -= self.lr * dB3\n",
        "      self.W2 -= self.lr * dW2\n",
        "      self.B2 -= self.lr * dB2\n",
        "      self.W1 -= self.lr * dW1\n",
        "      self.B1 -= self.lr * dB1\n",
        "\n",
        "\n",
        "    def cross_entropy_error(self, y, Z):\n",
        "      L = - np.sum(y * np.log(Z+1e-7)) / len(y)\n",
        "      return L\n",
        "\n",
        "    def relu(self,X):\n",
        "      result = np.max([np.zeros(X.shape), X], axis=0)   \n",
        "      return result\n",
        "\n",
        "    def softmax(self,X):\n",
        "      result = np.exp(X) / np.sum(np.exp(X), axis=1, keepdims=True)\n",
        "      return result\n",
        "\n",
        "    def sigmoid(self,X):\n",
        "      result = 1 / (1 + np.exp(-X))   \n",
        "      return result\n",
        "    \n",
        "    def tanh(self,X):\n",
        "      result = (np.exp(X)-np.exp(-X))/(np.exp(X)+np.exp(-X))\n",
        "      # or\n",
        "      #  result = np.tanh(X)\n",
        "      return result"
      ],
      "metadata": {
        "id": "3w9qIG7TAzV5"
      },
      "execution_count": 6,
      "outputs": []
    },
    {
      "cell_type": "code",
      "source": [
        "class GetMiniBatch:\n",
        "    \"\"\"\n",
        "    ミニバッチを取得するイテレータ\n",
        "\n",
        "    Parameters\n",
        "    ----------\n",
        "    X : 次の形のndarray, shape (n_samples, n_features)\n",
        "      訓練データ\n",
        "    y : 次の形のndarray, shape (n_samples, 1)\n",
        "      正解値\n",
        "    batch_size : int\n",
        "      バッチサイズ\n",
        "    seed : int\n",
        "      NumPyの乱数のシード\n",
        "    \"\"\"\n",
        "    def __init__(self, X, y, batch_size = 20, seed=0):\n",
        "        self.batch_size = batch_size\n",
        "        np.random.seed(seed)\n",
        "        shuffle_index = np.random.permutation(np.arange(X.shape[0]))\n",
        "        self._X = X[shuffle_index]\n",
        "        self._y = y[shuffle_index]\n",
        "        self._stop = np.ceil(X.shape[0]/self.batch_size).astype(np.int)\n",
        "\n",
        "    def __len__(self):\n",
        "        return self._stop\n",
        "\n",
        "    def __getitem__(self,item):\n",
        "        p0 = item*self.batch_size\n",
        "        p1 = item*self.batch_size + self.batch_size\n",
        "        return self._X[p0:p1], self._y[p0:p1]        \n",
        "\n",
        "    def __iter__(self):\n",
        "        self._counter = 0\n",
        "        return self\n",
        "\n",
        "    def __next__(self):\n",
        "        if self._counter >= self._stop:\n",
        "            raise StopIteration()\n",
        "        p0 = self._counter*self.batch_size\n",
        "        p1 = self._counter*self.batch_size + self.batch_size\n",
        "        self._counter += 1\n",
        "        return self._X[p0:p1], self._y[p0:p1]"
      ],
      "metadata": {
        "id": "XZfuLllaA3Q9"
      },
      "execution_count": 7,
      "outputs": []
    },
    {
      "cell_type": "code",
      "source": [
        "nn = ScratchSimpleNeuralNetrowkClassifier(epoch=5)\n",
        "nn.fit(X_train, y_train, X_val, y_val)"
      ],
      "metadata": {
        "colab": {
          "base_uri": "https://localhost:8080/"
        },
        "id": "lRSRGhOoA5ta",
        "outputId": "926a2738-e080-4313-adfb-f916f5a25838"
      },
      "execution_count": 9,
      "outputs": [
        {
          "output_type": "stream",
          "name": "stderr",
          "text": [
            "/usr/local/lib/python3.7/dist-packages/ipykernel_launcher.py:22: DeprecationWarning: `np.int` is a deprecated alias for the builtin `int`. To silence this warning, use `int` by itself. Doing this will not modify any behavior and is safe. When replacing `np.int`, you may wish to use e.g. `np.int64` or `np.int32` to specify the precision. If you wish to review your current use, check the release note link for additional information.\n",
            "Deprecated in NumPy 1.20; for more details and guidance: https://numpy.org/devdocs/release/1.20.0-notes.html#deprecations\n"
          ]
        },
        {
          "output_type": "stream",
          "name": "stdout",
          "text": [
            "[0.43577992322199094, 0.3341985209845094, 0.29781046605264727, 0.2745014012089303, 0.2556913873397914] [0.42606052495619134, 0.32611501198489184, 0.29233544006220125, 0.2718295446030428, 0.25566411446156634]\n"
          ]
        }
      ]
    },
    {
      "cell_type": "code",
      "source": [
        "from sklearn.metrics import accuracy_score\n",
        "pred_train = nn.predict(X_val)\n",
        "y_val = np.argmax(y_val, axis = 1)\n",
        "accuracy = accuracy_score(y_val, pred_train)\n",
        "print ('Accuracy: ' + str(accuracy))"
      ],
      "metadata": {
        "colab": {
          "base_uri": "https://localhost:8080/"
        },
        "id": "rp_irARYA7FI",
        "outputId": "8ba6dbc2-3f15-4aa1-a827-d1e6808ccbe3"
      },
      "execution_count": 10,
      "outputs": [
        {
          "output_type": "stream",
          "name": "stdout",
          "text": [
            "Accuracy: 0.92375\n"
          ]
        }
      ]
    },
    {
      "cell_type": "markdown",
      "source": [
        "**[Problem 7] Plot of learning curve**"
      ],
      "metadata": {
        "id": "Fa3tphpgA989"
      }
    },
    {
      "cell_type": "code",
      "source": [
        "import matplotlib.pyplot as plt\n",
        "%matplotlib inline\n",
        "plt.plot(range(nn.epoch), nn.loss_train, label = 'Training loss')\n",
        "plt.plot(range(nn.epoch), nn.loss_val, label = 'Validation loss')\n",
        "plt.legend()\n",
        "plt.xlabel ('epoch')\n",
        "plt.ylabel ('loss')\n",
        "plt.title ('Model loss')\n",
        "plt.show()"
      ],
      "metadata": {
        "colab": {
          "base_uri": "https://localhost:8080/",
          "height": 295
        },
        "id": "Xi-GTsEOA_Rd",
        "outputId": "d91e13ad-ede9-4265-903c-d0f5b364defe"
      },
      "execution_count": 11,
      "outputs": [
        {
          "output_type": "display_data",
          "data": {
            "text/plain": [
              "<Figure size 432x288 with 1 Axes>"
            ],
            "image/png": "[encoded data removed]"
          },
          "metadata": {
            "needs_background": "light"
          }
        }
      ]
    }
  ]
}