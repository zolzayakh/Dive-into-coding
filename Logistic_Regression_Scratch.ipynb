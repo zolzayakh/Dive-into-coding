{
  "nbformat": 4,
  "nbformat_minor": 0,
  "metadata": {
    "colab": {
      "name": "Logistic Regression Scratch.ipynb",
      "provenance": [],
      "authorship_tag": "ABX9TyN2hUAEO8qlzho1VwSua0BR",
      "include_colab_link": true
    },
    "kernelspec": {
      "name": "python3",
      "display_name": "Python 3"
    },
    "language_info": {
      "name": "python"
    }
  },
  "cells": [
    {
      "cell_type": "markdown",
      "metadata": {
        "id": "view-in-github",
        "colab_type": "text"
      },
      "source": [
        "<a href=\"https://colab.research.google.com/github/zolzayakh/Dive-into-coding/blob/main/Logistic_Regression_Scratch.ipynb\" target=\"_parent\"><img src=\"https://colab.research.google.com/assets/colab-badge.svg\" alt=\"Open In Colab\"/></a>"
      ]
    },
    {
      "cell_type": "markdown",
      "source": [
        "**[Problem 1] Logistic Regression in scratch**"
      ],
      "metadata": {
        "id": "8VdSeRkF5v10"
      }
    },
    {
      "cell_type": "code",
      "execution_count": null,
      "metadata": {
        "id": "789l_4wX3e0y"
      },
      "outputs": [],
      "source": [
        "import numpy as np\n",
        "\n",
        "class ScratchLogisticRegression():\n",
        "    \"\"\"\n",
        "    ロジスティック回帰のスクラッチ実装\n",
        "\n",
        "    Parameters\n",
        "    ----------\n",
        "    num_iter : int\n",
        "      イテレーション数\n",
        "    lr : float\n",
        "      学習率\n",
        "    no_bias : bool\n",
        "      バイアス項を入れない場合はTrue\n",
        "    verbose : bool\n",
        "      学習過程を出力する場合はTrue\n",
        "\n",
        "    Attributes\n",
        "    ----------\n",
        "    self.coef_ : 次の形のndarray, shape (n_features,)\n",
        "      パラメータ\n",
        "    self.loss : 次の形のndarray, shape (self.iter,)\n",
        "      訓練データに対する損失の記録\n",
        "    self.val_loss : 次の形のndarray, shape (self.iter,)\n",
        "      検証データに対する損失の記録\n",
        "\n",
        "    \"\"\"\n",
        "\n",
        "    def __init__(self, num_iter, lr, bias, verbose, lam):\n",
        "        # ハイパーパラメータを属性として記録\n",
        "        self.num_iter = num_iter\n",
        "        self.lr = lr\n",
        "        self.bias = bias\n",
        "        self.verbose = verbose\n",
        "        # 損失を記録する配列を用意\n",
        "        self.loss = np.zeros(self.num_iter)\n",
        "        self.val_loss = np.zeros(self.num_iter)\n",
        "        self.lam = lam\n",
        "\n",
        "    def fit(self, X, y, X_val=None, y_val=None):\n",
        "        \"\"\"\n",
        "        ロジスティック回帰を学習する。検証データが入力された場合はそれに対する損失と精度もイテレーションごとに計算する。\n",
        "\n",
        "        Parameters\n",
        "        ----------\n",
        "        X : 次の形のndarray, shape (n_samples, n_features)\n",
        "            訓練データの特徴量\n",
        "        y : 次の形のndarray, shape (n_samples, )\n",
        "            訓練データの正解値\n",
        "        X_val : 次の形のndarray, shape (n_samples, n_features)\n",
        "            検証データの特徴量\n",
        "        y_val : 次の形のndarray, shape (n_samples, )\n",
        "            検証データの正解値\n",
        "        \"\"\"\n",
        "        if self.bias == True:\n",
        "          bias = np.ones((X.shape[0], 1))\n",
        "          X = np.hstack((bias, X))\n",
        "          if X_val is not None:\n",
        "            bias = np.ones((X_val.shape[0], 1))\n",
        "            X_val = np.hstack((bias, X_val))\n",
        "        self.theta = np.zeros(X.shape[1])\n",
        "        self.theta = self.theta.reshape(X.shape[1], 1)\n",
        "        for i in range(self.num_iter):\n",
        "          pred = self._logistic_hypothesis(X)\n",
        "          self._gradient_descent(X, y)\n",
        "          loss = self._loss_func(pred, y)\n",
        "          self.loss[i] = loss\n",
        "          if X_val is not None:\n",
        "            pred_val = self._logistic_hypothesis(X_val)\n",
        "            loss_val = self._loss_func(pred_val, y_val)\n",
        "            self.val_loss[i] = loss_val\n",
        "          if self.verbose == True:\n",
        "            print('{}回目の学習の損失は{}'.format(i,loss))\n",
        "\n",
        "    def predict(self, X):\n",
        "        \"\"\"\n",
        "        ロジスティック回帰を使いラベルを推定する。\n",
        "\n",
        "        Parameters\n",
        "        ----------\n",
        "        X : 次の形のndarray, shape (n_samples, n_features)\n",
        "            サンプル\n",
        "\n",
        "        Returns\n",
        "        -------\n",
        "            次の形のndarray, shape (n_samples, 1)\n",
        "            ロジスティック回帰による推定結果\n",
        "        \"\"\"\n",
        "        if self.bias == True:\n",
        "          a = np.ones(X.shape[0]).reshape(X.shape[0], 1)\n",
        "          X = np.hstack([a, X])\n",
        "        return  np.where(self._logistic_hypothesis(X) >= 0.5,1,0)\n",
        "\n",
        "    def predict_proba(self, X):\n",
        "        \"\"\"\n",
        "        ロジスティック回帰を使い確率を推定する。\n",
        "\n",
        "        Parameters\n",
        "        ----------\n",
        "        X : 次の形のndarray, shape (n_samples, n_features)\n",
        "            サンプル\n",
        "\n",
        "        Returns\n",
        "        -------\n",
        "            次の形のndarray, shape (n_samples, 1)\n",
        "            ロジスティック回帰による推定結果\n",
        "        \"\"\"\n",
        "        if self.bias == True:\n",
        "          a = np.ones(X.shape[0]).reshape(X.shape[0], 1)\n",
        "          X = np.hstack([a, X])\n",
        "        pred = self._logistic_hypothesis(X)\n",
        "        return pred\n",
        "\n",
        "    def _gradient_descent(self, X, y):\n",
        "        \"\"\"Θ更新（最急降下法）\"\"\"\n",
        "        m = X.shape[0]\n",
        "        n = X.shape[1]\n",
        "        pred = self._logistic_hypothesis(X)\n",
        "        for j in range(n):\n",
        "          gradient = 0\n",
        "          for i in range(m):\n",
        "            gradient += (pred[i] - y[i]) * X[i, j]\n",
        "          self.theta[j] = self.theta[j] - self.lr * ((gradient+self.lam*self.theta[j]) / m)\n",
        "     \n",
        "    def _sigmoid(self,y):\n",
        "        \"\"\"sigmoid関数\"\"\"\n",
        "        return 1 / (1 + np.exp(-y))\n",
        "        \n",
        "    def _logistic_hypothesis(self, X):\n",
        "        \"\"\"仮定関数\"\"\"\n",
        "        pred = X @ self.theta\n",
        "        pred = self._sigmoid(pred)\n",
        "        return pred\n",
        "    \n",
        "    def _loss_func(self, pred, y):\n",
        "        \"\"\"クロスエントロピー誤差関数\"\"\"\n",
        "        error = 0\n",
        "        for i in range(y.shape[0]):\n",
        "          error += -np.sum(y[i] *  np.log(pred[i])+(1-y[i]) *  np.log(1-pred[i]))\n",
        "        loss = error / (y.shape[0])\n",
        "        loss = loss + np.sum(self.theta**2)*self.lam/(2 * y.shape[0])\n",
        "        return loss"
      ]
    },
    {
      "cell_type": "markdown",
      "source": [
        "**[Problem 5] Learning and estimation**"
      ],
      "metadata": {
        "id": "9vnfMPHs3wTI"
      }
    },
    {
      "cell_type": "code",
      "source": [
        "import pandas as pd\n",
        "from sklearn.datasets import load_iris\n",
        "from sklearn.model_selection import train_test_split\n",
        "from sklearn.preprocessing import StandardScaler\n",
        "\n",
        "iris = load_iris()\n",
        "X = iris.data[:100,:]\n",
        "y = iris.target[:100]\n",
        "\n",
        "(X_train, X_test, y_train, y_test) = train_test_split(X, y, test_size=0.2)\n",
        "\n",
        "scaler = StandardScaler()\n",
        "scaler.fit(X_train)\n",
        "#transform both X_train and X_test\n",
        "X_train= scaler.transform(X_train)\n",
        "X_test= scaler.transform(X_test)"
      ],
      "metadata": {
        "id": "a0wW_l8G3yuU"
      },
      "execution_count": null,
      "outputs": []
    },
    {
      "cell_type": "code",
      "source": [
        "slr = ScratchLogisticRegression(num_iter=1000, lr=0.01, bias=True, verbose=False, lam=0.1)\n",
        "slr.fit(X_train, y_train, X_test, y_test)\n",
        "\n",
        "prediction_slr = slr.predict(X_test)\n",
        "print (prediction_slr.tolist())"
      ],
      "metadata": {
        "colab": {
          "base_uri": "https://localhost:8080/"
        },
        "id": "AMUzl4j132v0",
        "outputId": "ee8d09fb-2846-4f22-e4a4-185e81884574"
      },
      "execution_count": null,
      "outputs": [
        {
          "output_type": "stream",
          "name": "stdout",
          "text": [
            "[[0], [0], [0], [0], [1], [0], [1], [0], [0], [1], [0], [1], [1], [1], [1], [1], [1], [0], [0], [1]]\n"
          ]
        }
      ]
    },
    {
      "cell_type": "code",
      "source": [
        "from sklearn.metrics import accuracy_score\n",
        "from sklearn.metrics import precision_score\n",
        "from sklearn.metrics import recall_score\n",
        "from sklearn.metrics import f1_score\n",
        "\n",
        "#calculate evaluation metrics and add to evaluation_table\n",
        "def calculate_metrics_add_to_table(prediction_result, model_name, table_name, y_test):\n",
        "  d = {'accuracy':[accuracy_score(y_test, prediction_result)], 'precision':[precision_score(y_test, prediction_result, average='macro')], 'recall':[recall_score(y_test, prediction_result, average='macro')], 'F1 score': [f1_score(y_test, prediction_result, average='macro')]}\n",
        "  evaluation_result = pd.DataFrame(data=d, index=[model_name])\n",
        "  return table_name.append(evaluation_result)\n",
        "\n",
        "# LR of scikit-learn \n",
        "from sklearn.linear_model import LogisticRegression\n",
        "\n",
        "model_logistic = LogisticRegression().fit(X_train, y_train)\n",
        "prediction_LR = model_logistic.predict(X_test)\n",
        "\n",
        "\n",
        "\n",
        "\n",
        "# Logistic regression in scratch\n",
        "model_scratch = ScratchLogisticRegression(num_iter=1000, lr=0.01, bias=True, verbose=False, lam=0.1)\n",
        "model_scratch.fit(X_train, y_train)\n",
        "# LR in scratch\n",
        "model_scratch = ScratchLogisticRegression(num_iter=1000, lr=0.01, bias=True, verbose=False, lam=0.1)\n",
        "model_scratch.fit(X_train, y_train)\n",
        "\n",
        "prediction_scratch = model_scratch.predict(X_test)\n",
        "print(\"-----LR of scikit-learn-------\")\n",
        "print(\"Accuracy:\", accuracy_score(prediction_LR, y_test))\n",
        "print(\"Prediction:\", precision_score(prediction_LR, y_test))\n",
        "print(\"Recall:\",recall_score(prediction_LR, y_test))\n",
        "print(\"F1_score:\", f1_score(prediction_LR, y_test))\n",
        "print(\"\\n-----LR of scratch-------\")\n",
        "print(\"Accuracy:\", accuracy_score(prediction_scratch, y_test))\n",
        "print(\"Prediction:\", precision_score(prediction_scratch, y_test))\n",
        "print(\"Recall:\",recall_score(prediction_scratch, y_test))\n",
        "print(\"F1_score:\", f1_score(prediction_scratch, y_test))\n",
        "\n"
      ],
      "metadata": {
        "colab": {
          "base_uri": "https://localhost:8080/"
        },
        "id": "lGv95g0Z35v6",
        "outputId": "e2746db8-f761-4d08-af11-6f2476a31c57"
      },
      "execution_count": null,
      "outputs": [
        {
          "output_type": "stream",
          "name": "stdout",
          "text": [
            "-----LR of scikit-learn-------\n",
            "Accuracy: 1.0\n",
            "Prediction: 1.0\n",
            "Recall: 1.0\n",
            "F1_score: 1.0\n",
            "\n",
            "-----LR of scratch-------\n",
            "Accuracy: 1.0\n",
            "Prediction: 1.0\n",
            "Recall: 1.0\n",
            "F1_score: 1.0\n"
          ]
        }
      ]
    },
    {
      "cell_type": "markdown",
      "source": [
        "**[Problem 6] Plot of learning curve**"
      ],
      "metadata": {
        "id": "tSsH5Oa_4Bio"
      }
    },
    {
      "cell_type": "code",
      "source": [
        "import matplotlib.pyplot as plt\n",
        "%matplotlib inline\n",
        "plt.plot(slr.loss, label = 'Training loss')\n",
        "plt.plot(slr.val_loss, label = 'Validataion loss')\n",
        "plt.legend()\n",
        "plt.xlabel ('iter')\n",
        "plt.ylabel ('loss')\n",
        "plt.title ('Model loss')\n",
        "plt.show()"
      ],
      "metadata": {
        "colab": {
          "base_uri": "https://localhost:8080/",
          "height": 295
        },
        "id": "za74cQxD4C5b",
        "outputId": "3a5b22a5-5de0-40b5-da04-2fbc5cd4ded7"
      },
      "execution_count": null,
      "outputs": [
        {
          "output_type": "display_data",
          "data": {
            "text/plain": [
              "<Figure size 432x288 with 1 Axes>"
            ],
            "image/png": "[encoded data removed]"
          },
          "metadata": {
            "needs_background": "light"
          }
        }
      ]
    },
    {
      "cell_type": "markdown",
      "source": [
        "**[Problem 7] Visualization of decision area**"
      ],
      "metadata": {
        "id": "nSOJDBMO5dLO"
      }
    },
    {
      "cell_type": "code",
      "source": [
        "X = iris.data[:100,:2]\n",
        "y = iris.target[:100]\n",
        "(X_train, X_test, y_train, y_test) = train_test_split(X, y, test_size=0.2)\n",
        "slr = ScratchLogisticRegression(num_iter=2000, lr=0.001,bias=True,verbose=False,lam = 0.1)\n",
        "slr.fit(X_train, y_train,X_test,y_test)"
      ],
      "metadata": {
        "id": "QXp2Dn5n5cns"
      },
      "execution_count": null,
      "outputs": []
    },
    {
      "cell_type": "code",
      "source": [
        "from matplotlib.colors import ListedColormap\n",
        "\n",
        "def decision_region(X,y,slr):\n",
        "    mesh_f0, mesh_f1  = np.meshgrid(\n",
        "        np.arange(np.min(X[:,0]), np.max(X[:,0]), 0.01), \n",
        "        np.arange(np.min(X[:,1]), np.max(X[:,1]), 0.01)\n",
        "    )\n",
        "    mesh = np.c_[np.ravel(mesh_f0),np.ravel(mesh_f1)]\n",
        "    y_pred = slr.predict(mesh).reshape(mesh_f0.shape)\n",
        "    plt.title('decision region')\n",
        "    plt.xlabel('feature0')\n",
        "    plt.ylabel('feature1')\n",
        "    plt.contourf(mesh_f0, mesh_f1, y_pred,cmap=ListedColormap(['pink', 'skyblue']))\n",
        "    plt.contour(mesh_f0, mesh_f1, y_pred,colors='red')\n",
        "    plt.scatter(X[y==0][:, 0], X[y==0][:, 1],label='0')\n",
        "    plt.scatter(X[y==1][:, 0], X[y==1][:, 1],label='1')\n",
        "    plt.legend()\n",
        "    plt.show()\n",
        "\n",
        "decision_region(X_train, y_train, slr)"
      ],
      "metadata": {
        "colab": {
          "base_uri": "https://localhost:8080/",
          "height": 295
        },
        "id": "-bVPJPde5g28",
        "outputId": "fd0c94a8-7732-4df4-fafe-174127553ba9"
      },
      "execution_count": null,
      "outputs": [
        {
          "output_type": "display_data",
          "data": {
            "text/plain": [
              "<Figure size 432x288 with 1 Axes>"
            ],
            "image/png": "[encoded data removed]"
          },
          "metadata": {
            "needs_background": "light"
          }
        }
      ]
    },
    {
      "cell_type": "markdown",
      "source": [
        "**[Problem 8] (Advance task) Saving weights**"
      ],
      "metadata": {
        "id": "0YGv7-L25mo9"
      }
    },
    {
      "cell_type": "code",
      "source": [
        "import pickle\n",
        "\n",
        "# save the model to disk\n",
        "filename = 'finalized_model.sav'\n",
        "pickle.dump(slr, open(filename, 'wb'))\n",
        " \n",
        "# some time later...\n",
        " \n",
        "# load the model from disk\n",
        "loaded_model = pickle.load(open(filename, 'rb'))\n",
        "result = loaded_model.predict_proba(X_test)\n",
        "print(result)"
      ],
      "metadata": {
        "colab": {
          "base_uri": "https://localhost:8080/"
        },
        "id": "7q7JkXfU5o5l",
        "outputId": "742221e4-1881-4500-fcf4-89f54b1389cb"
      },
      "execution_count": null,
      "outputs": [
        {
          "output_type": "stream",
          "name": "stdout",
          "text": [
            "[[0.47998726]\n",
            " [0.4425704 ]\n",
            " [0.47535377]\n",
            " [0.46081429]\n",
            " [0.54112334]\n",
            " [0.41122682]\n",
            " [0.58936083]\n",
            " [0.47684687]\n",
            " [0.48297619]\n",
            " [0.5683364 ]\n",
            " [0.40385226]\n",
            " [0.58565988]\n",
            " [0.54573107]\n",
            " [0.58711173]\n",
            " [0.63656087]\n",
            " [0.59240313]\n",
            " [0.5759631 ]\n",
            " [0.43357839]\n",
            " [0.4471567 ]\n",
            " [0.57742441]]\n"
          ]
        }
      ]
    }
  ]
}