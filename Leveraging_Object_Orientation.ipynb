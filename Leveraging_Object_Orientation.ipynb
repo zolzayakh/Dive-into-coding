{
  "nbformat": 4,
  "nbformat_minor": 0,
  "metadata": {
    "colab": {
      "name": " Leveraging Object Orientation.ipynb",
      "provenance": [],
      "authorship_tag": "ABX9TyOmg6c1xISdL7flfHudsD+1",
      "include_colab_link": true
    },
    "kernelspec": {
      "name": "python3",
      "display_name": "Python 3"
    },
    "language_info": {
      "name": "python"
    }
  },
  "cells": [
    {
      "cell_type": "markdown",
      "metadata": {
        "id": "view-in-github",
        "colab_type": "text"
      },
      "source": [
        "<a href=\"https://colab.research.google.com/github/zolzayakh/Dive-into-coding/blob/main/Leveraging_Object_Orientation.ipynb\" target=\"_parent\"><img src=\"https://colab.research.google.com/assets/colab-badge.svg\" alt=\"Open In Colab\"/></a>"
      ]
    },
    {
      "cell_type": "code",
      "execution_count": null,
      "metadata": {
        "id": "oWEiCK4HbET3"
      },
      "outputs": [],
      "source": [
        "import numpy as np\n",
        "from sklearn.preprocessing import StandardScaler\n",
        "from sklearn.datasets import load_iris\n",
        "\n",
        "data = load_iris()\n",
        "X = data.data[:10]\n",
        "\n",
        "scaler = StandardScaler()\n",
        "scaler.fit(X)\n",
        "print(\"平均 :\", scaler.mean_)\n",
        "print(\"分散 :\", scaler.var_)\n",
        "X_std = scaler.transform(X)"
      ]
    },
    {
      "cell_type": "markdown",
      "source": [
        "**[Problem 1] Enumeration of classes used so far**\n",
        "\n",
        "Pandas: DataFrame\n",
        "\n",
        "Matplotlib:Figure\n",
        "\n",
        "Scikit-learn: \n",
        "\n",
        "Classifiers: LinearRegression, SVC, RandomForestRegressor\n",
        "Preprocessing classes: OneHotEncoder, LabelEncoder, SimpleImputer\n"
      ],
      "metadata": {
        "id": "0nt0y9YYbjhg"
      }
    },
    {
      "cell_type": "markdown",
      "source": [
        "**[Problem 2] List of methods and instance variables that have been used so far**\n",
        "*   Pandas: info(), concat()\n",
        "*   Matplotlib: plot(), show()\n",
        "*   Scikit-learn: fit(), fit_transform()"
      ],
      "metadata": {
        "id": "UN7PiVA_dKU4"
      }
    },
    {
      "cell_type": "markdown",
      "source": [
        "**[Problem 3] Create a standardized class by scratch**"
      ],
      "metadata": {
        "id": "a42t6eb5ejA1"
      }
    },
    {
      "cell_type": "code",
      "source": [
        "import numpy as np\n",
        "from sklearn.datasets import load_iris\n",
        "class ScratchStandardScaler():\n",
        "    \"\"\"\n",
        "    標準化のためのクラス\n",
        "\n",
        "    Attributes\n",
        "    ----------\n",
        "    mean_ : 次の形のndarray, shape(n_features,)\n",
        "        平均\n",
        "    var_ : 次の形のndarray, shape(n_features,)\n",
        "        分散\n",
        "    \"\"\"\n",
        "\n",
        "    def fit(self, X):\n",
        "        \"\"\"\n",
        "        標準化のために平均と標準偏差を計算する。\n",
        "\n",
        "        Parameters\n",
        "        ----------\n",
        "        X : 次の形のndarray, shape (n_samples, n_features)\n",
        "            訓練データ\n",
        "        \"\"\"\n",
        "\n",
        "        self.mean_ = np.mean(X)\n",
        "        self.var_ = np.var(X)\n",
        "\n",
        "        pass\n",
        "\n",
        "    def transform(self, X):\n",
        "        \"\"\"\n",
        "        fitで求めた値を使い標準化を行う。\n",
        "\n",
        "        Parameters\n",
        "        ----------\n",
        "        X : 次の形のndarray, shape (n_samples, n_features)\n",
        "            特徴量\n",
        "\n",
        "        Returns\n",
        "        ----------\n",
        "        X_scaled : 次の形のndarray, shape (n_samples, n_features)\n",
        "            標準化された特徴量\n",
        "        \"\"\"\n",
        "\n",
        "        X_scaled =  - self.mean_\n",
        "        X_scaled = X_scaled/self.var_\n",
        "\n",
        "        pass\n",
        "        return X_scaled"
      ],
      "metadata": {
        "id": "5FHqbHhdbiqb"
      },
      "execution_count": 6,
      "outputs": []
    },
    {
      "cell_type": "code",
      "source": [
        "from sklearn.preprocessing import StandardScaler\n",
        "from sklearn.datasets import load_iris\n",
        "data = load_iris()\n",
        "X = data.data[:10]\n",
        "\n",
        "scaler = StandardScaler()\n",
        "scaler.fit(X)\n",
        "\n",
        "scratch_scaler = ScratchStandardScaler()\n",
        "scratch_scaler.fit(X)\n",
        "print(\"平均 : {}\".format(scratch_scaler.mean_))\n",
        "print(\"分散 : {}\".format(scratch_scaler.var_))\n",
        "X_std = scratch_scaler.transform(X)\n",
        "X_standard = scaler.transform(X)\n",
        "print(X)\n",
        "print(X_std)\n",
        "print(X_standard)"
      ],
      "metadata": {
        "colab": {
          "base_uri": "https://localhost:8080/"
        },
        "id": "dA5wnQuuetrG",
        "outputId": "7721491f-3241-48b2-bb45-1ed7f753ddf6"
      },
      "execution_count": 7,
      "outputs": [
        {
          "output_type": "stream",
          "name": "stdout",
          "text": [
            "平均 : 2.46\n",
            "分散 : 3.1744\n",
            "[[5.1 3.5 1.4 0.2]\n",
            " [4.9 3.  1.4 0.2]\n",
            " [4.7 3.2 1.3 0.2]\n",
            " [4.6 3.1 1.5 0.2]\n",
            " [5.  3.6 1.4 0.2]\n",
            " [5.4 3.9 1.7 0.4]\n",
            " [4.6 3.4 1.4 0.3]\n",
            " [5.  3.4 1.5 0.2]\n",
            " [4.4 2.9 1.4 0.2]\n",
            " [4.9 3.1 1.5 0.1]]\n",
            "-0.7749495967741936\n",
            "[[ 0.86828953  0.65207831 -0.48795004 -0.26726124]\n",
            " [ 0.14471492 -1.06391725 -0.48795004 -0.26726124]\n",
            " [-0.57885968 -0.37751902 -1.46385011 -0.26726124]\n",
            " [-0.94064699 -0.72071813  0.48795004 -0.26726124]\n",
            " [ 0.50650222  0.99527742 -0.48795004 -0.26726124]\n",
            " [ 1.95365143  2.02487476  2.43975018  2.40535118]\n",
            " [-0.94064699  0.3088792  -0.48795004  1.06904497]\n",
            " [ 0.50650222  0.3088792   0.48795004 -0.26726124]\n",
            " [-1.66422159 -1.40711636 -0.48795004 -0.26726124]\n",
            " [ 0.14471492 -0.72071813  0.48795004 -1.60356745]]\n"
          ]
        }
      ]
    },
    {
      "cell_type": "markdown",
      "source": [
        "**[Problem 4] Creating a class that performs four arithmetic operations**"
      ],
      "metadata": {
        "id": "OS3rfRGXfKkd"
      }
    },
    {
      "cell_type": "code",
      "source": [
        "import warnings\n",
        "\n",
        "class ArithmeticClass():\n",
        "    \"\"\"\n",
        "    説明用の簡単なクラス\n",
        "\n",
        "    Parameters\n",
        "    ----------\n",
        "    value : float or int\n",
        "        初期値\n",
        "\n",
        "    Attributes\n",
        "    ----------\n",
        "    value : float or int\n",
        "        計算結果\n",
        "    \"\"\"\n",
        "    def __init__(self, value):\n",
        "        self.value = value\n",
        "        print(\"初期値{}が設定されました\".format(self.value))\n",
        "        if not isinstance(value,  (int, float, complex)):\n",
        "          warnings.warn(\"The value must be numeric!!!\", DeprecationWarning)\n",
        "    def add(self, value2):\n",
        "        \"\"\"\n",
        "        受け取った引数をself.valueに加える\n",
        "        \"\"\"\n",
        "        if not isinstance(value2,  (int, float, complex)):\n",
        "          warnings.warn(\"The value must be numeric!!!\", DeprecationWarning)\n",
        "        self.value += value2\n",
        "    def sub(self, value2):\n",
        "        \"\"\"\n",
        "        substraction\n",
        "        \"\"\"\n",
        "        if not isinstance(value2,  (int, float, complex)):\n",
        "          warnings.warn(\"The value must be numeric!!!\", DeprecationWarning)\n",
        "        self.value -= value2\n",
        "    def mul(self, value2):\n",
        "        \"\"\"\n",
        "        multiplication\n",
        "        \"\"\"\n",
        "        if not isinstance(value2,  (int, float, complex)):\n",
        "          warnings.warn(\"The value must be numeric!!!\", DeprecationWarning)\n",
        "        self.value *= value2\n",
        "    def div(self, value2):\n",
        "        \"\"\"\n",
        "        division\n",
        "        \"\"\"\n",
        "        if not isinstance(value2,  (int, float, complex)) or value2 == 0:\n",
        "          warnings.warn(\"The value must be numeric!!! or cannot divided by zero!\", DeprecationWarning)\n",
        "        if value2!=0:\n",
        "          self.value /= value2\n",
        "\n",
        "example = ArithmeticClass(5)\n",
        "print(\"value : {}\".format(example.value))\n",
        "example.add(3)\n",
        "print(\"value : {}\".format(example.value))\n",
        "example.mul(3)\n",
        "print(\"value : {}\".format(example.value))\n",
        "example.div(2)\n",
        "print(\"value : {}\".format(example.value))\n",
        "example.div(0)\n",
        "print(\"value : {}\".format(example.value))\n",
        "#example.sub('three')\n",
        "#print(\"value : {}\".format(example.value))"
      ],
      "metadata": {
        "colab": {
          "base_uri": "https://localhost:8080/"
        },
        "id": "LCrXCBp6fKId",
        "outputId": "a0ec6251-5293-4afe-f2fe-0e7e6b0951f9"
      },
      "execution_count": 8,
      "outputs": [
        {
          "output_type": "stream",
          "name": "stdout",
          "text": [
            "初期値5が設定されました\n",
            "value : 5\n",
            "value : 8\n",
            "value : 24\n",
            "value : 12.0\n",
            "value : 12.0\n"
          ]
        },
        {
          "output_type": "stream",
          "name": "stderr",
          "text": [
            "/usr/local/lib/python3.7/dist-packages/ipykernel_launcher.py:48: DeprecationWarning: The value must be numeric!!! or cannot divided by zero!\n"
          ]
        }
      ]
    }
  ]
}