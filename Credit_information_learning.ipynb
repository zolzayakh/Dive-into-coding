{
  "nbformat": 4,
  "nbformat_minor": 0,
  "metadata": {
    "colab": {
      "name": "Credit information learning.ipynb",
      "provenance": [],
      "mount_file_id": "1h_b2RLqsON-XqJcD6Vdhec2O2LiPAZzL",
      "authorship_tag": "ABX9TyPa7+HaNfEy3Sj6S81lhJ0e",
      "include_colab_link": true
    },
    "kernelspec": {
      "name": "python3",
      "display_name": "Python 3"
    },
    "language_info": {
      "name": "python"
    }
  },
  "cells": [
    {
      "cell_type": "markdown",
      "metadata": {
        "id": "view-in-github",
        "colab_type": "text"
      },
      "source": [
        "<a href=\"https://colab.research.google.com/github/zolzayakh/Dive-into-coding/blob/main/Credit_information_learning.ipynb\" target=\"_parent\"><img src=\"https://colab.research.google.com/assets/colab-badge.svg\" alt=\"Open In Colab\"/></a>"
      ]
    },
    {
      "cell_type": "markdown",
      "source": [
        "**[Question 1] Confirmation of the content of the competition**\n",
        "\n",
        "what to learn and what to predict\n",
        "\n",
        "\n",
        "*   Learning various data of customer to predict the applicant can take a loan\n",
        "\n",
        "What kind of file to create and submit to Kaggle\n",
        "\n",
        "\n",
        "*   Predict a probability for the TARGET variable. The file should contain a header and have the following format:\n",
        "SK_ID_CURR,TARGET\n",
        "100001,0.1\n",
        "100005,0.9\n",
        "100013,0.2\n",
        "etc.\n",
        "\n",
        "What kind of index value will the submitted work be evaluated by?\n",
        "\n",
        "\n",
        "*   Submissions are evaluated on area under the ROC curve between the predicted probability and the observed target."
      ],
      "metadata": {
        "id": "DrKK1xtDgHTD"
      }
    },
    {
      "cell_type": "markdown",
      "source": [
        "**[Question 2] Learning and verification**"
      ],
      "metadata": {
        "id": "azpvKiCbie0Q"
      }
    },
    {
      "cell_type": "code",
      "source": [
        "import pandas as pd\n",
        "train = pd.read_csv('/content/drive/MyDrive/Colab Notebooks/dataset/application_train.csv')\n",
        "test = pd.read_csv('/content/drive/MyDrive/Colab Notebooks/dataset/application_test.csv')\n",
        "X_train = train.loc[:, train.columns != 'TARGET']\n",
        "Y_train  = train.loc[:,'TARGET']\n",
        "\n",
        "print (X_train)\n",
        "print (Y_train)"
      ],
      "metadata": {
        "colab": {
          "base_uri": "https://localhost:8080/"
        },
        "id": "5JtNmy_fiiKY",
        "outputId": "5793365a-10fa-45ca-a800-021e01abd11e"
      },
      "execution_count": 28,
      "outputs": [
        {
          "output_type": "stream",
          "name": "stdout",
          "text": [
            "        SK_ID_CURR NAME_CONTRACT_TYPE CODE_GENDER FLAG_OWN_CAR  \\\n",
            "0           100002         Cash loans           M            N   \n",
            "1           100003         Cash loans           F            N   \n",
            "2           100004    Revolving loans           M            Y   \n",
            "3           100006         Cash loans           F            N   \n",
            "4           100007         Cash loans           M            N   \n",
            "...            ...                ...         ...          ...   \n",
            "307506      456251         Cash loans           M            N   \n",
            "307507      456252         Cash loans           F            N   \n",
            "307508      456253         Cash loans           F            N   \n",
            "307509      456254         Cash loans           F            N   \n",
            "307510      456255         Cash loans           F            N   \n",
            "\n",
            "       FLAG_OWN_REALTY  CNT_CHILDREN  AMT_INCOME_TOTAL  AMT_CREDIT  \\\n",
            "0                    Y             0          202500.0    406597.5   \n",
            "1                    N             0          270000.0   1293502.5   \n",
            "2                    Y             0           67500.0    135000.0   \n",
            "3                    Y             0          135000.0    312682.5   \n",
            "4                    Y             0          121500.0    513000.0   \n",
            "...                ...           ...               ...         ...   \n",
            "307506               N             0          157500.0    254700.0   \n",
            "307507               Y             0           72000.0    269550.0   \n",
            "307508               Y             0          153000.0    677664.0   \n",
            "307509               Y             0          171000.0    370107.0   \n",
            "307510               N             0          157500.0    675000.0   \n",
            "\n",
            "        AMT_ANNUITY  AMT_GOODS_PRICE  ... FLAG_DOCUMENT_18 FLAG_DOCUMENT_19  \\\n",
            "0           24700.5         351000.0  ...                0                0   \n",
            "1           35698.5        1129500.0  ...                0                0   \n",
            "2            6750.0         135000.0  ...                0                0   \n",
            "3           29686.5         297000.0  ...                0                0   \n",
            "4           21865.5         513000.0  ...                0                0   \n",
            "...             ...              ...  ...              ...              ...   \n",
            "307506      27558.0         225000.0  ...                0                0   \n",
            "307507      12001.5         225000.0  ...                0                0   \n",
            "307508      29979.0         585000.0  ...                0                0   \n",
            "307509      20205.0         319500.0  ...                0                0   \n",
            "307510      49117.5         675000.0  ...                0                0   \n",
            "\n",
            "       FLAG_DOCUMENT_20 FLAG_DOCUMENT_21 AMT_REQ_CREDIT_BUREAU_HOUR  \\\n",
            "0                     0                0                        0.0   \n",
            "1                     0                0                        0.0   \n",
            "2                     0                0                        0.0   \n",
            "3                     0                0                        NaN   \n",
            "4                     0                0                        0.0   \n",
            "...                 ...              ...                        ...   \n",
            "307506                0                0                        NaN   \n",
            "307507                0                0                        NaN   \n",
            "307508                0                0                        1.0   \n",
            "307509                0                0                        0.0   \n",
            "307510                0                0                        0.0   \n",
            "\n",
            "        AMT_REQ_CREDIT_BUREAU_DAY  AMT_REQ_CREDIT_BUREAU_WEEK  \\\n",
            "0                             0.0                         0.0   \n",
            "1                             0.0                         0.0   \n",
            "2                             0.0                         0.0   \n",
            "3                             NaN                         NaN   \n",
            "4                             0.0                         0.0   \n",
            "...                           ...                         ...   \n",
            "307506                        NaN                         NaN   \n",
            "307507                        NaN                         NaN   \n",
            "307508                        0.0                         0.0   \n",
            "307509                        0.0                         0.0   \n",
            "307510                        0.0                         0.0   \n",
            "\n",
            "        AMT_REQ_CREDIT_BUREAU_MON  AMT_REQ_CREDIT_BUREAU_QRT  \\\n",
            "0                             0.0                        0.0   \n",
            "1                             0.0                        0.0   \n",
            "2                             0.0                        0.0   \n",
            "3                             NaN                        NaN   \n",
            "4                             0.0                        0.0   \n",
            "...                           ...                        ...   \n",
            "307506                        NaN                        NaN   \n",
            "307507                        NaN                        NaN   \n",
            "307508                        1.0                        0.0   \n",
            "307509                        0.0                        0.0   \n",
            "307510                        2.0                        0.0   \n",
            "\n",
            "        AMT_REQ_CREDIT_BUREAU_YEAR  \n",
            "0                              1.0  \n",
            "1                              0.0  \n",
            "2                              0.0  \n",
            "3                              NaN  \n",
            "4                              0.0  \n",
            "...                            ...  \n",
            "307506                         NaN  \n",
            "307507                         NaN  \n",
            "307508                         1.0  \n",
            "307509                         0.0  \n",
            "307510                         1.0  \n",
            "\n",
            "[307511 rows x 121 columns]\n",
            "0         1\n",
            "1         0\n",
            "2         0\n",
            "3         0\n",
            "4         0\n",
            "         ..\n",
            "307506    0\n",
            "307507    0\n",
            "307508    0\n",
            "307509    1\n",
            "307510    0\n",
            "Name: TARGET, Length: 307511, dtype: int64\n"
          ]
        }
      ]
    },
    {
      "cell_type": "code",
      "execution_count": 6,
      "metadata": {
        "colab": {
          "base_uri": "https://localhost:8080/"
        },
        "id": "oRK0-SdigC04",
        "outputId": "3c648479-9750-42c5-eae3-7293c583f47d"
      },
      "outputs": [
        {
          "output_type": "stream",
          "name": "stderr",
          "text": [
            "/usr/local/lib/python3.7/dist-packages/ipykernel_launcher.py:8: SettingWithCopyWarning: \n",
            "A value is trying to be set on a copy of a slice from a DataFrame.\n",
            "Try using .loc[row_indexer,col_indexer] = value instead\n",
            "\n",
            "See the caveats in the documentation: https://pandas.pydata.org/pandas-docs/stable/user_guide/indexing.html#returning-a-view-versus-a-copy\n",
            "  \n"
          ]
        }
      ],
      "source": [
        "from sklearn.preprocessing import LabelEncoder\n",
        "Label = LabelEncoder()\n",
        "\n",
        "lista = ['NAME_CONTRACT_TYPE', 'CODE_GENDER', 'FLAG_OWN_CAR', 'FLAG_OWN_REALTY', 'NAME_TYPE_SUITE', 'NAME_INCOME_TYPE','NAME_EDUCATION_TYPE', 'NAME_FAMILY_STATUS', 'NAME_HOUSING_TYPE', 'OCCUPATION_TYPE', 'WEEKDAY_APPR_PROCESS_START', 'ORGANIZATION_TYPE', 'FONDKAPREMONT_MODE', 'HOUSETYPE_MODE', 'WALLSMATERIAL_MODE', 'EMERGENCYSTATE_MODE']\n",
        "\n",
        "for item in lista:\n",
        "  Label.fit(X_train[item])\n",
        "  X_train[item] = Label.transform(X_train[item])\n",
        "  test[item] = Label.transform(test[item])"
      ]
    },
    {
      "cell_type": "code",
      "source": [
        "from sklearn.impute import SimpleImputer\n",
        "imp = SimpleImputer(strategy='mean')\n",
        "imp.fit(X_train)\n",
        "X_train = imp.transform(X_train)\n",
        "test = imp.transform(test)\n",
        "print (X_train)\n",
        "print (test)"
      ],
      "metadata": {
        "colab": {
          "base_uri": "https://localhost:8080/"
        },
        "id": "0uM11doPkN59",
        "outputId": "09db36b7-99e0-43f8-dfa8-2eb94306ce56"
      },
      "execution_count": 7,
      "outputs": [
        {
          "output_type": "stream",
          "name": "stdout",
          "text": [
            "[[1.00002e+05 0.00000e+00 1.00000e+00 ... 0.00000e+00 0.00000e+00\n",
            "  1.00000e+00]\n",
            " [1.00003e+05 0.00000e+00 0.00000e+00 ... 0.00000e+00 0.00000e+00\n",
            "  0.00000e+00]\n",
            " [1.00004e+05 1.00000e+00 1.00000e+00 ... 0.00000e+00 0.00000e+00\n",
            "  0.00000e+00]\n",
            " ...\n",
            " [4.56253e+05 0.00000e+00 0.00000e+00 ... 1.00000e+00 0.00000e+00\n",
            "  1.00000e+00]\n",
            " [4.56254e+05 0.00000e+00 0.00000e+00 ... 0.00000e+00 0.00000e+00\n",
            "  0.00000e+00]\n",
            " [4.56255e+05 0.00000e+00 0.00000e+00 ... 2.00000e+00 0.00000e+00\n",
            "  1.00000e+00]]\n",
            "[[1.00001e+05 0.00000e+00 0.00000e+00 ... 0.00000e+00 0.00000e+00\n",
            "  0.00000e+00]\n",
            " [1.00005e+05 0.00000e+00 1.00000e+00 ... 0.00000e+00 0.00000e+00\n",
            "  3.00000e+00]\n",
            " [1.00013e+05 0.00000e+00 1.00000e+00 ... 0.00000e+00 1.00000e+00\n",
            "  4.00000e+00]\n",
            " ...\n",
            " [4.56223e+05 0.00000e+00 0.00000e+00 ... 0.00000e+00 3.00000e+00\n",
            "  1.00000e+00]\n",
            " [4.56224e+05 0.00000e+00 1.00000e+00 ... 0.00000e+00 0.00000e+00\n",
            "  2.00000e+00]\n",
            " [4.56250e+05 0.00000e+00 0.00000e+00 ... 0.00000e+00 1.00000e+00\n",
            "  4.00000e+00]]\n"
          ]
        }
      ]
    },
    {
      "cell_type": "code",
      "source": [
        "from sklearn.preprocessing import StandardScaler\n",
        "from sklearn.model_selection import train_test_split\n",
        "\n",
        "X_tr, X_val, y_tr, y_val = train_test_split(X_train, Y_train, test_size=0.25, random_state=42)\n",
        "print(X_tr.shape)\n",
        "print(y_tr.shape)\n",
        "\n",
        "scaler = StandardScaler()\n",
        "scaler.fit(X_tr)\n",
        "#transform both training and validation set\n",
        "X_tr= scaler.transform(X_tr)\n",
        "X_val= scaler.transform(X_val)\n",
        "print(X_tr)"
      ],
      "metadata": {
        "id": "PLZGWbFZkSM1"
      },
      "execution_count": null,
      "outputs": []
    },
    {
      "cell_type": "code",
      "source": [
        "from sklearn.linear_model import LogisticRegression\n",
        "\n",
        "reg = LogisticRegression(solver = 'newton-cg').fit(X_tr, y_tr)\n",
        "prediction_reg = reg.predict(X_val)\n",
        "print (\"Prediction of test set\")\n",
        "print (prediction_reg)"
      ],
      "metadata": {
        "colab": {
          "base_uri": "https://localhost:8080/"
        },
        "id": "x2kySktokUpx",
        "outputId": "1e593510-bb1a-407f-83c5-3cd6c988f5ee"
      },
      "execution_count": 19,
      "outputs": [
        {
          "output_type": "stream",
          "name": "stdout",
          "text": [
            "Prediction of test set\n",
            "[0 0 0 ... 0 0 0]\n"
          ]
        }
      ]
    },
    {
      "cell_type": "code",
      "source": [
        "# Evaluation for validation set\n",
        "from sklearn.metrics import accuracy_score\n",
        "from sklearn.metrics import precision_score\n",
        "from sklearn.metrics import recall_score\n",
        "from sklearn.metrics import f1_score\n",
        "\n",
        "print('Accuracy:', accuracy_score(y_val, prediction_reg))\n",
        "print('Precision:', precision_score(y_val, prediction_reg)) \n",
        "print('Recall:', recall_score(y_val, prediction_reg)) \n",
        "print('F1 score\"', f1_score(y_val, prediction_reg))\n",
        "\n",
        "# print (evaluation_result)\n",
        "print ('Prediction probability for 2 classes: ')\n",
        "prediction_prob = reg.predict_proba(X_val)\n",
        "print (prediction_prob)"
      ],
      "metadata": {
        "colab": {
          "base_uri": "https://localhost:8080/"
        },
        "id": "w5kw27ezkYKY",
        "outputId": "c7ad8e90-16ee-481b-d9ec-7db29833c815"
      },
      "execution_count": 21,
      "outputs": [
        {
          "output_type": "stream",
          "name": "stdout",
          "text": [
            "Accuracy: 0.9189625120320508\n",
            "Precision: 0.3597122302158273\n",
            "Recall: 0.008076239702794379\n",
            "F1 score\" 0.01579778830963665\n",
            "Prediction probability for 2 classes: \n",
            "[[0.76364255 0.23635745]\n",
            " [0.9741222  0.0258778 ]\n",
            " [0.86260413 0.13739587]\n",
            " ...\n",
            " [0.92929167 0.07070833]\n",
            " [0.8545781  0.1454219 ]\n",
            " [0.95391907 0.04608093]]\n"
          ]
        }
      ]
    },
    {
      "cell_type": "code",
      "source": [
        "X_test= scaler.transform(test)\n",
        "prediction_prob_test = reg.predict_proba(X_test)\n",
        "print (prediction_prob_test)"
      ],
      "metadata": {
        "colab": {
          "base_uri": "https://localhost:8080/"
        },
        "id": "ROPn8ZzWlrdc",
        "outputId": "00bfbea9-80ee-4e8a-dc78-e7edd4877482"
      },
      "execution_count": 22,
      "outputs": [
        {
          "output_type": "stream",
          "name": "stdout",
          "text": [
            "[[0.93835554 0.06164446]\n",
            " [0.82220257 0.17779743]\n",
            " [0.9681416  0.0318584 ]\n",
            " ...\n",
            " [0.95579859 0.04420141]\n",
            " [0.95159424 0.04840576]\n",
            " [0.85609999 0.14390001]]\n"
          ]
        }
      ]
    },
    {
      "cell_type": "code",
      "source": [
        "data = {'SK_ID_CURR': test[:,0],\n",
        "        'TARGET': prediction_prob_test[:,1]}\n",
        "submission = pd.DataFrame(data)\n",
        "\n",
        "submission['SK_ID_CURR'] = pd.to_numeric(submission['SK_ID_CURR'], downcast='integer')\n",
        "\n",
        "print (submission)\n",
        "\n",
        "submission.to_csv('Zolzaya_kaggle.csv', index=False)\n",
        "print('The file cannot upload to Kaggle dependencies of Kaggle verification error')"
      ],
      "metadata": {
        "colab": {
          "base_uri": "https://localhost:8080/"
        },
        "id": "uctc5Ilpl7Oe",
        "outputId": "469d0c2b-aba4-4424-f699-cd653876e0e2"
      },
      "execution_count": 34,
      "outputs": [
        {
          "output_type": "stream",
          "name": "stdout",
          "text": [
            "       SK_ID_CURR    TARGET\n",
            "0          100001  0.061644\n",
            "1          100005  0.177797\n",
            "2          100013  0.031858\n",
            "3          100028  0.026824\n",
            "4          100038  0.119370\n",
            "...           ...       ...\n",
            "48739      456221  0.045993\n",
            "48740      456222  0.063075\n",
            "48741      456223  0.044201\n",
            "48742      456224  0.048406\n",
            "48743      456250  0.143900\n",
            "\n",
            "[48744 rows x 2 columns]\n",
            "The file cannot upload to Kaggle dependencies of Kaggle verification error\n"
          ]
        }
      ]
    },
    {
      "cell_type": "markdown",
      "source": [
        "**[Problem 4] Feature engineering**"
      ],
      "metadata": {
        "id": "XM53SYKzr2Mn"
      }
    },
    {
      "cell_type": "code",
      "source": [
        "import seaborn as sns\n",
        "\n",
        "correlations = train.corr()\n",
        "sns.heatmap(correlations)"
      ],
      "metadata": {
        "colab": {
          "base_uri": "https://localhost:8080/",
          "height": 449
        },
        "id": "jJ7BYl3Yr1CK",
        "outputId": "a527c689-f21e-40fe-8af8-7749e2f897f8"
      },
      "execution_count": 25,
      "outputs": [
        {
          "output_type": "execute_result",
          "data": {
            "text/plain": [
              "<matplotlib.axes._subplots.AxesSubplot at 0x7f96f6d028d0>"
            ]
          },
          "metadata": {},
          "execution_count": 25
        },
        {
          "output_type": "display_data",
          "data": {
            "text/plain": [
              "<Figure size 432x288 with 2 Axes>"
            ],
            "image/png": "[encoded data removed]"
          },
          "metadata": {
            "needs_background": "light"
          }
        }
      ]
    },
    {
      "cell_type": "code",
      "source": [
        "correlations = train.corr()[\"TARGET\"].abs().sort_values()\n",
        "\n",
        "print('High Correlations:\\n', correlations.tail(15))\n",
        "print('\\nLow Correlations:\\n', correlations.head(15))"
      ],
      "metadata": {
        "colab": {
          "base_uri": "https://localhost:8080/"
        },
        "id": "wxcHt5aVr9Fy",
        "outputId": "2753fa86-4086-42f0-8bc9-a07a0b36eb2b"
      },
      "execution_count": 26,
      "outputs": [
        {
          "output_type": "stream",
          "name": "stdout",
          "text": [
            "High Correlations:\n",
            " FLOORSMAX_AVG                  0.044003\n",
            "FLAG_DOCUMENT_3                0.044346\n",
            "REG_CITY_NOT_LIVE_CITY         0.044395\n",
            "DAYS_EMPLOYED                  0.044932\n",
            "FLAG_EMP_PHONE                 0.045982\n",
            "REG_CITY_NOT_WORK_CITY         0.050994\n",
            "DAYS_ID_PUBLISH                0.051457\n",
            "DAYS_LAST_PHONE_CHANGE         0.055218\n",
            "REGION_RATING_CLIENT           0.058899\n",
            "REGION_RATING_CLIENT_W_CITY    0.060893\n",
            "DAYS_BIRTH                     0.078239\n",
            "EXT_SOURCE_1                   0.155317\n",
            "EXT_SOURCE_2                   0.160472\n",
            "EXT_SOURCE_3                   0.178919\n",
            "TARGET                         1.000000\n",
            "Name: TARGET, dtype: float64\n",
            "\n",
            "Low Correlations:\n",
            " FLAG_DOCUMENT_20              0.000215\n",
            "FLAG_DOCUMENT_5               0.000316\n",
            "FLAG_CONT_MOBILE              0.000370\n",
            "FLAG_MOBIL                    0.000534\n",
            "FLAG_DOCUMENT_12              0.000756\n",
            "AMT_REQ_CREDIT_BUREAU_WEEK    0.000788\n",
            "AMT_REQ_CREDIT_BUREAU_HOUR    0.000930\n",
            "FLAG_DOCUMENT_19              0.001358\n",
            "FLAG_DOCUMENT_10              0.001414\n",
            "FLAG_DOCUMENT_7               0.001520\n",
            "NONLIVINGAPARTMENTS_MODE      0.001557\n",
            "FLAG_EMAIL                    0.001758\n",
            "AMT_REQ_CREDIT_BUREAU_QRT     0.002022\n",
            "SK_ID_CURR                    0.002108\n",
            "FLAG_DOCUMENT_4               0.002672\n",
            "Name: TARGET, dtype: float64\n"
          ]
        }
      ]
    },
    {
      "cell_type": "code",
      "source": [
        "tmp = correlations.head(15).to_frame()\n",
        "tmp = tmp.index.to_list()\n",
        "tmp.remove('SK_ID_CURR')\n",
        "print (tmp)\n",
        "\n",
        "\n",
        "# remove low correlated features \n",
        "train = train.drop(tmp, axis=1)\n",
        "test = test.drop(tmp, axis=1)\n",
        "\n",
        "print (train.shape)\n",
        "print (test.shape)"
      ],
      "metadata": {
        "colab": {
          "base_uri": "https://localhost:8080/"
        },
        "id": "5MGelr8iv6yS",
        "outputId": "b5d093e4-8b18-4a08-955e-c273d6b9b91e"
      },
      "execution_count": 29,
      "outputs": [
        {
          "output_type": "stream",
          "name": "stdout",
          "text": [
            "['FLAG_DOCUMENT_20', 'FLAG_DOCUMENT_5', 'FLAG_CONT_MOBILE', 'FLAG_MOBIL', 'FLAG_DOCUMENT_12', 'AMT_REQ_CREDIT_BUREAU_WEEK', 'AMT_REQ_CREDIT_BUREAU_HOUR', 'FLAG_DOCUMENT_19', 'FLAG_DOCUMENT_10', 'FLAG_DOCUMENT_7', 'NONLIVINGAPARTMENTS_MODE', 'FLAG_EMAIL', 'AMT_REQ_CREDIT_BUREAU_QRT', 'FLAG_DOCUMENT_4']\n",
            "(307511, 108)\n",
            "(48744, 107)\n"
          ]
        }
      ]
    },
    {
      "cell_type": "code",
      "source": [
        "X_train = train.loc[:, train.columns != 'TARGET']\n",
        "Y_train  = train.loc[:,'TARGET']\n",
        "\n",
        "from sklearn.preprocessing import LabelEncoder\n",
        "le = LabelEncoder()\n",
        "\n",
        "list_f = ['NAME_CONTRACT_TYPE', 'CODE_GENDER', 'FLAG_OWN_CAR', 'FLAG_OWN_REALTY', 'NAME_TYPE_SUITE', 'NAME_INCOME_TYPE','NAME_EDUCATION_TYPE', 'NAME_FAMILY_STATUS', 'NAME_HOUSING_TYPE', 'OCCUPATION_TYPE', 'WEEKDAY_APPR_PROCESS_START', 'ORGANIZATION_TYPE', 'FONDKAPREMONT_MODE', 'HOUSETYPE_MODE', 'WALLSMATERIAL_MODE', 'EMERGENCYSTATE_MODE']\n",
        "\n",
        "for item in list_f:\n",
        "  le.fit(X_train[item])\n",
        "  X_train[item] = le.transform(X_train[item])\n",
        "  test[item] = le.transform(test[item])\n",
        "\n",
        "# missing value filiing \n",
        "\n",
        "from sklearn.impute import SimpleImputer\n",
        "imp = SimpleImputer(strategy='median')\n",
        "imp.fit(X_train)\n",
        "X_train = imp.transform(X_train)\n",
        "test = imp.transform(test)\n",
        "print (X_train)\n",
        "print (test)"
      ],
      "metadata": {
        "colab": {
          "base_uri": "https://localhost:8080/"
        },
        "id": "aJ_JV6KFwejz",
        "outputId": "80bc260e-2dfd-409b-9d0f-b251229d932a"
      },
      "execution_count": 30,
      "outputs": [
        {
          "output_type": "stream",
          "name": "stderr",
          "text": [
            "/usr/local/lib/python3.7/dist-packages/ipykernel_launcher.py:11: SettingWithCopyWarning: \n",
            "A value is trying to be set on a copy of a slice from a DataFrame.\n",
            "Try using .loc[row_indexer,col_indexer] = value instead\n",
            "\n",
            "See the caveats in the documentation: https://pandas.pydata.org/pandas-docs/stable/user_guide/indexing.html#returning-a-view-versus-a-copy\n",
            "  # This is added back by InteractiveShellApp.init_path()\n"
          ]
        },
        {
          "output_type": "stream",
          "name": "stdout",
          "text": [
            "[[1.00002e+05 0.00000e+00 1.00000e+00 ... 0.00000e+00 0.00000e+00\n",
            "  1.00000e+00]\n",
            " [1.00003e+05 0.00000e+00 0.00000e+00 ... 0.00000e+00 0.00000e+00\n",
            "  0.00000e+00]\n",
            " [1.00004e+05 1.00000e+00 1.00000e+00 ... 0.00000e+00 0.00000e+00\n",
            "  0.00000e+00]\n",
            " ...\n",
            " [4.56253e+05 0.00000e+00 0.00000e+00 ... 0.00000e+00 1.00000e+00\n",
            "  1.00000e+00]\n",
            " [4.56254e+05 0.00000e+00 0.00000e+00 ... 0.00000e+00 0.00000e+00\n",
            "  0.00000e+00]\n",
            " [4.56255e+05 0.00000e+00 0.00000e+00 ... 0.00000e+00 2.00000e+00\n",
            "  1.00000e+00]]\n",
            "[[1.00001e+05 0.00000e+00 0.00000e+00 ... 0.00000e+00 0.00000e+00\n",
            "  0.00000e+00]\n",
            " [1.00005e+05 0.00000e+00 1.00000e+00 ... 0.00000e+00 0.00000e+00\n",
            "  3.00000e+00]\n",
            " [1.00013e+05 0.00000e+00 1.00000e+00 ... 0.00000e+00 0.00000e+00\n",
            "  4.00000e+00]\n",
            " ...\n",
            " [4.56223e+05 0.00000e+00 0.00000e+00 ... 0.00000e+00 0.00000e+00\n",
            "  1.00000e+00]\n",
            " [4.56224e+05 0.00000e+00 1.00000e+00 ... 0.00000e+00 0.00000e+00\n",
            "  2.00000e+00]\n",
            " [4.56250e+05 0.00000e+00 0.00000e+00 ... 0.00000e+00 0.00000e+00\n",
            "  4.00000e+00]]\n"
          ]
        }
      ]
    },
    {
      "cell_type": "code",
      "source": [
        "# Split training set into training and validation set\n",
        "\n",
        "from sklearn.preprocessing import StandardScaler\n",
        "from sklearn.model_selection import train_test_split\n",
        "\n",
        "X_tr, X_val, y_tr, y_val = train_test_split(X_train, Y_train, test_size=0.25, random_state=42)\n",
        "print (X_tr.shape)\n",
        "print (y_tr.shape)\n",
        "\n",
        "scaler = StandardScaler()\n",
        "scaler.fit(X_tr)\n",
        "#transform both training and validation set\n",
        "X_tr= scaler.transform(X_tr)\n",
        "X_val= scaler.transform(X_val)\n",
        "print (X_tr)"
      ],
      "metadata": {
        "colab": {
          "base_uri": "https://localhost:8080/"
        },
        "id": "JBxbhHAXwkox",
        "outputId": "0dc705bc-e570-42c7-9897-28091ee0e9fc"
      },
      "execution_count": 31,
      "outputs": [
        {
          "output_type": "stream",
          "name": "stdout",
          "text": [
            "(230633, 107)\n",
            "(230633,)\n",
            "[[ 1.18494739 -0.32500539 -0.72160513 ... -0.05833452 -0.27009478\n",
            "  -0.44049329]\n",
            " [-1.01963438  3.07687206  1.38563937 ... -0.05833452 -0.27009478\n",
            "  -1.00650805]\n",
            " [-1.54486898 -0.32500539 -0.72160513 ... -0.05833452  0.8995248\n",
            "   0.12552146]\n",
            " ...\n",
            " [-0.24553129 -0.32500539  1.38563937 ... -0.05833452  2.06914437\n",
            "   0.69153621]\n",
            " [-0.07777542  3.07687206  1.38563937 ... -0.05833452 -0.27009478\n",
            "  -0.44049329]\n",
            " [-0.35849604 -0.32500539  1.38563937 ... -0.05833452  0.8995248\n",
            "  -1.00650805]]\n"
          ]
        }
      ]
    },
    {
      "cell_type": "code",
      "source": [
        "reg2 = LogisticRegression(solver = 'newton-cg').fit(X_tr, y_tr)\n",
        "prediction_reg2 = reg2.predict(X_val)\n",
        "print (\"Prediction of test set\")\n",
        "\n",
        "d = {'accuracy':[accuracy_score(y_val, prediction_reg2)], \n",
        "     'precision':[precision_score(y_val, prediction_reg2, average='macro')], \n",
        "     'recall':[recall_score(y_val, prediction_reg2, average='macro')], \n",
        "     'F1 score': [f1_score(y_val, prediction_reg2, average='macro')]}\n",
        "\n",
        "evaluation_result = pd.DataFrame(data=d)\n",
        "print (evaluation_result)\n",
        "print ('Prediction probability for 2 classes: ')\n",
        "prediction_prob = reg2.predict_proba(X_val)\n",
        "print (prediction_prob)"
      ],
      "metadata": {
        "colab": {
          "base_uri": "https://localhost:8080/"
        },
        "id": "RW0wcPIxwm6V",
        "outputId": "f304374f-9341-4978-d1b6-5132d94bcb4b"
      },
      "execution_count": 32,
      "outputs": [
        {
          "output_type": "stream",
          "name": "stdout",
          "text": [
            "Prediction of test set\n",
            "   accuracy  precision    recall  F1 score\n",
            "0  0.919054   0.652037  0.503679  0.487269\n",
            "Prediction probability for 2 classes: \n",
            "[[0.76903381 0.23096619]\n",
            " [0.97437209 0.02562791]\n",
            " [0.8682978  0.1317022 ]\n",
            " ...\n",
            " [0.92679483 0.07320517]\n",
            " [0.84954837 0.15045163]\n",
            " [0.95726053 0.04273947]]\n"
          ]
        }
      ]
    },
    {
      "cell_type": "code",
      "source": [
        "# create file version 2\n",
        "# estimate for test data\n",
        "X_test= scaler.transform(test)\n",
        "\n",
        "print ('Prediction probability for test: ')\n",
        "prediction_prob_test = reg2.predict_proba(X_test)\n",
        "\n",
        "\n",
        "print (test)\n",
        "data = {'SK_ID_CURR': test[:,0],\n",
        "        'TARGET': prediction_prob_test[:,1]}\n",
        "submission = pd.DataFrame(data)\n",
        "submission['SK_ID_CURR'] = pd.to_numeric(submission['SK_ID_CURR'], downcast='integer')\n",
        "submission.to_csv('Zolzaya_kaggle2.csv', index=False)\n",
        "print('The file cannot upload to Kaggle dependencies of Kaggle verification error')\n"
      ],
      "metadata": {
        "colab": {
          "base_uri": "https://localhost:8080/"
        },
        "id": "BGJcasBDwrtX",
        "outputId": "dfc51526-d7b4-4830-d78d-f34c14d3a2c5"
      },
      "execution_count": 37,
      "outputs": [
        {
          "output_type": "stream",
          "name": "stdout",
          "text": [
            "Prediction probability for test: \n",
            "[[1.00001e+05 0.00000e+00 0.00000e+00 ... 0.00000e+00 0.00000e+00\n",
            "  0.00000e+00]\n",
            " [1.00005e+05 0.00000e+00 1.00000e+00 ... 0.00000e+00 0.00000e+00\n",
            "  3.00000e+00]\n",
            " [1.00013e+05 0.00000e+00 1.00000e+00 ... 0.00000e+00 0.00000e+00\n",
            "  4.00000e+00]\n",
            " ...\n",
            " [4.56223e+05 0.00000e+00 0.00000e+00 ... 0.00000e+00 0.00000e+00\n",
            "  1.00000e+00]\n",
            " [4.56224e+05 0.00000e+00 1.00000e+00 ... 0.00000e+00 0.00000e+00\n",
            "  2.00000e+00]\n",
            " [4.56250e+05 0.00000e+00 0.00000e+00 ... 0.00000e+00 0.00000e+00\n",
            "  4.00000e+00]]\n",
            "The file cannot upload to Kaggle dependencies of Kaggle verification error\n"
          ]
        }
      ]
    }
  ]
}