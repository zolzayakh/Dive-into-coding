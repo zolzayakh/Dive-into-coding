{
  "nbformat": 4,
  "nbformat_minor": 0,
  "metadata": {
    "colab": {
      "name": "decision tree.ipynb",
      "provenance": [],
      "authorship_tag": "ABX9TyOWYYDuCCo7tKNNkXrDJOrc",
      "include_colab_link": true
    },
    "kernelspec": {
      "name": "python3",
      "display_name": "Python 3"
    },
    "language_info": {
      "name": "python"
    }
  },
  "cells": [
    {
      "cell_type": "markdown",
      "metadata": {
        "id": "view-in-github",
        "colab_type": "text"
      },
      "source": [
        "<a href=\"https://colab.research.google.com/github/zolzayakh/Dive-into-coding/blob/main/decision_tree.ipynb\" target=\"_parent\"><img src=\"https://colab.research.google.com/assets/colab-badge.svg\" alt=\"Open In Colab\"/></a>"
      ]
    },
    {
      "cell_type": "markdown",
      "source": [
        "**[Problem 1] Decision tree in scratch**"
      ],
      "metadata": {
        "id": "rekR7oqL6tlt"
      }
    },
    {
      "cell_type": "code",
      "execution_count": 1,
      "metadata": {
        "id": "GMvEPg-C6iij"
      },
      "outputs": [],
      "source": [
        "import numpy as np\n",
        "import collections\n",
        "\n",
        "class ScratchDecesionTreeClassifierDepth1():\n",
        "    \"\"\"\n",
        "    深さ1の決定木分類器のスクラッチ実装\n",
        "\n",
        "    Parameters\n",
        "    ----------\n",
        "    verbose : bool\n",
        "      学習過程を出力する場合はTrue\n",
        "    \"\"\"\n",
        "\n",
        "    def __init__(self, verbose=False):\n",
        "        # ハイパーパラメータを属性として記録\n",
        "        self.verbose = verbose\n",
        "\n",
        "    def fit(self, X, y):\n",
        "        \"\"\"\n",
        "        決定木分類器を学習する\n",
        "        Parameters\n",
        "        ----------\n",
        "        X : 次の形のndarray, shape (n_samples, n_features)\n",
        "            訓練データの特徴量\n",
        "        y : 次の形のndarray, shape (n_samples, )\n",
        "            訓練データの正解値\n",
        "        \"\"\"\n",
        "        self.gain = 0\n",
        "        for feature_index in range(X.shape[1]):\n",
        "          self.thresholds = np.unique(X[:,feature_index])\n",
        "          for threshold in self.thresholds:\n",
        "            _gain = self._calc_ig(X,feature_index,y,threshold)\n",
        "            if _gain > self.gain:\n",
        "                self.l_label = collections.Counter(y[X[:,feature_index] < threshold]).most_common()[0][0]\n",
        "                self.r_label = collections.Counter(y[X[:,feature_index] >= threshold]).most_common()[0][0]\n",
        "                self.feature = feature_index\n",
        "                self.threshold = threshold\n",
        "                self.gain = _gain\n",
        "                if self.verbose:\n",
        "                    print('feature',self.feature,'threshold',self.threshold,'gain',self.gain)\n",
        "\n",
        "    def predict(self, X):\n",
        "        \"\"\"\n",
        "        決定木分類器を使いラベルを推定する\n",
        "        \"\"\"\n",
        "        prediction = np.where(X[:,self.feature] < self.threshold,self.l_label,self.r_label)\n",
        "        return prediction\n",
        "\n",
        "    def _calc_gini(self, y):\n",
        "        labels,counts = np.unique(y,return_counts=True)\n",
        "        _gini = 0\n",
        "        for label in labels:\n",
        "          _gini += (counts[labels==label]/np.sum(counts))**2\n",
        "        gini = 1 - _gini\n",
        "        return gini\n",
        "\n",
        "    def _calc_ig(self,X,feature_index,y,threshold):\n",
        "        labels_l = y[X[:,feature_index] < threshold]\n",
        "        labels_r = y[X[:,feature_index] >= threshold]\n",
        "        gain_l = (len(labels_l)/(len(labels_l)+len(labels_r)))*self._calc_gini(labels_l)\n",
        "        gain_r = (len(labels_r)/(len(labels_l)+len(labels_r)))*self._calc_gini(labels_r)\n",
        "        gain = self._calc_gini(y) -gain_l -gain_r\n",
        "        return gain"
      ]
    },
    {
      "cell_type": "code",
      "source": [
        "import pandas as pd\n",
        "from sklearn.datasets import load_iris\n",
        "from sklearn.model_selection import train_test_split\n",
        "from sklearn.preprocessing import StandardScaler\n",
        "\n",
        "iris = load_iris()\n",
        "X = iris.data[:100,:]\n",
        "y = iris.target[:100]\n",
        "\n",
        "(X_train, X_test, y_train, y_test) = train_test_split(X, y, test_size=0.2)\n",
        "\n",
        "scaler = StandardScaler()\n",
        "scaler.fit(X_train)\n",
        "#transform both X_train and X_test\n",
        "X_train= scaler.transform(X_train)\n",
        "X_test= scaler.transform(X_test)"
      ],
      "metadata": {
        "id": "Z94JVX2L7AY4"
      },
      "execution_count": 2,
      "outputs": []
    },
    {
      "cell_type": "code",
      "source": [
        "clf = ScratchDecesionTreeClassifierDepth1(verbose = True)\n",
        "clf.fit(X_train,y_train)x"
      ],
      "metadata": {
        "colab": {
          "base_uri": "https://localhost:8080/"
        },
        "id": "MZuQRS9r7Bhb",
        "outputId": "cf2bc52a-0e14-48dc-d6b6-8f329e50fc59"
      },
      "execution_count": 3,
      "outputs": [
        {
          "output_type": "stream",
          "name": "stdout",
          "text": [
            "feature 0 threshold -1.6720987589963034 gain [0.00697785]\n",
            "feature 0 threshold -1.5204344724660273 gain [0.02147727]\n",
            "feature 0 threshold -1.3687701859357508 gain [0.02901316]\n",
            "feature 0 threshold -1.2171058994054733 gain [0.05285959]\n",
            "feature 0 threshold -1.065441612875197 gain [0.06987676]\n",
            "feature 0 threshold -0.9137773263449193 gain [0.09727941]\n",
            "feature 0 threshold -0.762113039814643 gain [0.11728408]\n",
            "feature 0 threshold -0.6104487532843668 gain [0.15485221]\n",
            "feature 0 threshold -0.45878446675408907 gain [0.24796875]\n",
            "feature 0 threshold -0.15545589369353516 gain [0.28199808]\n",
            "feature 0 threshold -0.0037916071632588606 gain [0.31880013]\n",
            "feature 2 threshold -0.84365662096377 gain [0.42875]\n",
            "feature 2 threshold -0.7056350878817628 gain [0.4743314]\n",
            "feature 2 threshold 0.05348334406927762 gain [0.49875]\n"
          ]
        }
      ]
    },
    {
      "cell_type": "code",
      "source": [
        "prediction_scratch = clf.predict(X_test)\n",
        "print (prediction_scratch)"
      ],
      "metadata": {
        "colab": {
          "base_uri": "https://localhost:8080/"
        },
        "id": "ov4OOujc7FWr",
        "outputId": "0fddaabc-eabc-45b9-cb9f-aa35f947ea66"
      },
      "execution_count": 4,
      "outputs": [
        {
          "output_type": "stream",
          "name": "stdout",
          "text": [
            "[0 0 1 0 1 0 1 0 1 1 0 1 0 0 0 0 1 1 0 0]\n"
          ]
        }
      ]
    },
    {
      "cell_type": "code",
      "source": [
        "# Decision tree in scratch vs Decision tree of scikit-learn\n",
        "\n",
        "from sklearn.metrics import accuracy_score\n",
        "from sklearn.metrics import precision_score\n",
        "from sklearn.metrics import recall_score\n",
        "from sklearn.metrics import f1_score\n",
        "\n",
        "#calculate evaluation metrics and add to evaluation_table\n",
        "def calculate_metrics_add_to_table(prediction_result, model_name, table_name, y_test):\n",
        "  d = {'accuracy':[accuracy_score(y_test, prediction_result)], 'precision':[precision_score(y_test, prediction_result, average='macro')], 'recall':[recall_score(y_test, prediction_result, average='macro')], 'F1 score': [f1_score(y_test, prediction_result, average='macro')]}\n",
        "  evaluation_result = pd.DataFrame(data=d, index=[model_name])\n",
        "  return table_name.append(evaluation_result)\n",
        "\n",
        "from sklearn import tree\n",
        "# define models and parameters\n",
        "model = tree.DecisionTreeClassifier(criterion='gini', max_depth=1).fit(X_train, y_train)\n",
        "prediction_DT = model.predict(X_test)\n",
        "\n",
        "\n",
        "\n",
        "\n",
        "print(\"-----DT of scikit-learn-------\")\n",
        "print(\"Accuracy:\", accuracy_score(prediction_DT, y_test))\n",
        "print(\"Prediction:\", precision_score(prediction_DT, y_test))\n",
        "print(\"Recall:\",recall_score(prediction_DT, y_test))\n",
        "print(\"F1_score:\", f1_score(prediction_DT, y_test))\n",
        "print(\"\\n-----DT of scratch-------\")\n",
        "print(\"Accuracy:\", accuracy_score(prediction_scratch, y_test))\n",
        "print(\"Prediction:\", precision_score(prediction_scratch, y_test))\n",
        "print(\"Recall:\",recall_score(prediction_scratch, y_test))\n",
        "print(\"F1_score:\", f1_score(prediction_scratch, y_test))\n"
      ],
      "metadata": {
        "colab": {
          "base_uri": "https://localhost:8080/"
        },
        "id": "5U9qqLef7H_g",
        "outputId": "b032fded-87b8-46af-e336-fdb1798cc31d"
      },
      "execution_count": 11,
      "outputs": [
        {
          "output_type": "stream",
          "name": "stdout",
          "text": [
            "-----DT of scikit-learn-------\n",
            "Accuracy: 0.85\n",
            "Prediction: 0.8\n",
            "Recall: 0.8888888888888888\n",
            "F1_score: 0.8421052631578948\n",
            "\n",
            "-----DT of scratch-------\n",
            "Accuracy: 0.6\n",
            "Prediction: 0.5\n",
            "Recall: 0.625\n",
            "F1_score: 0.5555555555555556\n"
          ]
        }
      ]
    },
    {
      "cell_type": "markdown",
      "source": [
        "**[Problem 6] Visualization of decision area**"
      ],
      "metadata": {
        "id": "XaLDF9YN7KCg"
      }
    },
    {
      "cell_type": "code",
      "source": [
        "X = iris.data[:100,:2]\n",
        "y = iris.target[:100]\n",
        "(X_train, X_test, y_train, y_test) = train_test_split(X, y, test_size=0.2)\n",
        "\n",
        "scaler = StandardScaler()\n",
        "scaler.fit(X_train)\n",
        "#transform both X_train and X_test\n",
        "X_train= scaler.transform(X_train)\n",
        "X_test= scaler.transform(X_test)\n",
        "\n",
        "clf = ScratchDecesionTreeClassifierDepth1(verbose = True)\n",
        "clf.fit(X_train,y_train)"
      ],
      "metadata": {
        "colab": {
          "base_uri": "https://localhost:8080/"
        },
        "id": "34qu0pcE7eV1",
        "outputId": "1443ce8d-4e32-49b6-ed46-35784a77b2a1"
      },
      "execution_count": 8,
      "outputs": [
        {
          "output_type": "stream",
          "name": "stdout",
          "text": [
            "feature 0 threshold -1.70094243632072 gain [0.00632911]\n",
            "feature 0 threshold -1.5473584691585787 gain [0.01948052]\n",
            "feature 0 threshold -1.3937745019964376 gain [0.02631579]\n",
            "feature 0 threshold -1.240190534834295 gain [0.04054054]\n",
            "feature 0 threshold -1.0866065676721537 gain [0.05555556]\n",
            "feature 0 threshold -0.9330226005100111 gain [0.08823529]\n",
            "feature 0 threshold -0.7794386333478699 gain [0.09570312]\n",
            "feature 0 threshold -0.6258546661857287 gain [0.15673981]\n",
            "feature 0 threshold -0.4722706990235861 gain [0.2399605]\n",
            "feature 0 threshold -0.31868673186144486 gain [0.25063939]\n",
            "feature 0 threshold -0.1651027646993023 gain [0.26698413]\n",
            "feature 0 threshold -0.011518797537161068 gain [0.32]\n"
          ]
        }
      ]
    },
    {
      "cell_type": "code",
      "source": [
        "from matplotlib.colors import ListedColormap\n",
        "import matplotlib.pyplot as plt\n",
        "\n",
        "\n",
        "def decision_region(X,y,slr):\n",
        "    mesh_f0, mesh_f1  = np.meshgrid(\n",
        "        np.arange(np.min(X[:,0]), np.max(X[:,0]), 0.01), \n",
        "        np.arange(np.min(X[:,1]), np.max(X[:,1]), 0.01)\n",
        "    )\n",
        "    mesh = np.c_[np.ravel(mesh_f0),np.ravel(mesh_f1)]\n",
        "    y_pred = slr.predict(mesh).reshape(mesh_f0.shape)\n",
        "    plt.title('decision region')\n",
        "    plt.xlabel('feature0')\n",
        "    plt.ylabel('feature1')\n",
        "    plt.contourf(mesh_f0, mesh_f1, y_pred,cmap=ListedColormap(['pink', 'skyblue']))\n",
        "    plt.contour(mesh_f0, mesh_f1, y_pred,colors='red')\n",
        "    plt.scatter(X[y==0][:, 0], X[y==0][:, 1],label='0')\n",
        "    plt.scatter(X[y==1][:, 0], X[y==1][:, 1],label='1')\n",
        "    plt.legend()\n",
        "    plt.show()\n",
        "\n",
        "decision_region(X_test, y_test, clf)"
      ],
      "metadata": {
        "colab": {
          "base_uri": "https://localhost:8080/",
          "height": 295
        },
        "id": "l-RtUInd7hve",
        "outputId": "314acb1a-c60e-468b-bacd-9b14bc248b75"
      },
      "execution_count": 9,
      "outputs": [
        {
          "output_type": "display_data",
          "data": {
            "text/plain": [
              "<Figure size 432x288 with 1 Axes>"
            ],
            "image/png": "[encoded data removed]"
          },
          "metadata": {
            "needs_background": "light"
          }
        }
      ]
    }
  ]
}